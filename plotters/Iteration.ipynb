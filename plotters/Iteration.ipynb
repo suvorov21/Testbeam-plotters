{
 "cells": [
  {
   "cell_type": "code",
   "execution_count": null,
   "metadata": {
    "tags": []
   },
   "outputs": [],
   "source": [
    "import ROOT\n",
    "from T2KStyle.T2KStyle import GetT2K\n",
    "style = GetT2K(3)\n",
    "%jsroot on\n",
    "ROOT.gROOT.SetStyle(\"T2K\")\n",
    "c = ROOT.TCanvas('c', '', 800, 600)\n",
    "cc = ROOT.TCanvas('cc', '', 800, 600)\n",
    "cw = ROOT.TCanvas('c2', '', 1600, 600)\n",
    "cl = ROOT.TCanvas('cl', '', 1600, 1200)\n",
    "cw3 = ROOT.TCanvas('c3', '', 2400, 600)"
   ]
  },
  {
   "cell_type": "code",
   "execution_count": null,
   "metadata": {
    "tags": []
   },
   "outputs": [],
   "source": [
    "# path = '/eos/user/s/ssuvorov/DESY_testbeam/cosmic_strict_v2/'\n",
    "path = '~/LXPLUS/DESY_testbeam/cosmic_cutfix/'\n",
    "voltage = '360'\n",
    "\n",
    "file_name = [path + '/g_' + voltage + '_200_100p',   # 0\n",
    "             path + '/g_' + voltage + '_200_95p',    # 1\n",
    "             path + '/g_' + voltage + '_200_90p',    # 2\n",
    "             path + '/g_' + voltage + '_200_80p',    # 3\n",
    "             path + '/g_' + voltage + '_200_3000',   # 4\n",
    "             path + '/g_' + voltage + '_200_2000',   # 5\n",
    "             path + '/g_' + voltage + '_200_95p_nbr', # 6\n",
    "             path + '/g_' + voltage + '_200_90p_nbr'] # 7\n",
    "\n",
    "title = ['100%', '95%', '90%', '80%', 'Q < 3000', 'Q < 2000', '95% - high charge neighbours', '90% - high charge neighbours']\n",
    "color = [ROOT.kRed, ROOT.kGreen, ROOT.kBlack, ROOT.kBlue, ROOT.kViolet, ROOT.kYellow, ROOT.kCyan, ROOT.kOrange, ROOT.kMagenta, ROOT.kAzure]\n",
    "N_iter = 9"
   ]
  },
  {
   "cell_type": "code",
   "execution_count": null,
   "metadata": {
    "tags": []
   },
   "outputs": [],
   "source": [
    "# path = '/eos/user/s/ssuvorov/DESY_testbeam/cosmic_strict_v2/'\n",
    "path = '~/LXPLUS/DESY_testbeam/cosmic_cutfix/'\n",
    "voltage = '360'\n",
    "\n",
    "file_name = [path + '/er2_feb_330V_1',\n",
    "             path + '/er2_feb_330V_2',\n",
    "             path + '/er2_feb_340V_1',\n",
    "             path + '/er2_feb_350V_1',\n",
    "             path + '/er2_feb_350V_2',\n",
    "             path + '/er2_feb_360V_1',\n",
    "             path + '/er2_feb_360V_2',\n",
    "             path + '/er2_feb_360V_3']\n",
    "\n",
    "\n",
    "title = ['330 V', '330 V', '340 V', '350 V', '350 V', '360 V', '360 V', '360 V']\n",
    "color = [ROOT.kRed, ROOT.kGreen, ROOT.kBlack, ROOT.kBlue, ROOT.kViolet, ROOT.kYellow, ROOT.kCyan, ROOT.kOrange, ROOT.kMagenta, ROOT.kAzure]\n",
    "N_iter = 9"
   ]
  },
  {
   "cell_type": "code",
   "execution_count": null,
   "metadata": {
    "tags": []
   },
   "outputs": [],
   "source": [
    "# 0 - desy\n",
    "# 1 - mm1\n",
    "# 2 - er2\n",
    "# 3 - er3\n",
    "\n",
    "# 4 - DESY cosmic\n",
    "path = '~/LXPLUS/DESY_testbeam/xtalk_ref/'\n",
    "# path = '/eos/user/s/ssuvorov/DESY_testbeam/cosmic_strict_v2/'\n",
    "voltage = '360'\n",
    "\n",
    "file_name = [path + '../tree/g_' + voltage + '_200_100p']   # 0 \n",
    "file_name.append(path + '/mm1_' + voltage + 'V_200ns')      # 1\n",
    "file_name.append(path + '/er2_' + voltage + 'V')            # 2\n",
    "file_name.append(path + '/er3_' + voltage + 'V')            # 3\n",
    "\n",
    "# file.append(ROOT.TFile('~/LXPLUS/DESY_testbeam/multi_pad/c_0d_0p2T_200ns_50Mhz_dedx.root'))\n",
    "file_name.append(path + '/c_0d_0T_200ns_25Mhz')             # 4\n",
    "\n",
    "file_name.append(path + '/mm1_nov_360')                     # 5\n",
    "file_name.append(path + '/mm1_nov_370')                     # 6\n",
    "file_name.append(path + '/mm1_nov_380')                     # 7\n",
    "\n",
    "file_name.append(path + '/er2_dec_360V')                     # 8\n",
    "\n",
    "file_name.append(path + '../cosmic_cutfi/er2_feb_340V')  # 9\n",
    "file_name.append(path + '../cosmic_cutfi/er2_feb_330V')  # 10\n",
    "\n",
    "title = ['DESY beam', 'MM1', 'ERAM2', 'ERAM3', 'DESY_cosmic 360V', 'MM1 November 360V', 'MM1 November 370V', 'MM1 November 380V', 'ERAM2 December 360V', 'ERAM2 February 350V', 'ERAM2 February 330V']\n",
    "color = [ROOT.kBlack, ROOT.kRed, ROOT.kGreen, ROOT.kBlue, ROOT.kViolet, ROOT.kCyan, ROOT.kSpring, ROOT.kYellow, ROOT.kAzure, ROOT.kBlack, ROOT.kRed]"
   ]
  },
  {
   "cell_type": "code",
   "execution_count": null,
   "metadata": {
    "tags": []
   },
   "outputs": [],
   "source": [
    "path = '~/LXPLUS/DESY_testbeam/xtalk_ref/'\n",
    "path_s = '~/LXPLUS/DESY_testbeam/xtalk_sup/'\n",
    "\n",
    "pref = 'iter9'\n",
    "\n",
    "file = [ROOT.TFile(path + '/mm1_360V_200ns_' + pref + '.root')]\n",
    "# file.append(ROOT.TFIle(path_s + '/mm1_360V_200ns_' + pref + '.root'))\n",
    "file.append(ROOT.TFile(path + '/mm1_380V_200ns_' + pref + '.root'))\n",
    "file.append(ROOT.TFile(path_s + '/mm1_380V_200ns_' + pref + '.root'))\n",
    "file.append(ROOT.TFile(path + '/er2_360V_' + pref + '.root'))\n",
    "file.append(ROOT.TFile(path_s + '/er2_360V_' + pref + '.root'))\n",
    "file.append(ROOT.TFile(path + '/er2_380V_' + pref + '.root'))\n",
    "file.append(ROOT.TFile(path_s + '/er2_380V_' + pref + '.root'))\n",
    "file.append(ROOT.TFile(path + '/er3_360V_' + pref + '.root'))\n",
    "file.append(ROOT.TFile(path_s + '/er3_360V_' + pref + '.root'))\n",
    "file.append(ROOT.TFile(path + '/er3_380V_' + pref + '.root'))\n",
    "file.append(ROOT.TFile(path_s + '/er3_380V_' + pref + '.root'))\n",
    "\n",
    "# file.append(ROOT.TFile('~/LXPLUS/DESY_testbeam/multi_pad/c_0d_0p2T_200ns_50Mhz_dedx.root'))\n",
    "# file.append(ROOT.TFile(path + '/c_0d_0T_200ns_25Mhz_' + pref + '.root'))\n",
    "\n",
    "file.append(ROOT.TFile(path + '/mm1_nov_360_' + pref + '.root'))\n",
    "file.append(ROOT.TFile(path_s + '/mm1_nov_360_' + pref + '.root'))\n",
    "file.append(ROOT.TFile(path + '/mm1_nov_370_' + pref + '.root'))\n",
    "file.append(ROOT.TFile(path_s + '/mm1_nov_370_' + pref + '.root'))\n",
    "file.append(ROOT.TFile(path + '/mm1_nov_380_' + pref + '.root'))\n",
    "file.append(ROOT.TFile(path_s + '/mm1_nov_380_' + pref + '.root'))\n",
    "\n",
    "title = ['MM1 360V', #0\n",
    "#         'MM1 360V sup', #1\n",
    "        'MM1 380V', #2\n",
    "        'MM1 380V sup', #3\n",
    "        'ERAM2 360V', #4\n",
    "        'ERAM2 360V sup', #5\n",
    "        'ERAM2 380V', #6\n",
    "        'ERAM2 380V sup', #7\n",
    "        'ERAM3 360V', #8\n",
    "        'ERAM3 360V sup', #9\n",
    "        'ERAM3 380V', #10\n",
    "        'ERAM3 380V sup', #11\n",
    "        'MM1 November 360V', #12\n",
    "        'MM1 November 360V sup', #13\n",
    "        'MM1 November 370V', #14\n",
    "        'MM1 November 370V sup', #15\n",
    "        'MM1 November 380V', #16\n",
    "        'MM1 November 380V sup', #17\n",
    "       ]\n",
    "color = [ROOT.kRed, ROOT.kGreen, ROOT.kBlue, ROOT.kViolet, ROOT.kCyan, ROOT.kMagenta, ROOT.kYellow, ROOT.kAzure, ROOT.kSpring, ROOT.kPink, ROOT.kGray, ROOT.kOrange, ROOT.kCyan, ROOT.kMagenta, ROOT.kYellow, ROOT.kAzure, ROOT.kSpring]\n",
    "file_list = [1, 2, 15, 16]"
   ]
  },
  {
   "cell_type": "code",
   "execution_count": null,
   "metadata": {
    "tags": []
   },
   "outputs": [],
   "source": [
    "path = '~/DATA/phi/'\n",
    "file_name = [path + '/g_360_200_nt',         # 0\n",
    "             path + '/g_360_200_ped',        # 1\n",
    "             path + '/g_360_200_time_v2',    # 2\n",
    "             path + '/g_360_200_time_v3',    # 3\n",
    "             path + '/g_360_200_pois_ped']   # 4\n",
    "title = ['#sqrt{Q}', 'Pedestals', '#sqrt{Q} + time', 'charge + time v2', '#sqrt{Q} + pedestal']\n",
    "color = [ROOT.kRed, ROOT.kGreen, ROOT.kBlack, ROOT.kBlue, ROOT.kViolet, ROOT.kYellow, ROOT.kCyan, ROOT.kOrange, ROOT.kSpring, ROOT.kAzure]"
   ]
  },
  {
   "cell_type": "code",
   "execution_count": null,
   "metadata": {
    "tags": []
   },
   "outputs": [],
   "source": [
    "# 0 - desy\n",
    "# 1 - mm1\n",
    "# 2 - er2\n",
    "# 3 - er3\n",
    "\n",
    "# 4 - DESY cosmic\n",
    "path = '~/LXPLUS/DESY_testbeam/xtalk_sup/'\n",
    "# path = '/eos/user/s/ssuvorov/DESY_testbeam/cosmic_strict_v2/'\n",
    "voltage = '360'\n",
    "\n",
    "file_name = [path + '../tree/g_' + voltage + '_200_100p']   # 0 \n",
    "file_name.append(path + '/mm1_360V_200ns')      # 1\n",
    "file_name.append(path + '/mm1_370V_200ns')      # 2\n",
    "file_name.append(path + '/mm1_380V_200ns')      # 3\n",
    "\n",
    "\n",
    "# file.append(ROOT.TFile('~/LXPLUS/DESY_testbeam/multi_pad/c_0d_0p2T_200ns_50Mhz_dedx.root'))\n",
    "file_name.append(path + '/c_0d_0T_200ns_25Mhz')             # 4\n",
    "\n",
    "file_name.append(path + '/mm1_nov_360')                     # 5\n",
    "file_name.append(path + '/mm1_nov_370')                     # 6\n",
    "file_name.append(path + '/mm1_nov_380')                     # 7\n",
    "\n",
    "title = ['DESY beam', 'MM1 360V', 'MM1 370V', 'MM1 380V', 'DESY_cosmic 360V', 'MM1 November 360V', 'MM1 November 370V', 'MM1 November 380V']\n",
    "color = [ROOT.kBlack, ROOT.kRed, ROOT.kGreen, ROOT.kBlue, ROOT.kViolet, ROOT.kCyan, ROOT.kSpring, ROOT.kYellow]"
   ]
  },
  {
   "cell_type": "code",
   "execution_count": null,
   "metadata": {
    "tags": []
   },
   "outputs": [],
   "source": [
    "path = '~/LXPLUS/DESY_testbeam/time_para/'\n",
    "dist = '530'\n",
    "file_name = [path + f'/p_116_{dist}',    # 0\n",
    "             path + f'/p_200_{dist}',    # 1\n",
    "             path + f'/p_412_{dist}',    # 2\n",
    "             path + f'/p_505_{dist}',    # 3\n",
    "             path + f'/p_610_{dist}']    # 4\n",
    "title = ['116 ns', '200 ns', '412 ns', '505 ns', '610 ns']\n",
    "color = [ROOT.kRed, ROOT.kGreen, ROOT.kBlack, ROOT.kBlue, ROOT.kViolet, ROOT.kYellow, ROOT.kCyan, ROOT.kOrange, ROOT.kSpring, ROOT.kAzure]"
   ]
  },
  {
   "cell_type": "code",
   "execution_count": null,
   "metadata": {
    "tags": []
   },
   "outputs": [],
   "source": [
    "path = '~/LXPLUS/DESY_testbeam/z_scan3/'\n",
    "peacking = '412'\n",
    "file_name1 = [path + f'/z_360_275_{peacking}_0T_410',    # 0\n",
    "             path + f'/z_360_275_{peacking}_0T_430',    # 1\n",
    "             path + f'/z_360_275_{peacking}_0T_450',    # 2\n",
    "             path + f'/z_360_275_{peacking}_0T_470',    # 3\n",
    "             path + f'/z_360_275_{peacking}_0T_490',    # 4\n",
    "             path + f'/z_360_275_{peacking}_0T_510',    # 5\n",
    "             path + f'/z_360_275_{peacking}_0T_530',    # 6\n",
    "             path + f'/z_360_275_{peacking}_0T_550']    # 7\n",
    "peacking = '200'\n",
    "file_name2 = [path + f'/z_360_275_{peacking}_0T_410',    # 0\n",
    "             path + f'/z_360_275_{peacking}_0T_430',    # 1\n",
    "             path + f'/z_360_275_{peacking}_0T_450',    # 2\n",
    "             path + f'/z_360_275_{peacking}_0T_470',    # 3\n",
    "             path + f'/z_360_275_{peacking}_0T_490',    # 4\n",
    "             path + f'/z_360_275_{peacking}_0T_510',    # 5\n",
    "             path + f'/z_360_275_{peacking}_0T_530',    # 6\n",
    "             path + f'/z_360_275_{peacking}_0T_550']    # 7\n",
    "file_name3 = [path + f'/z_360_275_{peacking}_02T_410',    # 0\n",
    "             path + f'/z_360_275_{peacking}_02T_430',    # 1\n",
    "             path + f'/z_360_275_{peacking}_02T_450',    # 2\n",
    "             path + f'/z_360_275_{peacking}_02T_470',    # 3\n",
    "             path + f'/z_360_275_{peacking}_02T_490',    # 4\n",
    "             path + f'/z_360_275_{peacking}_02T_510',    # 5\n",
    "             path + f'/z_360_275_{peacking}_02T_530',    # 6\n",
    "             path + f'/z_360_275_{peacking}_02T_550']    # 7\n",
    "peacking = '412'\n",
    "file_name4 = [path + f'/z_360_275_{peacking}_02T_410',    # 0\n",
    "             path + f'/z_360_275_{peacking}_02T_430',    # 1\n",
    "             path + f'/z_360_275_{peacking}_02T_450',    # 2\n",
    "             path + f'/z_360_275_{peacking}_02T_470',    # 3\n",
    "             path + f'/z_360_275_{peacking}_02T_490',    # 4\n",
    "             path + f'/z_360_275_{peacking}_02T_510',    # 5\n",
    "             path + f'/z_360_275_{peacking}_02T_530',    # 6\n",
    "             path + f'/z_360_275_{peacking}_02T_550']    # 7\n",
    "title = ['410 mm', '430 mm', '450 mm', '470 mm', '490 mm', '510 mm', '530 mm', '550 mm']\n",
    "x_axis = [410, 430, 450, 470, 490, 510, 530, 550]\n",
    "color = [ROOT.kRed, ROOT.kGreen, ROOT.kBlack, ROOT.kBlue, ROOT.kViolet, ROOT.kYellow, ROOT.kCyan, ROOT.kOrange, ROOT.kSpring, ROOT.kAzure]"
   ]
  },
  {
   "cell_type": "code",
   "execution_count": null,
   "metadata": {
    "tags": []
   },
   "outputs": [],
   "source": [
    "peacking = '400'\n",
    "path = '~/LXPLUS/DESY_testbeam/cosmic_review/'\n",
    "file_name1 = [path + f'/er2_feb_{peacking}ns_360V',    # 0\n",
    "             path + f'/er2_feb_{peacking}ns_340V',    # 1\n",
    "             path + f'/er2_feb_{peacking}ns_330V',    # 2\n",
    "             path + f'/er2_feb_{peacking}ns_365V',    # 3\n",
    "             path + f'/er2_feb_{peacking}ns_345V']    # 4\n",
    "x_axis1 = [360, 340, 330, 365, 345]\n",
    "peacking = '200'\n",
    "path = '~/LXPLUS/DESY_testbeam/cosmic_review/'\n",
    "file_name2 = [path + f'/er2_feb_{peacking}ns_360V',    # 0\n",
    "             path + f'/er2_feb_{peacking}ns_350V',    # 1\n",
    "             path + f'/er2_feb_{peacking}ns_355V',    # 2\n",
    "             path + f'/er2_feb_{peacking}ns_365V']    # 3\n",
    "x_axis2 = [360, 340, 355, 365]\n",
    "\n",
    "peacking = '505'\n",
    "file_name3 = [path + f'er2_feb_{peacking}ns_350V']\n",
    "peacking = '610'\n",
    "file_name4 = [path + f'er2_feb_{peacking}ns_350V']\n",
    "x_axis3 = [350]"
   ]
  },
  {
   "cell_type": "code",
   "execution_count": null,
   "metadata": {
    "tags": []
   },
   "outputs": [],
   "source": [
    "peacking = '412'\n",
    "path = '~/LXPLUS/DESY_testbeam/final_v3/'\n",
    "file_name = [path + f'/g_330_{peacking}',    # 0\n",
    "             path + f'/g_340_{peacking}',    # 1\n",
    "             path + f'/g_350_{peacking}',    # 2\n",
    "             path + f'/g_360_{peacking}',    # 3\n",
    "             path + f'/g_370_{peacking}',    # 4\n",
    "             path + f'/g_380_{peacking}',    # 5\n",
    "             path + f'/g_390_{peacking}',    # 6\n",
    "             path + f'/g_400_{peacking}']    # 7\n",
    "\n",
    "x_axis = [330, 340, 350, 360, 370, 380, 390, 400]"
   ]
  },
  {
   "cell_type": "code",
   "execution_count": null,
   "metadata": {
    "tags": []
   },
   "outputs": [],
   "source": [
    "peacking = '412'\n",
    "path = '~/LXPLUS/DESY_testbeam/final_v3/'\n",
    "file_name = [path + f'/m_5_{peacking}',    # 0\n",
    "             path + f'/m_4_{peacking}',    # 1\n",
    "             path + f'/m_3_{peacking}',    # 2\n",
    "             path + f'/m_2_{peacking}',    # 3\n",
    "             path + f'/m_1_{peacking}',    # 4\n",
    "             path + f'/m_0p5_{peacking}']    # 5\n",
    "\n",
    "x_axis = [5, 4, 3, 2, 1, 0.5]"
   ]
  },
  {
   "cell_type": "code",
   "execution_count": null,
   "metadata": {
    "tags": []
   },
   "outputs": [],
   "source": [
    "path = '~/LXPLUS/DESY_testbeam/hs_ind_freec/'\n",
    "file_name = [path + 's_412_430_02T',\n",
    "            path + '../hs_prom_cut/s_412_430_02T']\n",
    "title = ['Default', \"Prominence > 0.6\"]\n",
    "color = [ROOT.kBlack, ROOT.kRed, ROOT.kGreen, ROOT.kBlue, ROOT.kViolet, ROOT.kCyan, ROOT.kSpring, ROOT.kYellow]"
   ]
  },
  {
   "cell_type": "markdown",
   "metadata": {},
   "source": [
    "## DESY 2021"
   ]
  },
  {
   "cell_type": "markdown",
   "metadata": {},
   "source": [
    "Coarse Z"
   ]
  },
  {
   "cell_type": "code",
   "execution_count": null,
   "metadata": {
    "tags": []
   },
   "outputs": [],
   "source": [
    "path = '/eos/user/s/ssuvorov/DESY_testbeam2021/coarse/'\n",
    "volt = '275'\n",
    "time = '412'\n",
    "file_name = [path + f'/z_{time}ns_{volt}V_860',\n",
    "             path + f'/z_{time}ns_{volt}V_660',\n",
    "             path + f'/z_{time}ns_{volt}V_460',\n",
    "             path + f'/z_{time}ns_{volt}V_260',\n",
    "             path + f'/z_{time}ns_{volt}V_60'\n",
    "            ]\n",
    "title = ['860 mm', '660 mm', '460 mm', '260 mm', '60 mm']\n",
    "color = [ROOT.kRed, ROOT.kGreen, ROOT.kBlack, ROOT.kBlue, ROOT.kViolet, ROOT.kYellow, ROOT.kCyan, ROOT.kOrange, ROOT.kSpring, ROOT.kAzure]"
   ]
  },
  {
   "cell_type": "markdown",
   "metadata": {},
   "source": [
    "Gain "
   ]
  },
  {
   "cell_type": "code",
   "execution_count": null,
   "metadata": {
    "tags": []
   },
   "outputs": [],
   "source": [
    "path = '/eos/user/s/ssuvorov/DESY_testbeam2021/coarse/'\n",
    "volt = '275'\n",
    "time = '412'\n",
    "file_name = [path + f'/g_350',\n",
    "             path + f'/g_330',\n",
    "             path + f'/g_340',\n",
    "             path + f'/g_360',\n",
    "             path + f'/g_370'\n",
    "            ]\n",
    "title = ['350 V', '330 V', '340 V', '360 V', '370 V']\n",
    "value = [350, 330, 340, 360, 370]\n",
    "\n",
    "color = [ROOT.kRed, ROOT.kGreen, ROOT.kBlack, ROOT.kBlue, ROOT.kViolet, ROOT.kYellow, ROOT.kCyan, ROOT.kOrange, ROOT.kSpring, ROOT.kAzure]"
   ]
  },
  {
   "cell_type": "markdown",
   "metadata": {},
   "source": [
    "precise Z scan"
   ]
  },
  {
   "cell_type": "code",
   "execution_count": null,
   "metadata": {
    "tags": []
   },
   "outputs": [],
   "source": [
    "path = '/eos/experiment/neutplatform/np07/HAT/DESY_2021/ana_output/z_scan2/'\n",
    "volt = '275'\n",
    "time = '412'\n",
    "file_name = [path + f'/z_{time}ns_{volt}V_860',\n",
    "             path + f'/z_{time}ns_{volt}V_760',\n",
    "             path + f'/z_{time}ns_{volt}V_660',\n",
    "             path + f'/z_{time}ns_{volt}V_560',\n",
    "             path + f'/z_{time}ns_{volt}V_460',\n",
    "             path + f'/z_{time}ns_{volt}V_360',\n",
    "             path + f'/z_{time}ns_{volt}V_260',\n",
    "             path + f'/z_{time}ns_{volt}V_160',\n",
    "             path + f'/z_{time}ns_{volt}V_60',\n",
    "             path + f'/z_{time}ns_{volt}V_m40'\n",
    "            ]\n",
    "title = ['860 mm', '760 mm', '660 mm', '560 mm', '460 mm', '360 mm', '260 mm', '160 mm', '60 mm', '-40 mm']\n",
    "value = [860, 760, 660, 560, 460, 360, 260, 160, 60, -40]\n",
    "\n",
    "volt = '140'\n",
    "file_name2 = [path + f'/z_{time}ns_{volt}V_860', # 0\n",
    "              path + f'/z_{time}ns_{volt}V_760',\n",
    "              path + f'/z_{time}ns_{volt}V_660',\n",
    "              path + f'/z_{time}ns_{volt}V_560',\n",
    "              path + f'/z_{time}ns_{volt}V_460',\n",
    "              path + f'/z_{time}ns_{volt}V_360',\n",
    "              path + f'/z_{time}ns_{volt}V_260',\n",
    "              path + f'/z_{time}ns_{volt}V_160',\n",
    "              path + f'/z_{time}ns_{volt}V_60',\n",
    "              path + f'/z_{time}ns_{volt}V_m40' # 9\n",
    "             ]\n",
    "\n",
    "value2 = [860, 760, 660, 560, 460, 360, 260, 160, 60, -40]\n",
    "\n",
    "color = [ROOT.kRed, ROOT.kGreen, ROOT.kBlack, ROOT.kBlue, ROOT.kViolet, ROOT.kYellow, ROOT.kCyan, ROOT.kOrange, ROOT.kSpring, ROOT.kAzure]"
   ]
  },
  {
   "cell_type": "markdown",
   "metadata": {},
   "source": [
    "Y scan"
   ]
  },
  {
   "cell_type": "code",
   "execution_count": null,
   "metadata": {
    "tags": []
   },
   "outputs": [],
   "source": [
    "path = '/eos/experiment/neutplatform/np07/HAT/DESY_2021/ana_output/y_scan/'\n",
    "volt = '275'\n",
    "time = '412'\n",
    "file_name = [path + f'/y_0', # 0\n",
    "             path + f'/y_40',\n",
    "             path + f'/y_20',\n",
    "             path + f'/y_60',\n",
    "             path + f'/y_80',\n",
    "             path + f'/y_100',\n",
    "             path + f'/y_m20',\n",
    "             path + f'/y_m40',\n",
    "             path + f'/y_m60',\n",
    "             path + f'/y_m80',\n",
    "             path + f'/y_m100',\n",
    "             path + f'/y_m120',\n",
    "             path + f'/y_m140',\n",
    "             path + f'/y_m150',\n",
    "             path + f'/y_m170' # 14\n",
    "            ]\n",
    "title = ['0 mm', '40 mm', '20 mm', '60 mm', '80 mm', '100 mm', '-20 mm', '-40 mm', '-60 mm', '-80 mm', '-100 mm', '-120 mm', '-140 mm', '-150 mm', '-170 mm']\n",
    "value = [0, 40, 20, 60, 80, 100, -20, -40, -60, -80, -100, -120, -140, -150, -170]\n",
    "color = [ROOT.kRed, ROOT.kGreen, ROOT.kBlack, ROOT.kBlue, ROOT.kViolet, ROOT.kYellow, ROOT.kCyan, ROOT.kOrange, ROOT.kSpring, ROOT.kAzure, ROOT.kRed, ROOT.kGreen, ROOT.kBlack, ROOT.kBlue, ROOT.kViolet, ROOT.kYellow, ROOT.kCyan, ROOT.kOrange, ROOT.kSpring, ROOT.kAzure]"
   ]
  },
  {
   "cell_type": "markdown",
   "metadata": {},
   "source": [
    "## Resolution scan over iterations"
   ]
  },
  {
   "cell_type": "code",
   "execution_count": null,
   "metadata": {
    "tags": []
   },
   "outputs": [],
   "source": [
    "res_evo = []\n",
    "mg = ROOT.TMultiGraph()\n",
    "N_iter = 6\n",
    "limit = 0.003\n",
    "for f in range(len(file_name)):\n",
    "    res_evo.append(ROOT.TGraphErrors())\n",
    "#     print(title[f])\n",
    "    for it in range(N_iter):\n",
    "        file = ROOT.TFile(file_name[f] + '_iter' + str(it) + '.root')\n",
    "        res = file.Get('resol_total')\n",
    "        res.Fit('gaus', 'Q', '', -1.*limit, limit)\n",
    "        fit_res = res.GetFunction(\"gaus\");\n",
    "        sigma = fit_res.GetParameter(2);\n",
    "        sigma_e = fit_res.GetParError(2);\n",
    "#         print(it, sigma*1e6)\n",
    "        res_evo[-1].SetPoint(it, it, sigma*1e6)\n",
    "        res_evo[-1].SetPointError(it-1, sigma_e) \n",
    "    res_evo[-1].SetTitle(title[f])\n",
    "    res_evo[-1].SetMarkerColor(color[f])\n",
    "    mg.Add(res_evo[-1])"
   ]
  },
  {
   "cell_type": "code",
   "execution_count": null,
   "metadata": {
    "tags": []
   },
   "outputs": [],
   "source": [
    "%jsroot on\n",
    "c.Clear()\n",
    "mg.GetXaxis().SetRangeUser(-1, 10)\n",
    "mg.GetXaxis().SetTitle('Iteration')\n",
    "mg.GetYaxis().SetTitle('Resolution [#mum]')\n",
    "mg.SetMinimum(0.)\n",
    "mg.SetMaximum(1000.)\n",
    "mg.Draw('ap')\n",
    "c.BuildLegend()\n",
    "c.SetGrid()\n",
    "c.Draw()"
   ]
  },
  {
   "cell_type": "markdown",
   "metadata": {},
   "source": [
    "## Residuals\n",
    "Plot residuals for different samples"
   ]
  },
  {
   "cell_type": "code",
   "execution_count": null,
   "metadata": {
    "tags": []
   },
   "outputs": [],
   "source": [
    "%jsroot on\n",
    "c.cd()\n",
    "it = 8\n",
    "file = []\n",
    "res = []\n",
    "hs = ROOT.THStack()\n",
    "file_list = [0, 1, 2, 3, 4, 5, 6, 7, 8, 9]\n",
    "# for num, f in enumerate([4, 5]):\n",
    "for num, f in enumerate(file_list):\n",
    "# for f in [0]:\n",
    "    file.append(ROOT.TFile(file_name[f] + '_iter' + str(it) + '.root'))\n",
    "    res.append(file[-1].Get('resol_total'))\n",
    "#     res.append(file[f].Get('resol_total'))\n",
    "    res[-1].SetLineColor(color[num])\n",
    "    res[-1].SetTitle(title[f])\n",
    "    res[-1].Scale(1./res[-1].Integral())\n",
    "    res[-1].GetFunction('gaus').SetLineColor(ROOT.kWhite)\n",
    "    print(res[-1].GetFunction('gaus').GetParameter(2)*1e6)\n",
    "    hs.Add(res[-1])\n",
    "    \n",
    "hs.Draw('histo nostack')\n",
    "hs.GetXaxis().SetTitle('Residual [m]')\n",
    "c.Draw()\n",
    "c.BuildLegend()"
   ]
  },
  {
   "cell_type": "markdown",
   "metadata": {},
   "source": [
    "Compare residuals for CoC and PRF for two files"
   ]
  },
  {
   "cell_type": "code",
   "execution_count": null,
   "metadata": {
    "tags": []
   },
   "outputs": [],
   "source": [
    "cw.cd()\n",
    "cw.Clear()\n",
    "cw.Divide(2)\n",
    "\n",
    "N_iter = 9\n",
    "\n",
    "ROOT.gStyle.SetOptTitle(1)\n",
    "it = [0, N_iter-1]\n",
    "color = [ROOT.kBlack, ROOT.kRed]\n",
    "hs = []\n",
    "res = []\n",
    "file = []\n",
    "\n",
    "ci = 1\n",
    "# files from the list\n",
    "for f in [2, 9]:\n",
    "    cw.cd(ci)\n",
    "    ci += 1\n",
    "    hs.append(ROOT.THStack('hs', title[f]))\n",
    "    for i in range(len(it)):\n",
    "        file.append(ROOT.TFile(file_name[f] + '_iter' + str(it[i]) + '.root'))\n",
    "        res.append(file[-1].Get('resol_total'))\n",
    "        res[-1].SetLineColor(color[i])\n",
    "#         if i != 0:\n",
    "#             res[-1].Fit('gaus', 'Q')\n",
    "#             print(res[-1].GetMean(), res[-1].GetFunction('gaus').GetParameter(1))\n",
    "        hs[-1].Add(res[-1])\n",
    "    hs[-1].Draw('nostack')\n",
    "    hs[-1].GetXaxis().SetRangeUser(-5e-3, 5e-3)\n",
    "cw.Draw()        "
   ]
  },
  {
   "cell_type": "markdown",
   "metadata": {},
   "source": [
    "## Unbiases residual over column"
   ]
  },
  {
   "cell_type": "code",
   "execution_count": null,
   "metadata": {
    "tags": []
   },
   "outputs": [],
   "source": [
    "%jsroot on\n",
    "c.cd()\n",
    "it = 9\n",
    "limit = 0.003\n",
    "MMpos = -92.36\n",
    "ROOT.gStyle.SetOptTitle(0)\n",
    "gr = ROOT.TGraphErrors()\n",
    "gra = []\n",
    "for num, f in enumerate(file_name):\n",
    "    file = ROOT.TFile(f + '_iter' + str(it) + '.root')\n",
    "#     print(f, end='\\r')\n",
    "    res = []\n",
    "    gra.append(ROOT.TGraph())\n",
    "    gra[-1].SetTitle(title[num])\n",
    "    for i in range(1, 36):\n",
    "        tmp = ROOT.TH1F(f'h_1_{i}', '', 200, -0.005, 0.005)\n",
    "        file.outtree.Project(f'h_1_{i}', 'residual_corr', f'residual_corr > -0.005 && pad_x == {i}')\n",
    "        tmp.Fit('gaus', 'Q', '', -limit, limit)\n",
    "        if tmp.GetFunction('gaus'):\n",
    "            res.append(tmp.GetFunction('gaus').GetParameter(2))\n",
    "            gra[-1].SetPoint(gra[-1].GetN(), i, tmp.GetFunction('gaus').GetParameter(2) * 1e6)\n",
    "\n",
    "    mean = 0\n",
    "    n = 0\n",
    "    for e in res: mean += e; n += 1;\n",
    "    if n == 0:\n",
    "        continue\n",
    "    mean /=n\n",
    "    rms = 0\n",
    "    for e in res:\n",
    "        rms += (e - mean)**2\n",
    "    rms = rms ** 0.5\n",
    "    rms /= n**0.5\n",
    "\n",
    "    x = value[num] - MMpos if value[num] - MMpos > 0 else 0.\n",
    "#     print(x, mean*1e6)\n",
    "    gr.SetPoint(gr.GetN(), x/10, mean*1e2)\n",
    "    print(x/10, mean*1e2)\n",
    "    gr.SetPointError(gr.GetN()-1, 0., rms*1e2)\n",
    "    \n",
    "# gr1 = ROOT.TGraphErrors()\n",
    "# it = 9\n",
    "# for num, f in enumerate(file_name2):\n",
    "#     print(f, end='\\r')\n",
    "#     file = ROOT.TFile(f + '_iter' + str(it) + '.root')\n",
    "    \n",
    "#     res = []\n",
    "#     for i in range(1, 36):\n",
    "#         tmp = ROOT.TH1F(f'h_2_{i}', '', 200, -0.005, 0.005)\n",
    "#         file.outtree.Project(f'h_2_{i}', 'residual_corr', f'residual_corr > -0.005 && pad_x == {i}')\n",
    "#         tmp.Fit('gaus', 'Q', '', -limit, limit)\n",
    "#         if tmp.GetFunction('gaus'):\n",
    "#             res.append(tmp.GetFunction('gaus').GetParameter(2))\n",
    "\n",
    "#     mean = 0\n",
    "#     n = 0\n",
    "#     for e in res: mean += e; n += 1;\n",
    "#     if n == 0:\n",
    "#         continue\n",
    "#     mean /=n\n",
    "#     rms = 0\n",
    "#     for e in res:\n",
    "#         rms += (e - mean)**2\n",
    "#     rms = rms ** 0.5\n",
    "#     rms /= n**0.5\n",
    "\n",
    "#     x = value[num] - MMpos if value[num] - MMpos > 0 else 0.\n",
    "#     gr1.SetPoint(gr1.GetN(), x/10, mean*1e3)\n",
    "#     print(x/10, mean*1e3)\n",
    "#     gr1.SetPointError(gr1.GetN()-1, 0., rms*1e3)"
   ]
  },
  {
   "cell_type": "code",
   "execution_count": null,
   "metadata": {
    "tags": []
   },
   "outputs": [],
   "source": [
    "file_out = ROOT.TFile(\"summary.root\", \"RECREATE\")\n",
    "gr.SetName(\"data_zscan_mean\")\n",
    "gr.Write()\n",
    "file_out.Close()"
   ]
  },
  {
   "cell_type": "code",
   "execution_count": null,
   "metadata": {
    "tags": []
   },
   "outputs": [],
   "source": [
    "c.cd()\n",
    "gr.Draw('ap')\n",
    "# gr.SetTitle('275 V/m')\n",
    "gr.GetYaxis().SetRangeUser(0., 500.)\n",
    "gr.GetYaxis().SetTitle('Resolution [#mum]')\n",
    "gr.GetXaxis().SetTitle('Drift distance [mm]')\n",
    "gr.GetXaxis().SetRangeUser(-10., 1000.)\n",
    "\n",
    "\n",
    "gr1.SetTitle('145 V/m')\n",
    "gr1.SetMarkerStyle(22)\n",
    "gr1.SetMarkerColor(ROOT.kRed)\n",
    "gr1.SetLineColor(ROOT.kRed)\n",
    "# gr1.Draw('same p')\n",
    "\n",
    "\n",
    "c.Draw()\n",
    "# c.BuildLegend()\n",
    "\n",
    "cc.cd()\n",
    "gra[0].Draw('ap')\n",
    "gra[0].GetYaxis().SetRangeUser(0, 500)\n",
    "gra[0].SetTitle(f'{title[0]};Column;Resolution [#mum]')\n",
    "gra[0].SetMarkerColor(color[0])\n",
    "for i, g in enumerate(gra[1:]):\n",
    "    g.SetMarkerColor(color[i+1])\n",
    "    g.Draw('p same')\n",
    "cc.BuildLegend()\n",
    "cc.Draw()"
   ]
  },
  {
   "cell_type": "code",
   "execution_count": null,
   "metadata": {
    "tags": []
   },
   "outputs": [],
   "source": [
    "c.cd()\n",
    "func = ROOT.TF1('func', 'sqrt([0]*[0] + [1]*x)', 0, 1000)\n",
    "func.SetParName(0, '#sigma_{0}')\n",
    "func.SetParName(1, 'C_{diff}^{2}/N_{eff}')\n",
    "gr.SetTitle(';Drift distance [mm];Resolution [#mum]')\n",
    "gr.Fit('func')\n",
    "gr.SetMaximum(0.04)\n",
    "gr.Draw('ap')\n",
    "# gr1.Fit('func')\n",
    "# gr1.Draw('same p')\n",
    "# gr1.SetTitle('145 V/m')\n",
    "# gr.GetYaxis().SetRangeUser(50., 500.)\n",
    "# gr1.SetMarkerColor(ROOT.kRed)\n",
    "# gr1.SetLineColor(ROOT.kRed)\n",
    "# gr.GetFunction('func').SetLineColor(ROOT.kBlack)\n",
    "# gr1.GetFunction('func').SetLineColor(ROOT.kRed)\n",
    "\n",
    "ROOT.gStyle.SetOptFit(1)\n",
    "ROOT.gStyle.SetOptTitle(0)\n",
    "\n",
    "# c.BuildLegend()\n",
    "c.Draw()"
   ]
  },
  {
   "cell_type": "markdown",
   "metadata": {},
   "source": [
    "## Spatial resolution tree reader\n",
    "Plots track residuals; residuals vs charge; bias; number of clusters per track"
   ]
  },
  {
   "cell_type": "code",
   "execution_count": null,
   "metadata": {
    "tags": []
   },
   "outputs": [],
   "source": [
    "%jsroot on\n",
    "it = 9\n",
    "c.cd()\n",
    "h = []\n",
    "hs = ROOT.THStack()\n",
    "fo = ROOT.TFile(\"test.root\", \"RECREATE\")\n",
    "for f in range(10):\n",
    "    h.append(ROOT.TH1F(f'h_{f}', '', 50, 0., 2.))\n",
    "# file_list = [0, 1, 2, 3, 4, 5, 6, 7, 8, 9]\n",
    "file_list = [i for i in range(len(file_name))]\n",
    "for num, f in enumerate(file_list):\n",
    "    print('Working on file', title[f])\n",
    "    file = ROOT.TFile(file_name[f] + '_iter' + str(it) + '.root')\n",
    "    for entry in file.outtree:\n",
    "        mean = 0\n",
    "        n = 0\n",
    "        max_q = 0\n",
    "        dedx = 0\n",
    "        skip = False\n",
    "        for i in range(len(entry.charge)):\n",
    "            res = entry.residual[i]\n",
    "            if res == -999:\n",
    "                continue\n",
    "            mean += entry.residual[i]*1e3\n",
    "            n += 1\n",
    "            dedx += entry.charge[i]\n",
    "            if entry.charge[i] > max_q:\n",
    "                max_q = entry.charge[i]\n",
    "        if skip: continue\n",
    "        if n == 0:\n",
    "            print('zero n')\n",
    "            continue\n",
    "        mean /= n\n",
    "        rms = 0\n",
    "        for i in range(len(entry.charge)):\n",
    "            res = entry.residual[i]\n",
    "            if res == -999:\n",
    "                continue\n",
    "            rms += (res*1e3 - mean)**2\n",
    "        rms = rms**0.5\n",
    "        rms /= n**0.5\n",
    "        dedx /= n\n",
    "    \n",
    "        if (rms != 0):\n",
    "            fo.cd()\n",
    "            h[num].Fill(rms)\n",
    "    \n",
    "    h[num].SetTitle(title[f])\n",
    "    h[num].SetLineColor(color[num])\n",
    "    print(title[f], h[num].GetMean())\n",
    "    h[num].Scale(1./h[num].Integral())\n",
    "    hs.Add(h[num].Clone(f'cl_{num}'))\n",
    "        \n",
    "c.cd()\n",
    "hs.Draw('nostack histo')\n",
    "hs.GetXaxis().SetTitle('Track residual RMS [mm]')\n",
    "c.Draw()\n",
    "c.BuildLegend()"
   ]
  },
  {
   "cell_type": "markdown",
   "metadata": {},
   "source": [
    "## PRF plotter\n",
    "plots PRF with various cuts on e.g. charge"
   ]
  },
  {
   "cell_type": "code",
   "execution_count": null,
   "metadata": {},
   "outputs": [],
   "source": [
    "cw.cd()\n",
    "cw.Clear()\n",
    "cw.Divide(2)\n",
    "cw.cd(1)\n",
    "h = ROOT.TH2F('h', '', 200, -4., 4., 100, 0., 1.)\n",
    "h.SetTitle('No charge limit')\n",
    "file.outtree.Project('h', 'qfrac:1e2*dx', '')\n",
    "h.GetXaxis().SetTitle('Residual [cm]')\n",
    "h.GetYaxis().SetTitle('Q_{pad}/Q_{cluster}')\n",
    "h.Draw('colz')\n",
    "cw.cd(2)\n",
    "h2 = ROOT.TH2F('h2', '', 200, -4., 4., 100, 0., 1.)\n",
    "h2.SetTitle('Q_{cluster} < 2000 c.u.')\n",
    "file.outtree.Project('h2', 'qfrac:1e2*dx', 'charge < 2000')\n",
    "h2.GetXaxis().SetTitle('Residual [cm]')\n",
    "h2.GetYaxis().SetTitle('Q_{pad}/Q_{cluster}')\n",
    "h2.Draw('colz')\n",
    "cw.Draw()"
   ]
  },
  {
   "cell_type": "markdown",
   "metadata": {},
   "source": [
    "## Resolution vs column"
   ]
  },
  {
   "cell_type": "code",
   "execution_count": null,
   "metadata": {},
   "outputs": [],
   "source": [
    "c.cd()\n",
    "it = 9\n",
    "file_list = [i for i in range(len(file_name))]\n",
    "h = ROOT.TH1F('h', '', 200, -0.005, 0.005)\n",
    "for num, f in enumerate(file_list):\n",
    "    for i in range(1, 36):\n",
    "        h.Reset()\n",
    "        f.outtree.Project('h', 'residuals', f'pad_')\n",
    "        "
   ]
  },
  {
   "cell_type": "markdown",
   "metadata": {},
   "source": [
    "## Track bias vs column"
   ]
  },
  {
   "cell_type": "code",
   "execution_count": null,
   "metadata": {},
   "outputs": [],
   "source": [
    "c.cd()\n",
    "gr = ROOT.TGraph()\n",
    "mean = [0]*36\n",
    "n = [0]*36\n",
    "m = 0.\n",
    "mn = 0\n",
    "h = ROOT.TH1F('h', '', 1000, -2., 2.)\n",
    "for entry in file.outtree:\n",
    "    for col in range(len(entry.residual)):\n",
    "        res = 1e3*entry.residual[col]\n",
    "        if res != -999 and abs(res) < 2:\n",
    "            h.Fill(res)\n",
    "            mean[col] += res\n",
    "            n[col] += 1\n",
    "            m += res\n",
    "            mn += 1\n",
    "            if m / mn > 1:\n",
    "                print(\"ala\", res, m, mn, m / mn)\n",
    "                break\n",
    "\n",
    "print(m / mn)\n",
    "for col in range(36):\n",
    "    if n[col] != 0:\n",
    "        gr.SetPoint(gr.GetN(), col, mean[col]/n[col])\n",
    "gr.Draw('apl')\n",
    "gr.GetYaxis().SetTitle('Bias [mm]')\n",
    "c.Draw()"
   ]
  },
  {
   "cell_type": "code",
   "execution_count": null,
   "metadata": {},
   "outputs": [],
   "source": [
    "%jsroot on\n",
    "it = 9\n",
    "c.cd()\n",
    "h = []\n",
    "hs = ROOT.THStack()\n",
    "fo = ROOT.TFile(\"test.root\", \"RECREATE\")\n",
    "for f in range(10):\n",
    "    h.append(ROOT.TH1F(f'h_{f}', '', 50, 0., 10.))\n",
    "for f in [1, 4, 5]:\n",
    "    file = ROOT.TFile(file_name[f] + '_iter' + str(it) + '.root')\n",
    "    for entry in file.outtree:\n",
    "        file.cd()\n",
    "        mean = 0\n",
    "        n = 0\n",
    "        for i in range(len(entry.multiplicity)):\n",
    "            res = entry.multiplicity[i]\n",
    "            if res == -999:\n",
    "                continue\n",
    "            mean += entry.multiplicity[i]\n",
    "            n += 1\n",
    "        if n == 0:\n",
    "            print('zero n')\n",
    "            continue\n",
    "        mean /= n\n",
    "    \n",
    "        if (mean != 0):\n",
    "            fo.cd()\n",
    "            h[f].Fill(mean)\n",
    "    h[f].SetTitle(title[f])\n",
    "    h[f].SetLineColor(color[f])\n",
    "    print(title[f], h[f].GetMean())\n",
    "    h[f].Scale(1./h[f].Integral())\n",
    "    hs.Add(h[f].Clone(f'cl_{f}'))\n",
    "        \n",
    "c.cd()\n",
    "hs.Draw('nostack histo')\n",
    "hs.GetXaxis().SetTitle('Mean multiplicity')\n",
    "c.Draw()\n",
    "c.BuildLegend()"
   ]
  },
  {
   "cell_type": "markdown",
   "metadata": {},
   "source": [
    "## Residual anomalies\n",
    "Plot abnormal residuals. Specify the rms threshold and change the number of anomaly you want to look at `if found > 32:`. It will dump the id of event. It can be looked later with EventDisplay"
   ]
  },
  {
   "cell_type": "code",
   "execution_count": null,
   "metadata": {},
   "outputs": [],
   "source": [
    "cw.cd()\n",
    "cw.Clear()\n",
    "cw.Divide(2)\n",
    "it = 4\n",
    "rms_threshold = .4\n",
    "file = ROOT.TFile(path + '/g_' + voltage + '_200_90p_iter' + str(it) + '.root')\n",
    "h = ROOT.TH1F('h', '', 36, 0., 36.)\n",
    "hc = ROOT.TH1F('hc', '', 36, 0., 36.)\n",
    "found = 0\n",
    "for entry in file.outtree:\n",
    "    mean = 0\n",
    "    n = 0\n",
    "    max_q = 0\n",
    "    dedx = 0\n",
    "    for i in range(len(entry.charge)):\n",
    "        res = entry.residual[i]\n",
    "        if res == -999:\n",
    "            continue\n",
    "        mean += entry.residual[i]*1e3\n",
    "        n += 1\n",
    "        dedx += entry.charge[i]\n",
    "        if entry.charge[i] > max_q:\n",
    "            max_q = entry.charge[i]\n",
    "    if n == 0:\n",
    "        print('zero n')\n",
    "        continue\n",
    "    mean /= n\n",
    "    rms = 0\n",
    "    for i in range(len(entry.charge)):\n",
    "        res = entry.residual[i]\n",
    "        if res == -999:\n",
    "            continue\n",
    "        rms += (res*1e3 - mean)**2\n",
    "    rms /= n**0.5\n",
    "    dedx /= n\n",
    "    if rms > rms_threshold:\n",
    "        h.Reset()\n",
    "        hc.Reset()\n",
    "        for i in range(len(entry.charge)):\n",
    "            if ( entry.residual[i] != -999):\n",
    "                h.SetBinContent(i+1, entry.residual[i]*1e3)\n",
    "                hc.SetBinContent(i+1, entry.charge[i])\n",
    "        found += 1\n",
    "    if found > 32:\n",
    "        print(entry.ev)\n",
    "        break\n",
    "\n",
    "cw.cd(1)\n",
    "h.GetYaxis().SetTitle('Residual [mm]')\n",
    "h.Draw('hist')\n",
    "cw.cd(2)\n",
    "hc.GetYaxis().SetTitle('Charge [a.u.]')\n",
    "hc.Draw('hist')\n",
    "cw.Draw()"
   ]
  },
  {
   "cell_type": "code",
   "execution_count": null,
   "metadata": {
    "tags": []
   },
   "outputs": [],
   "source": [
    "c.cd()\n",
    "MMpos = -92.36\n",
    "file_tmp = ROOT.TFile('tmp.root', 'RECREATE')\n",
    "h = ROOT.TH2F('h', '', 20, 0., 1000., 510, 0., 510)\n",
    "\n",
    "for num, name in enumerate(file_name):\n",
    "    file = ROOT.TFile(name + '_iter9.root')\n",
    "    tmp = ROOT.TH2F('tmp', '', 20, 0., 1000., 510, 0., 510)\n",
    "    file.outtree.Project('tmp', f'pad_time[][0]:{value[num]-MMpos}', '')\n",
    "    file_tmp.cd()\n",
    "    h.Add(tmp)\n",
    "    \n",
    "h.Draw('colz')\n",
    "h.SetTitle(';Drift [mm];T_{leading} [bin]')\n",
    "c.Draw()    "
   ]
  },
  {
   "cell_type": "code",
   "execution_count": null,
   "metadata": {},
   "outputs": [],
   "source": []
  }
 ],
 "metadata": {
  "kernelspec": {
   "display_name": "Python 3",
   "language": "python",
   "name": "python3"
  },
  "language_info": {
   "codemirror_mode": {
    "name": "ipython",
    "version": 3
   },
   "file_extension": ".py",
   "mimetype": "text/x-python",
   "name": "python",
   "nbconvert_exporter": "python",
   "pygments_lexer": "ipython3",
   "version": "3.9.8"
  }
 },
 "nbformat": 4,
 "nbformat_minor": 4
}
