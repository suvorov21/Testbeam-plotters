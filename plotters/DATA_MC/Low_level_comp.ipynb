{
 "cells": [
  {
   "cell_type": "code",
   "execution_count": null,
   "id": "4bbe33da-0343-4fca-ac8c-4182bb26ab5c",
   "metadata": {
    "tags": []
   },
   "outputs": [],
   "source": [
    "import ROOT\n",
    "from T2KStyle.T2KStyle import GetT2K\n",
    "%jsroot on\n",
    "style = GetT2K(3)\n",
    "ROOT.gROOT.SetStyle(\"T2K\")\n",
    "\n",
    "c = ROOT.TCanvas('c', '', 800, 600)\n",
    "cc = ROOT.TCanvas('cc', '', 800, 600)\n",
    "ccc = ROOT.TCanvas('ccc', '', 800, 600)\n",
    "cl = ROOT.TCanvas('cl', '', 1600, 1200)\n",
    "cw = ROOT.TCanvas('c2', '', 1600, 600)\n",
    "cw3 = ROOT.TCanvas('c3', '', 2400, 600)"
   ]
  },
  {
   "cell_type": "code",
   "execution_count": null,
   "id": "b295a892-2a55-4fba-8d0a-b3102125f58a",
   "metadata": {},
   "outputs": [],
   "source": [
    "path = '~/DATA/'\n",
    "\n",
    "file_mc = [ROOT.TFile(path + '/hs5_iter0.root')]\n",
    "file_data = [ROOT.TFile('~/DATA/DESY_2020/s_412_430_02T_iter9.root', 'READ')]"
   ]
  },
  {
   "cell_type": "code",
   "execution_count": null,
   "id": "d6e7f7ad-1e32-4259-84fa-0772c43acbca",
   "metadata": {},
   "outputs": [],
   "source": [
    "name = ['0 mm', '1 mm', '2 mm', '3 mm', '4 mm', '5 mm']\n",
    "color = [ROOT.kRed, ROOT.kViolet, ROOT.kBlue, ROOT.kBlack, ROOT.kGreen, ROOT.kMagenta]\n",
    "tol = 0.0005\n",
    "cut = [f'multiplicity > 1 && abs(dx[][0] - 0.000) < {tol}',\n",
    "       f'multiplicity > 1 && abs(dx[][0] - 0.001) < {tol}',\n",
    "       f'multiplicity > 1 && abs(dx[][0] - 0.002) < {tol}',\n",
    "       f'multiplicity > 1 && abs(dx[][0] - 0.003) < {tol}',\n",
    "       f'multiplicity > 1 && abs(dx[][0] - 0.004) < {tol}',\n",
    "       f'multiplicity > 1 && abs(dx[][0] - 0.005) < {tol}'\n",
    "      ]"
   ]
  },
  {
   "cell_type": "markdown",
   "id": "4f267240-7a82-4332-aa41-b054abda21a3",
   "metadata": {},
   "source": [
    "Absolute charge"
   ]
  },
  {
   "cell_type": "code",
   "execution_count": null,
   "id": "111dab0a-7ec6-4de0-8518-70d94f55a6cc",
   "metadata": {},
   "outputs": [],
   "source": [
    "var = ['pad_charge[][0]', 'pad_charge[][1]', 'pad_charge[][2]']\n",
    "\n",
    "title = ['Q_{1}', 'Q_{2}', 'Q_{3}']\n",
    "\n",
    "bins = [200, 200, 200]\n",
    "bin_s = [0., 0, 0]\n",
    "bin_e = [4000, 1500, 400]"
   ]
  },
  {
   "cell_type": "markdown",
   "id": "234049e7-e7b7-41ed-acf7-3745f5f75f98",
   "metadata": {},
   "source": [
    "Charge ratio"
   ]
  },
  {
   "cell_type": "code",
   "execution_count": null,
   "id": "26106578-f3af-4d48-a1bb-6362e4660cd8",
   "metadata": {},
   "outputs": [],
   "source": [
    "var = ['pad_charge[][0]', 'pad_charge[][1] / pad_charge[][0]', 'pad_charge[][2] / pad_charge[][0]']\n",
    "\n",
    "title = ['Q_{1}', 'Q_{2}/Q_{1}', 'Q_{3}/Q_{1}']\n",
    "\n",
    "bins = [200, 210, 200]\n",
    "bin_s = [0., 0, 0]\n",
    "bin_e = [4000, 1.1, 0.3]"
   ]
  },
  {
   "cell_type": "markdown",
   "id": "02d40fa6-8116-4abb-9bb7-6149a54f0084",
   "metadata": {},
   "source": [
    "Time"
   ]
  },
  {
   "cell_type": "code",
   "execution_count": null,
   "id": "f5e0183e-058d-42f6-9473-14067565e222",
   "metadata": {},
   "outputs": [],
   "source": [
    "var = ['pad_charge[][0]', 'pad_time[][1] - pad_time[][0]', 'pad_time[][2] - pad_time[][0]']\n",
    "\n",
    "title = ['Q_{1}', 't_{2} - t_{1}', 't_{3} - t_{1}']\n",
    "\n",
    "bins = [200, 30, 50]\n",
    "bin_s = [0., 0, 0]\n",
    "bin_e = [4000, 30, 50]"
   ]
  },
  {
   "cell_type": "markdown",
   "id": "841dc3a7-5e10-47b4-b51e-a9ab46db92fd",
   "metadata": {},
   "source": [
    "FWHM"
   ]
  },
  {
   "cell_type": "code",
   "execution_count": null,
   "id": "996efb2f-8b12-4e27-a938-ba2ea21f3343",
   "metadata": {},
   "outputs": [],
   "source": [
    "var = ['wf_fwhm[][0]', 'wf_fwhm[][1]', 'wf_fwhm[][2]']\n",
    "\n",
    "title = ['FWHM WF leading', 'FWHM WF second', 'FWHM WF third']\n",
    "\n",
    "bins = [30, 60, 100]\n",
    "bin_s = [0., 0, 0]\n",
    "bin_e = [30, 60, 100]"
   ]
  },
  {
   "cell_type": "markdown",
   "id": "9b8a0874-b006-4316-b007-93114e4a1abe",
   "metadata": {
    "execution": {
     "iopub.execute_input": "2021-11-25T12:06:28.725776Z",
     "iopub.status.busy": "2021-11-25T12:06:28.725428Z",
     "iopub.status.idle": "2021-11-25T12:06:28.753414Z",
     "shell.execute_reply": "2021-11-25T12:06:28.752421Z",
     "shell.execute_reply.started": "2021-11-25T12:06:28.725744Z"
    }
   },
   "source": [
    "# Draw"
   ]
  },
  {
   "cell_type": "code",
   "execution_count": null,
   "id": "4c6d9d40-4f59-4e66-bcb9-544ecb91a670",
   "metadata": {},
   "outputs": [],
   "source": [
    "cw3.Clear()\n",
    "cw3.Divide(3)\n",
    "\n",
    "h = []\n",
    "hs = []\n",
    "ev_prev = -1\n",
    "hs.append(ROOT.THStack('hsl', ''))\n",
    "hs.append(ROOT.THStack('hss', ''))\n",
    "hs.append(ROOT.THStack('hst', ''))\n",
    "\n",
    "ls = [0, 1, 2, 3, 4, 5]\n",
    "opt = ['l', 's', 't']\n",
    "    \n",
    "# working on MC\n",
    "RC = '55'\n",
    "for o_num, o in enumerate(opt):\n",
    "    for i in ls:\n",
    "        print(f'MC {o} {i}\\r', end='')\n",
    "        h.append(ROOT.TH1F(f'h_mc_{o}_{name[i]}_RC{RC}', '', bins[o_num], bin_s[o_num], bin_e[o_num]))\n",
    "        file_mc[0].outtree.Project(f'h_mc_{o}_{name[i]}_RC{RC}', var[o_num], cut[i])\n",
    "        h[-1].SetLineStyle(2)\n",
    "        h[-1].SetLineColor(color[i])\n",
    "        h[-1].Scale(1./h[-1].Integral())\n",
    "        hs[o_num].Add(h[-1])\n",
    "        \n",
    "# working on DATA\n",
    "for o_num, o in enumerate(opt):\n",
    "    for i in ls:\n",
    "        print(f'DATA {o} {i}\\r', end='')\n",
    "        h.append(ROOT.TH1F(f'h_data_{o}_{name[i]}', '', bins[o_num], bin_s[o_num], bin_e[o_num]))\n",
    "        file_data[0].outtree.Project(f'h_data_{o}_{name[i]}', var[o_num], cut[i])\n",
    "        h[-1].SetLineColor(color[i])\n",
    "        h[-1].Scale(1./h[-1].Integral())\n",
    "        hs[o_num].Add(h[-1])\n",
    "\n",
    "cw3.cd(1)\n",
    "hs[0].Draw('histo nostack')\n",
    "hs[0].GetXaxis().SetTitle(title[0])\n",
    "hs[0].SetTitle(f'Charge in the leading')\n",
    "ROOT.gPad.BuildLegend()\n",
    "\n",
    "cw3.cd(2)\n",
    "hs[1].Draw('histo nostack')\n",
    "hs[1].GetXaxis().SetTitle(title[1])\n",
    "hs[1].SetTitle(f'Charge spreading')\n",
    "ROOT.gPad.BuildLegend()\n",
    "\n",
    "cw3.cd(3)\n",
    "hs[2].Draw('histo nostack')\n",
    "hs[2].GetXaxis().SetTitle(title[2])\n",
    "hs[2].SetTitle(f'Charge spreading')\n",
    "ROOT.gPad.BuildLegend()\n",
    "\n",
    "cw3.Draw() "
   ]
  },
  {
   "cell_type": "code",
   "execution_count": null,
   "id": "4444be1b-03b3-4da0-bf37-074463599039",
   "metadata": {
    "tags": []
   },
   "outputs": [],
   "source": [
    "c.cd()\n",
    "mg = ROOT.TMultiGraph()\n",
    "mg_r = ROOT.TMultiGraph()\n",
    "mg_r2 = ROOT.TMultiGraph()\n",
    "\n",
    "x = [0, 1, 2, 3, 4, 5]\n",
    "\n",
    "def getVal(h):\n",
    "#     return h.GetMean()\n",
    "    h.Fit('landau', 'Q')\n",
    "    h.Fit('landau', 'Q')\n",
    "    return h.GetFunction('landau').GetParameter(1)\n",
    "\n",
    "def getValErr(h):\n",
    "#     return h.GetMeanError()\n",
    "    h.Fit('landau', 'Q')\n",
    "    return h.GetFunction('landau').GetParError(1)\n",
    "\n",
    "def set_gr(gr, col, marker):\n",
    "    gr.SetMarkerStyle(marker)\n",
    "    gr.SetLineColor(col)\n",
    "    gr.SetMarkerColor(col)\n",
    "    \n",
    "# RC = ['50', '55', '60']\n",
    "RC = ['55']\n",
    "col = [ROOT.kBlue, ROOT.kRed, ROOT.kGreen]\n",
    "\n",
    "gr = []\n",
    "gr_r = []\n",
    "gr_r2 = []\n",
    "\n",
    "gr.append(ROOT.TGraphErrors())\n",
    "set_gr(gr[-1], ROOT.kBlack, 22)\n",
    "num = 0\n",
    "for i in range(len(h)):\n",
    "    parse = h[i].GetName().split('_')\n",
    "    if num >= len(name) or parse[1] != 'data' or parse[3] != name[num] or parse[2] != 'l': continue\n",
    "    gr[-1].SetPoint(gr[-1].GetN(), x[num], getVal(h[i]))\n",
    "    gr[-1].SetPointError(gr[-1].GetN()-1, 0, getValErr(h[i]))\n",
    "    num += 1\n",
    "    \n",
    "gr.append(ROOT.TGraphErrors())\n",
    "set_gr(gr[-1], ROOT.kBlack, 20)\n",
    "num = 0\n",
    "for i in range(len(h)):\n",
    "    parse = h[i].GetName().split('_')\n",
    "    if num >= len(name) or parse[1] != 'data' or parse[3] != name[num] or parse[2] != 's': continue\n",
    "    gr[-1].SetPoint(gr[-1].GetN(), -x[num] + 10.19, getVal(h[i]))\n",
    "    gr[-1].SetPointError(gr[-1].GetN()-1, 0, getValErr(h[i]))\n",
    "    num += 1\n",
    "    \n",
    "gr.append(ROOT.TGraphErrors())\n",
    "set_gr(gr[-1], ROOT.kBlack, 20)\n",
    "num = 0\n",
    "for i in range(len(h)):\n",
    "    parse = h[i].GetName().split('_')\n",
    "    if num >= len(name) or parse[1] != 'data' or parse[3] != name[num] or parse[2] != 't': continue\n",
    "    gr[-1].SetPoint(gr[-1].GetN(), x[num] + 10.19, getVal(h[i]))\n",
    "    gr[-1].SetPointError(gr[-1].GetN()-1, 0, getValErr(h[i]))\n",
    "    num += 1\n",
    "\n",
    "data_id = len(gr) - 1\n",
    "\n",
    "for num_rc, RC_val in enumerate(RC):\n",
    "    gr.append(ROOT.TGraphErrors())\n",
    "    gr_r.append(ROOT.TGraphErrors())\n",
    "    set_gr(gr[-1], col[num_rc], 22)\n",
    "    set_gr(gr_r[-1], col[num_rc], 22)\n",
    "    num_s = 0\n",
    "    num_t = 0\n",
    "    num_l = 0\n",
    "    for i in range(len(h)):\n",
    "        parse = h[i].GetName().split('_')\n",
    "        if num_l < len(name) and parse[1] == 'mc' and parse[3] == name[num_l] and parse[2] == 'l' and parse[4] == 'RC' + RC_val: \n",
    "            gr[-1].SetPoint(gr[-1].GetN(), x[num_l], getVal(h[i]))\n",
    "            gr[-1].SetPointError(gr[-1].GetN()-1, 0, getValErr(h[i]))\n",
    "\n",
    "            data_point = x.index(num_l)\n",
    "            ratio = getVal(h[i]) / gr[data_id-2].GetY()[data_point]\n",
    "            un_a = getValErr(h[i]) / getVal(h[i])\n",
    "            un_b = gr[data_id-2].GetErrorY(data_point) / gr[data_id-2].GetY()[data_point]\n",
    "            gr_r[-1].SetPoint(gr_r[-1].GetN(), x[num_l], ratio)\n",
    "            gr_r[-1].SetPointError(gr_r[-1].GetN()-1, 0, ratio*((un_a*un_a + un_b*un_b)**0.5))\n",
    "            num_l += 1\n",
    "        if num_s < len(name) and parse[1] == 'mc' and parse[3] == name[num_s] and parse[2] == 's' and parse[4] == 'RC' + RC_val: \n",
    "            gr[-1].SetPoint(gr[-1].GetN(), -x[num_s] + 10.19, getVal(h[i]))\n",
    "            gr[-1].SetPointError(gr[-1].GetN()-1, 0, getValErr(h[i]))\n",
    "\n",
    "            data_point = x.index(num_s)\n",
    "            ratio = getVal(h[i]) / gr[data_id-1].GetY()[data_point]\n",
    "            un_a = getValErr(h[i]) / getVal(h[i])\n",
    "            un_b = gr[data_id-1].GetErrorY(data_point) / gr[data_id-1].GetY()[data_point]\n",
    "            gr_r[-1].SetPoint(gr_r[-1].GetN(), -x[num_s] + 10.19, ratio)\n",
    "            gr_r[-1].SetPointError(gr_r[-1].GetN()-1, 0, ratio*((un_a*un_a + un_b*un_b)**0.5))\n",
    "            num_s += 1\n",
    "        if num_t < len(name) and parse[1] == 'mc' and parse[3] == name[num_t] and parse[2] == 't' and parse[4] == 'RC' + RC_val: \n",
    "            gr[-1].SetPoint(gr[-1].GetN(), x[num_t] + 10.19, getVal(h[i]))\n",
    "            gr[-1].SetPointError(gr[-1].GetN()-1, 0, getValErr(h[i]))\n",
    "\n",
    "            data_point = x.index(num_t)\n",
    "            ratio = getVal(h[i]) / gr[data_id].GetY()[data_point]\n",
    "            un_a = getValErr(h[i]) / getVal(h[i])\n",
    "            un_b = gr[data_id].GetErrorY(data_point) / gr[data_id].GetY()[data_point]\n",
    "            gr_r[-1].SetPoint(gr_r[-1].GetN(), x[num_t] + 10.19, ratio)\n",
    "            gr_r[-1].SetPointError(gr_r[-1].GetN()-1, 0, ratio*((un_a*un_a + un_b*un_b)**0.5))\n",
    "            num_t += 1\n",
    "        \n",
    "for g in gr:\n",
    "    mg.Add(g)\n",
    "for g in gr_r:\n",
    "    mg_r.Add(g)\n",
    "\n",
    "cw.cd()\n",
    "cw.Clear()\n",
    "cw.Divide(2)\n",
    "cw.cd(1)\n",
    "mg.Draw('ap')\n",
    "mg.SetTitle(';x_{track}-x_{pad} [mm];Mean ')\n",
    "\n",
    "cw.cd(2)\n",
    "mg_r.Draw('ap')\n",
    "mg_r.SetTitle(';x_{track}-x_{pad} [mm];MC / DATA')\n",
    "\n",
    "cw.Draw()"
   ]
  },
  {
   "cell_type": "code",
   "execution_count": null,
   "id": "4457b8a6-1c9f-4003-89b7-4b5a9d0c8500",
   "metadata": {},
   "outputs": [],
   "source": []
  }
 ],
 "metadata": {
  "kernelspec": {
   "display_name": "Python 3 (ipykernel)",
   "language": "python",
   "name": "python3"
  },
  "language_info": {
   "codemirror_mode": {
    "name": "ipython",
    "version": 3
   },
   "file_extension": ".py",
   "mimetype": "text/x-python",
   "name": "python",
   "nbconvert_exporter": "python",
   "pygments_lexer": "ipython3",
   "version": "3.8.0"
  }
 },
 "nbformat": 4,
 "nbformat_minor": 5
}
