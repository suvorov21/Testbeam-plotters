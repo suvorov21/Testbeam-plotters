{
 "cells": [
  {
   "cell_type": "code",
   "execution_count": null,
   "id": "2a683bea-5147-4560-adea-d28cfa9b4771",
   "metadata": {
    "tags": []
   },
   "outputs": [],
   "source": [
    "import ROOT\n",
    "from T2KStyle.T2KStyle import GetT2K\n",
    "%jsroot on\n",
    "style = GetT2K(3)\n",
    "ROOT.gROOT.SetStyle(\"T2K\")\n",
    "\n",
    "c = ROOT.TCanvas('c', '', 800, 600)\n",
    "cw = ROOT.TCanvas('cw', '', 1600, 600)\n",
    "cl = ROOT.TCanvas('cl', '', 1200, 900)"
   ]
  },
  {
   "cell_type": "code",
   "execution_count": null,
   "id": "9b04e43b-42c5-435a-bf85-a18d363b64b6",
   "metadata": {
    "tags": []
   },
   "outputs": [],
   "source": [
    "# file = ROOT.TFile(f'/eos/experiment/neutplatform/np07/HAT/MC/testbeam_mimic/tree_e-_4000MeV_30deg_v21.root')\n",
    "# file = ROOT.TFile(f'/eos/experiment/neutplatform/np07/HAT/MC/testbeam_mimic/tree_e-_4000MeV_90deg_v21.root')\n",
    "file = ROOT.TFile(f'/eos/experiment/neutplatform/np07/HAT/MC/testbeam_mimic/test.root')"
   ]
  },
  {
   "cell_type": "code",
   "execution_count": null,
   "id": "b2102b4f-430d-4559-88b0-febe59dc16ca",
   "metadata": {
    "tags": []
   },
   "outputs": [],
   "source": [
    "%jsroot on\n",
    "cl.cd()\n",
    "cl.Clear()\n",
    "cl.Divide(4, 2)\n",
    "cl.cd(1)\n",
    "h2 = []\n",
    "for i in range(8):\n",
    "    h2.append(ROOT.TH2F(f'h_{i}', '', 37, 0., 37, 37, 0., 37))\n",
    "for entry in file.hatdigits:\n",
    "    if entry.hat != 0 or entry.plate != 1: continue\n",
    "#     if entry.event != 9: continue\n",
    "    h2[entry.fem].Fill(entry.col, entry.row)\n",
    "    # print(entry.col, entry.row, entry.fem)\n",
    "for i in range(8):\n",
    "    cl.cd(i+1)\n",
    "    h2[i].SetTitle(f'MM {i}')\n",
    "    h2[i].GetXaxis().SetTitle('Column')\n",
    "    h2[i].GetYaxis().SetTitle('Row')\n",
    "    ROOT.gPad.SetGrid()\n",
    "    h2[i].Draw('colz')\n",
    "cl.Draw()"
   ]
  },
  {
   "cell_type": "code",
   "execution_count": null,
   "id": "d3262ff7-38d7-4590-a07a-5bd59aa6578b",
   "metadata": {},
   "outputs": [],
   "source": [
    "c.cd()\n",
    "h2 = ROOT.TH2F('h2', '', 200, -2700., -1200., 500, 300., 1600.)\n",
    "for entry in file.hatdigits:\n",
    "    h2.Fill(entry.z, entry.y)\n",
    "\n",
    "h2.GetXaxis().SetTitle('Z')\n",
    "h2.GetYaxis().SetTitle('Y')\n",
    "ROOT.gPad.SetGrid()\n",
    "h2.Draw('colz')\n",
    "c.Draw()"
   ]
  }
 ],
 "metadata": {
  "kernelspec": {
   "display_name": "Python 3",
   "language": "python",
   "name": "python3"
  },
  "language_info": {
   "codemirror_mode": {
    "name": "ipython",
    "version": 3
   },
   "file_extension": ".py",
   "mimetype": "text/x-python",
   "name": "python",
   "nbconvert_exporter": "python",
   "pygments_lexer": "ipython3",
   "version": "3.9.14"
  }
 },
 "nbformat": 4,
 "nbformat_minor": 5
}
