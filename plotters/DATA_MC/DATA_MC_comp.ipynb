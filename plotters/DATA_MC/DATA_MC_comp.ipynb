{
 "cells": [
  {
   "cell_type": "code",
   "execution_count": null,
   "id": "117d8690-1032-4042-be53-566f9cff7873",
   "metadata": {
    "tags": []
   },
   "outputs": [],
   "source": [
    "import ROOT\n",
    "from T2KStyle.T2KStyle import GetT2K\n",
    "style = GetT2K(3)\n",
    "%jsroot on\n",
    "ROOT.gROOT.SetStyle(\"T2K\")\n",
    "c = ROOT.TCanvas('c', '', 800, 600)\n",
    "cc = ROOT.TCanvas('cc', '', 800, 600)\n",
    "ccc = ROOT.TCanvas('ccc', '', 800, 600)\n",
    "cl = ROOT.TCanvas('cl', '', 1600, 1200)\n",
    "cw = ROOT.TCanvas('c2', '', 1600, 600)"
   ]
  },
  {
   "cell_type": "markdown",
   "id": "d2805bf1-2942-4f27-898d-ce450da4cc8d",
   "metadata": {},
   "source": [
    "# Z scan"
   ]
  },
  {
   "cell_type": "markdown",
   "id": "3fc0da7f-8fa8-4e0c-a852-65a82996a3ac",
   "metadata": {},
   "source": [
    "## MC"
   ]
  },
  {
   "cell_type": "code",
   "execution_count": null,
   "id": "e72354aa-7e31-4574-a5d1-7e51c7f20951",
   "metadata": {
    "tags": []
   },
   "outputs": [],
   "source": [
    "path = '/eos/experiment/neutplatform/np07/HAT/MC/ana_results/v9/'\n",
    "ver = 'v9_'\n",
    "x_axis = [10, 20, 30, 40, 50, 60, 70, 80, 90]\n",
    "file_mc = [['412 ns', [ROOT.TFile(path + f'/z90_{ver}iter1.root'),\n",
    "                       ROOT.TFile(path + f'/z80_{ver}iter1.root'),\n",
    "                       ROOT.TFile(path + f'/z70_{ver}iter1.root'),\n",
    "                       ROOT.TFile(path + f'/z60_{ver}iter1.root'),\n",
    "                       ROOT.TFile(path + f'/z50_{ver}iter1.root'),\n",
    "                       ROOT.TFile(path + f'/z40_{ver}iter1.root'),\n",
    "                       ROOT.TFile(path + f'/z30_{ver}iter1.root'),\n",
    "                       ROOT.TFile(path + f'/z20_{ver}iter1.root'),\n",
    "                       ROOT.TFile(path + f'/z10_{ver}iter1.root')],\n",
    "#                        ROOT.TFile(path + f'/z95_{ver}iter1.root')],\n",
    "            [(x - (100 - 97.96)) for x in x_axis]\n",
    "           ]\n",
    "          ]\n",
    "\n",
    "x_title = 'Drift [cm]'"
   ]
  },
  {
   "cell_type": "markdown",
   "id": "04e389f5-16e6-401d-8bb9-1f9c82eb30fc",
   "metadata": {},
   "source": [
    "## DATA"
   ]
  },
  {
   "cell_type": "code",
   "execution_count": null,
   "id": "e8562bf6-4510-4635-a08d-0bb6c6d3c1a3",
   "metadata": {
    "tags": []
   },
   "outputs": [],
   "source": [
    "path = '/eos/experiment/neutplatform/np07/HAT/DESY_2021/ana_output/z_scan2/'\n",
    "volt = '275'\n",
    "time = '412'\n",
    "it = '9'\n",
    "x_axis = [860, 760, 660, 560, 460, 360, 260, 160, 60, -40]\n",
    "file_name = [['412 ns', \n",
    "             [ROOT.TFile(path + f'/z_{time}ns_{volt}V_860_iter{it}.root'),\n",
    "              ROOT.TFile(path + f'/z_{time}ns_{volt}V_760_iter{it}.root'),\n",
    "              ROOT.TFile(path + f'/z_{time}ns_{volt}V_660_iter{it}.root'),\n",
    "              ROOT.TFile(path + f'/z_{time}ns_{volt}V_560_iter{it}.root'),\n",
    "              ROOT.TFile(path + f'/z_{time}ns_{volt}V_460_iter{it}.root'),\n",
    "              ROOT.TFile(path + f'/z_{time}ns_{volt}V_360_iter{it}.root'),\n",
    "              ROOT.TFile(path + f'/z_{time}ns_{volt}V_260_iter{it}.root'),\n",
    "              ROOT.TFile(path + f'/z_{time}ns_{volt}V_160_iter{it}.root'),\n",
    "              ROOT.TFile( path + f'/z_{time}ns_{volt}V_60_iter{it}.root'),\n",
    "              ROOT.TFile(path + f'/z_{time}ns_{volt}V_m40_iter{it}.root')]\n",
    "             ],\n",
    "             [(x + 92.36) for x in x_axis]\n",
    "            ]\n",
    "title = ['860 mm', '760 mm', '660 mm', '560 mm', '460 mm', '360 mm', '260 mm', '160 mm', '60 mm', '-40 mm']\n",
    "\n",
    "\n",
    "color = [ROOT.kRed, ROOT.kGreen, ROOT.kBlack, ROOT.kBlue, ROOT.kViolet, ROOT.kYellow, ROOT.kCyan, ROOT.kOrange, ROOT.kSpring, ROOT.kAzure]"
   ]
  },
  {
   "cell_type": "markdown",
   "id": "223eda8e-d178-490a-b3f9-e244e2ec194b",
   "metadata": {},
   "source": [
    "# Plotting"
   ]
  },
  {
   "cell_type": "markdown",
   "id": "090a34b6-f59f-40e9-88d4-d2300d59c8bb",
   "metadata": {},
   "source": [
    "### Merge all residuals and do joint fit"
   ]
  },
  {
   "cell_type": "code",
   "execution_count": null,
   "id": "66cecb9f-573c-4b2f-ba90-4183361e2310",
   "metadata": {
    "tags": []
   },
   "outputs": [],
   "source": [
    "c.cd()\n",
    "gr = []\n",
    "opt = 'ap'\n",
    "for num_main, file_list in enumerate(file_mc):\n",
    "    gr.append(ROOT.TGraphErrors())\n",
    "    for num, file in enumerate(file_list[1]):\n",
    "        h = ROOT.TH1F(f'h_{num}', '', 200, -3., 3.)\n",
    "        print(file.GetName())\n",
    "        file.outtree.Project(f'h_{num}', 'residual*1e3', 'abs(residual) < 0.01')\n",
    "        h.Fit('gaus', 'Q')\n",
    "        s = h.GetFunction('gaus').GetParameter(2)\n",
    "#         print(file_list[2][num], s*1000, sep='\\t')\n",
    "        gr[-1].SetPoint(gr[-1].GetN(), file_list[2][num], s*1000)\n",
    "        gr[-1].SetPointError(gr[-1].GetN() - 1, 0, h.GetFunction('gaus').GetParError(2) * 1000)\n",
    "        \n",
    "gr[0].GetYaxis().SetRangeUser(0., 3500)\n",
    "gr[0].GetXaxis().SetRangeUser(-10., 100)\n",
    "for num_main, gr_one in enumerate(gr):\n",
    "    if num_main > 0: opt = 'p same'\n",
    "    gr_one.Draw(opt)\n",
    "    gr_one.SetMarkerColor(1+num_main)\n",
    "    gr_one.SetLineColor(1+num_main)\n",
    "    gr_one.SetTitle(f'{file_mc[num_main][0]};{x_title}; Resolution [#mum];')\n",
    "c.Draw()\n",
    "c.BuildLegend()"
   ]
  },
  {
   "cell_type": "markdown",
   "id": "e23b1fee-468b-4d53-99bc-46fd93fcf578",
   "metadata": {},
   "source": [
    "### Fit clusters independently"
   ]
  },
  {
   "cell_type": "code",
   "execution_count": null,
   "id": "c3e849fe-dec7-469b-a0a8-e07cd4774d47",
   "metadata": {
    "tags": []
   },
   "outputs": [],
   "source": [
    "c.cd()\n",
    "func = ROOT.TF1('func', 'sqrt([0]*[0] + [1]*x)', 0, 1000)\n",
    "func.SetParName(0, '#sigma_{0}')\n",
    "func.SetParName(1, 'C_{diff}^{2}/N_{eff}')\n",
    "opt = 'ap'\n",
    "gr = []\n",
    "for num_main, file_list in enumerate(file_mc):\n",
    "    gr.append(ROOT.TGraphErrors())\n",
    "    for num, file in enumerate(file_list[1]):\n",
    "        mean = 0\n",
    "        v = []\n",
    "        for col in range(1, 70):\n",
    "            h = ROOT.TH1F(f'h_{num}_{col}', '', 200, -3., 3.)\n",
    "            file.outtree.Project(f'h_{num}_{col}', 'residual*1e3', f'abs(residual) < 0.1 && pad_x == {col}')\n",
    "            if h.Integral() < 100: continue\n",
    "            h.Fit('gaus', 'Q')\n",
    "            if not h.GetFunction('gaus') or h.GetFunction('gaus').GetParameter(2) > 5:\n",
    "                continue\n",
    "            mean += h.GetFunction('gaus').GetParameter(2)\n",
    "            v.append(h.GetFunction('gaus').GetParameter(2))\n",
    "        if not len(v):\n",
    "            continue\n",
    "        rms = 0\n",
    "        mean /= len(v)\n",
    "        for val in v:\n",
    "            rms += (val - mean)**2\n",
    "        rms = rms**0.5 / len(v)\n",
    "#         print(file_list[2][num], mean/10, sep='\\t')\n",
    "        \n",
    "        gr[-1].SetPoint(gr[-1].GetN(), file_list[2][num], mean /10 )\n",
    "        gr[-1].SetPointError(gr[-1].GetN() - 1, 0, rms /10 )\n",
    "\n",
    "gr[0].GetYaxis().SetRangeUser(0., 0.25)\n",
    "gr[0].GetXaxis().SetRangeUser(-10., 100)\n",
    "for num_main, gr_one in enumerate(gr):\n",
    "    if num_main > 0: opt = 'p same'\n",
    "    gr_one.Draw(opt)\n",
    "    gr_one.SetMarkerColor(1+num_main)\n",
    "    gr_one.SetLineColor(1+num_main)\n",
    "    gr_one.SetTitle(f'{file_mc[num_main][0]};{x_title}; Resolution [cm];')\n",
    "\n",
    "    ROOT.gStyle.SetOptFit(1)\n",
    "#     gr_one.Fit('func')\n",
    "c.Draw()\n",
    "c.BuildLegend()"
   ]
  },
  {
   "cell_type": "code",
   "execution_count": null,
   "id": "ca33dca6-a140-419f-9fe4-78a90edc3fab",
   "metadata": {},
   "outputs": [],
   "source": []
  }
 ],
 "metadata": {
  "kernelspec": {
   "display_name": "Python 3 (ipykernel)",
   "language": "python",
   "name": "python3"
  },
  "language_info": {
   "codemirror_mode": {
    "name": "ipython",
    "version": 3
   },
   "file_extension": ".py",
   "mimetype": "text/x-python",
   "name": "python",
   "nbconvert_exporter": "python",
   "pygments_lexer": "ipython3",
   "version": "3.8.0"
  }
 },
 "nbformat": 4,
 "nbformat_minor": 5
}
