{
 "cells": [
  {
   "cell_type": "code",
   "execution_count": null,
   "id": "117d8690-1032-4042-be53-566f9cff7873",
   "metadata": {
    "slideshow": {
     "slide_type": "slide"
    },
    "tags": []
   },
   "outputs": [],
   "source": [
    "import ROOT\n",
    "from T2KStyle.T2KStyle import GetT2K\n",
    "style = GetT2K(3)\n",
    "# %jsroot on\n",
    "ROOT.gROOT.SetStyle(\"T2K\")\n",
    "c = ROOT.TCanvas('c', '', 800, 600)\n",
    "cc = ROOT.TCanvas('cc', '', 800, 600)\n",
    "ccc = ROOT.TCanvas('ccc', '', 800, 600)\n",
    "cl = ROOT.TCanvas('cl', '', 1600, 1200)\n",
    "cw = ROOT.TCanvas('c2', '', 1600, 600)"
   ]
  },
  {
   "cell_type": "markdown",
   "id": "d2805bf1-2942-4f27-898d-ce450da4cc8d",
   "metadata": {},
   "source": [
    "# Z scan"
   ]
  },
  {
   "cell_type": "markdown",
   "id": "3fc0da7f-8fa8-4e0c-a852-65a82996a3ac",
   "metadata": {},
   "source": [
    "## MC"
   ]
  },
  {
   "cell_type": "markdown",
   "id": "28d634d7-a8e7-4521-b565-ca52d2ede435",
   "metadata": {},
   "source": [
    "New Z scan"
   ]
  },
  {
   "cell_type": "code",
   "execution_count": null,
   "id": "d80895b7-e52d-4cdf-9ba4-533909f3c1ff",
   "metadata": {
    "tags": []
   },
   "outputs": [],
   "source": [
    "path = f'/eos/experiment/neutplatform/np07/HAT/MC/ana_results/'\n",
    "x_axis = [ 10, 20, 30, 40, 50, 60, 70, 80, 90]\n",
    "diff = 'nomDrift'\n",
    "it = 4\n",
    "postfix = ''\n",
    "file_mc = [['412 ns', [#ROOT.TFile(path + f'/z_400_{diff}_5cm_{postfix}iter{it}.root'),\n",
    "                       ROOT.TFile(path + f'/z_400_{diff}_10cm_{postfix}iter{it}.root'),\n",
    "                       ROOT.TFile(path + f'/z_400_{diff}_20cm_{postfix}iter{it}.root'),\n",
    "                       ROOT.TFile(path + f'/z_400_{diff}_30cm_{postfix}iter{it}.root'),\n",
    "                       ROOT.TFile(path + f'/z_400_{diff}_40cm_{postfix}iter{it}.root'),\n",
    "                       ROOT.TFile(path + f'/z_400_{diff}_50cm_{postfix}iter{it}.root'),\n",
    "                       ROOT.TFile(path + f'/z_400_{diff}_60cm_{postfix}iter{it}.root'),\n",
    "                       ROOT.TFile(path + f'/z_400_{diff}_70cm_{postfix}iter{it}.root'),\n",
    "                       ROOT.TFile(path + f'/z_400_{diff}_80cm_{postfix}iter{it}.root'),\n",
    "                       ROOT.TFile(path + f'/z_400_{diff}_90cm_{postfix}iter{it}.root')],\n",
    "            [x-2.04 for x in x_axis]\n",
    "           ]\n",
    "          ]\n",
    "\n",
    "x_title = 'Drift [cm]'"
   ]
  },
  {
   "cell_type": "markdown",
   "id": "df119271-6dfc-4964-9d0b-bdd86c968e57",
   "metadata": {},
   "source": [
    "new phi scan"
   ]
  },
  {
   "cell_type": "code",
   "execution_count": null,
   "id": "fa065f64-974e-4026-912e-52b694890572",
   "metadata": {
    "jupyter": {
     "source_hidden": true
    },
    "tags": []
   },
   "outputs": [],
   "source": [
    "path = f'/eos/experiment/neutplatform/np07/HAT/MC/ana_results/'\n",
    "x_axis = [5, 10, 20, 30, 40, 45, 50, 60, 70, 80, 90]\n",
    "# x_axis = [5, 20, 30, 40, 60, 70, 80, 90]\n",
    "diff = 'nomDrift'\n",
    "it = 4\n",
    "postfix = 'RC100_'\n",
    "drift = '5cm'\n",
    "time = '400'\n",
    "file_mc = [['412 ns', [ROOT.TFile(path + f'/z_{time}_{diff}_{drift}_5deg_{postfix}iter{it}.root'),\n",
    "                      ROOT.TFile(path + f'/z_{time}_{diff}_{drift}_10deg_{postfix}iter{it}.root'),\n",
    "                      ROOT.TFile(path + f'/z_{time}_{diff}_{drift}_20deg_{postfix}iter{it}.root'),\n",
    "                      ROOT.TFile(path + f'/z_{time}_{diff}_{drift}_30deg_{postfix}iter{it}.root'),\n",
    "                      ROOT.TFile(path + f'/z_{time}_{diff}_{drift}_40deg_{postfix}iter{it}.root'),\n",
    "                      ROOT.TFile(path + f'/z_{time}_{diff}_{drift}_45deg_{postfix}iter{it}.root'),\n",
    "                      ROOT.TFile(path + f'/z_{time}_{diff}_{drift}_50deg_{postfix}iter{it}.root'),\n",
    "                      ROOT.TFile(path + f'/z_{time}_{diff}_{drift}_60deg_{postfix}iter{it}.root'),\n",
    "                      ROOT.TFile(path + f'/z_{time}_{diff}_{drift}_70deg_{postfix}iter{it}.root'),\n",
    "                      ROOT.TFile(path + f'/z_{time}_{diff}_{drift}_80deg_{postfix}iter{it}.root'),\n",
    "                      ROOT.TFile(path + f'/z_{time}_{diff}_{drift}_90deg_{postfix}iter{it}.root')\n",
    "                      ],\n",
    "            [x for x in x_axis]\n",
    "           ]\n",
    "          ]\n",
    "\n",
    "\n",
    "x_title = '#phi [deg]'"
   ]
  },
  {
   "cell_type": "markdown",
   "id": "c7e7dbf1-2638-4e90-97cf-963f9cd2a84d",
   "metadata": {},
   "source": [
    "old phi scan"
   ]
  },
  {
   "cell_type": "code",
   "execution_count": null,
   "id": "acbdcae9-3fec-4255-8caf-f1b46fba4c7b",
   "metadata": {
    "jupyter": {
     "source_hidden": true
    },
    "tags": []
   },
   "outputs": [],
   "source": [
    "ver = 'v21'\n",
    "path = f'/eos/experiment/neutplatform/np07/HAT/MC/ana_results/{ver}/'\n",
    "x_axis = [10, 20, 30, 40, 45, 50, 60, 70, 80, 90, 0]\n",
    "file_mc = [['412 ns', [ROOT.TFile(path + f'/10deg_{ver}_iter1.root'),\n",
    "                       ROOT.TFile(path + f'/20deg_{ver}_iter1.root'),\n",
    "                       ROOT.TFile(path + f'/30deg_d_{ver}_iter1.root'),\n",
    "                       ROOT.TFile(path + f'/40deg_d_{ver}_iter1.root'),\n",
    "                       ROOT.TFile(path + f'/45deg_d_{ver}_iter1.root'),\n",
    "                       ROOT.TFile(path + f'/50deg_d_{ver}_iter1.root'),\n",
    "                       ROOT.TFile(path + f'/60deg_d_{ver}_iter1.root'),\n",
    "                       ROOT.TFile(path + f'/70deg_{ver}_iter1.root'),\n",
    "                       ROOT.TFile(path + f'/80deg_{ver}_iter1.root'),\n",
    "                       ROOT.TFile(path + f'/90deg_{ver}_iter1.root'),\n",
    "                       ROOT.TFile(path + f'/z95_{ver}_iter1.root')],\n",
    "            [x for x in x_axis]\n",
    "           ]\n",
    "          ]\n",
    "\n",
    "file_mc2 = [['412 ns', [ROOT.TFile(path + f'/20deg_d_{ver}_iter1.root'),\n",
    "                       ROOT.TFile(path + f'/30deg_d_{ver}_iter1.root'),\n",
    "                       ROOT.TFile(path + f'/40deg_d_{ver}_iter1.root'),\n",
    "                       ROOT.TFile(path + f'/45deg_d_{ver}_iter1.root'),\n",
    "                       ROOT.TFile(path + f'/50deg_d_{ver}_iter1.root'),\n",
    "                       ROOT.TFile(path + f'/60deg_d_{ver}_iter1.root'),\n",
    "                       ROOT.TFile(path + f'/70deg_d_{ver}_iter1.root')],\n",
    "            [20, 30, 40, 45, 50, 60, 70]\n",
    "           ]\n",
    "          ]\n",
    "\n",
    "x_title = '#phi [deg]'"
   ]
  },
  {
   "cell_type": "markdown",
   "id": "04e389f5-16e6-401d-8bb9-1f9c82eb30fc",
   "metadata": {
    "tags": []
   },
   "source": [
    "## DATA"
   ]
  },
  {
   "cell_type": "markdown",
   "id": "fe0e4566-66b6-4f31-8bf3-cafa440e33eb",
   "metadata": {},
   "source": [
    "Z scan"
   ]
  },
  {
   "cell_type": "code",
   "execution_count": null,
   "id": "86843343-db7e-414b-ab65-6765fa90abee",
   "metadata": {
    "jupyter": {
     "source_hidden": true
    },
    "tags": []
   },
   "outputs": [],
   "source": [
    "path = '/eos/experiment/neutplatform/np07/HAT/DESY_2021/vlada_reco/new/dev_v9/'\n",
    "volt = '275'\n",
    "time = '412'\n",
    "it = '5'\n",
    "x_axis = [860, 760, 660, 560, 460, 360, 260, 160, 60, -40]\n",
    "file_mc = [['200 ns', \n",
    "             [ROOT.TFile(path + f'/z_360_275_{time}_02T_26_860_iter{it}.root'),\n",
    "              ROOT.TFile(path + f'/z_360_275_{time}_02T_26_760_iter{it}.root'),\n",
    "              ROOT.TFile(path + f'/z_360_275_{time}_02T_26_660_iter{it}.root'),\n",
    "              ROOT.TFile(path + f'/z_360_275_{time}_02T_26_560_iter{it}.root'),\n",
    "              ROOT.TFile(path + f'/z_360_275_{time}_02T_26_460_iter{it}.root'),\n",
    "              ROOT.TFile(path + f'/z_360_275_{time}_02T_26_360_iter{it}.root'),\n",
    "              ROOT.TFile(path + f'/z_360_275_{time}_02T_26_260_iter{it}.root'),\n",
    "              ROOT.TFile(path + f'/z_360_275_{time}_02T_26_160_iter{it}.root'),\n",
    "              ROOT.TFile(path + f'/z_360_275_{time}_02T_26_60_iter{it}.root'),\n",
    "              ROOT.TFile(path + f'/z_360_275_{time}_02T_26_m40_iter{it}.root')],\n",
    "             [(x + 92.36) / 10 for x in x_axis]\n",
    "            ]\n",
    "          ]\n",
    "title = ['860 mm', '760 mm', '660 mm', '560 mm', '460 mm', '360 mm', '260 mm', '160 mm', '60 mm', '-40 mm']\n",
    "\n",
    "x_title = 'Drift [cm]'\n",
    "color = [ROOT.kRed, ROOT.kGreen, ROOT.kBlack, ROOT.kBlue, ROOT.kViolet, ROOT.kYellow, ROOT.kCyan, ROOT.kOrange, ROOT.kSpring, ROOT.kAzure]"
   ]
  },
  {
   "cell_type": "code",
   "execution_count": null,
   "id": "e8562bf6-4510-4635-a08d-0bb6c6d3c1a3",
   "metadata": {
    "jupyter": {
     "source_hidden": true
    },
    "tags": []
   },
   "outputs": [],
   "source": [
    "path = '/eos/experiment/neutplatform/np07/HAT/DESY_2021/ana_output/z_scan2'\n",
    "volt = '275'\n",
    "time = '412'\n",
    "it = '3'\n",
    "x_axis = [860, 760, 660, 560, 460, 360, 260, 160, 60, -40]\n",
    "file_mc = [['200 ns', \n",
    "             [ROOT.TFile(path + f'/z_{time}ns_{volt}V_860_iter{it}.root'),\n",
    "              ROOT.TFile(path + f'/z_{time}ns_{volt}V_760_iter{it}.root'),\n",
    "              ROOT.TFile(path + f'/z_{time}ns_{volt}V_660_iter{it}.root'),\n",
    "              ROOT.TFile(path + f'/z_{time}ns_{volt}V_560_iter{it}.root'), # strange one\n",
    "              ROOT.TFile(path + f'/z_{time}ns_{volt}V_460_iter{it}.root'),\n",
    "              ROOT.TFile(path + f'/z_{time}ns_{volt}V_360_iter{it}.root'),\n",
    "              ROOT.TFile(path + f'/z_{time}ns_{volt}V_260_iter{it}.root'),\n",
    "              ROOT.TFile(path + f'/z_{time}ns_{volt}V_160_iter{it}.root'),\n",
    "              ROOT.TFile( path + f'/z_{time}ns_{volt}V_60_iter{it}.root'),\n",
    "              ROOT.TFile(path + f'/z_{time}ns_{volt}V_m40_iter{it}.root')],\n",
    "             [(x + 92.36) / 10 for x in x_axis]\n",
    "            ]\n",
    "          ]\n",
    "title = ['860 mm', '760 mm', '660 mm', '560 mm', '460 mm', '360 mm', '260 mm', '160 mm', '60 mm', '-40 mm']\n",
    "\n",
    "x_title = 'Drift [cm]'\n",
    "color = [ROOT.kRed, ROOT.kGreen, ROOT.kBlack, ROOT.kBlue, ROOT.kViolet, ROOT.kYellow, ROOT.kCyan, ROOT.kOrange, ROOT.kSpring, ROOT.kAzure]"
   ]
  },
  {
   "cell_type": "markdown",
   "id": "820d6728-77f5-4409-8207-c44bd2cd4631",
   "metadata": {},
   "source": [
    "Phi scan"
   ]
  },
  {
   "cell_type": "markdown",
   "id": "c14784f4-0b6d-48ad-b3c5-1e987d12adee",
   "metadata": {},
   "source": [
    "Vlada"
   ]
  },
  {
   "cell_type": "code",
   "execution_count": null,
   "id": "51f8c282-5338-4502-962c-37552c3f68bb",
   "metadata": {
    "jupyter": {
     "source_hidden": true
    },
    "tags": []
   },
   "outputs": [],
   "source": [
    "path = '/eos/experiment/neutplatform/np07/HAT/DESY_2021/vlada_reco/new/dev_v9/'\n",
    "x_axis = [10, 20, 30, 40, 45, 50, 60, 70, 80, 90]\n",
    "it = '4'\n",
    "time = '200'\n",
    "file_mc = [['412 ns', [\n",
    "                         ROOT.TFile(path + f'phi_{time}_10_zm40_ym60_iter{it}.root'),\n",
    "                         ROOT.TFile(path + f'phi_{time}_20_zm40_ym60_iter{it}.root'),\n",
    "                         ROOT.TFile(path + f'phi_{time}_30_zm40_ym60_diag_iter{it}.root'),\n",
    "                         ROOT.TFile(path + f'phi_{time}_40_zm40_ym60_diag_iter{it}.root'),\n",
    "                         ROOT.TFile(path + f'phi_{time}_45_zm40_ym60_diag_iter{it}.root'),\n",
    "                         ROOT.TFile(path + f'phi_{time}_50_zm40_y60_diag_iter{it}.root'),\n",
    "                         ROOT.TFile(path + f'phi_{time}_60_zm40_y0_diag_iter{it}.root'),\n",
    "                         ROOT.TFile(path + f'phi_{time}_70_zm40_y100_iter{it}.root'),\n",
    "                         ROOT.TFile(path + f'phi_{time}_80_zm40_ym40_iter{it}.root'),\n",
    "                         ROOT.TFile(path + f'phi_{time}_90_zm40_ym50_iter{it}.root')],\n",
    "              [x for x in x_axis]\n",
    "           ]\n",
    "          ]\n",
    "\n",
    "x_title = '#phi [deg]'"
   ]
  },
  {
   "cell_type": "markdown",
   "id": "89c47a92-8999-43e8-aa41-0b31b3d7676c",
   "metadata": {},
   "source": [
    "Mine"
   ]
  },
  {
   "cell_type": "code",
   "execution_count": null,
   "id": "2cf2e116-4651-42ea-be43-c5526073697d",
   "metadata": {
    "jupyter": {
     "source_hidden": true
    },
    "tags": []
   },
   "outputs": [],
   "source": [
    "path = '/eos/experiment/neutplatform/np07/HAT/DESY_2021/ana_output/phi3/'\n",
    "x_axis = [5, 10, 20, 30, 40, 45, 50, 60, 70, 80, 90]\n",
    "file_mc = [['412 ns', [ROOT.TFile(path + 'phi_y_m60_z_m40_200ns_5_iter6.root'),\n",
    "                         ROOT.TFile(path + 'phi_y_m60_z_m40_200ns_10_iter6.root'),\n",
    "                         ROOT.TFile(path + f'phi_y_m60_z_m40_200ns_20_iter6.root'),\n",
    "                         ROOT.TFile(path + 'phi_y_m60_z_m40_200ns_30_d_iter6.root'),\n",
    "                         ROOT.TFile(path + 'phi_y_m60_z_m40_200ns_40_d_iter6.root'),\n",
    "                         ROOT.TFile(path + 'phi_y_m60_z_m40_200ns_45_d_iter6.root'),\n",
    "                         ROOT.TFile(path + 'phi_y_m90_z_m40_200ns_50_d_iter6.root'),\n",
    "                         ROOT.TFile(path + 'phi_y_0_z_m40_200ns_60_iter6.root'),\n",
    "                         ROOT.TFile(path + 'phi_y_m30_z_m40_200ns_70_iter6.root'),\n",
    "                         ROOT.TFile(path + 'phi_y_m40_z_m40_200ns_80_iter6.root'),\n",
    "                         ROOT.TFile(path + 'phi_y_m50_z_m40_200ns_90_iter6.root')],\n",
    "              [x for x in x_axis]\n",
    "           ]\n",
    "          ]\n",
    "\n",
    "x_title = '#phi [deg]'"
   ]
  },
  {
   "cell_type": "markdown",
   "id": "3e12b41b-dc7a-4162-a45a-ebf3967a4d27",
   "metadata": {},
   "source": [
    "DESY 2019 Z scan"
   ]
  },
  {
   "cell_type": "code",
   "execution_count": null,
   "id": "34f987b2-313e-4563-9d24-9a35137712a5",
   "metadata": {
    "jupyter": {
     "source_hidden": true
    },
    "tags": []
   },
   "outputs": [],
   "source": [
    "path = '/eos/user/s/ssuvorov/DESY_testbeam/final_v3'\n",
    "volt = '275'\n",
    "time = '412'\n",
    "it = '4'\n",
    "x_axis = [530, 510, 490, 470, 450, 430, 410]\n",
    "file_mc = [['412 ns', \n",
    "             [ROOT.TFile(path + f'/z_360_275_{time}_02T_530_iter{it}.root'),\n",
    "              ROOT.TFile(path + f'/z_360_275_{time}_02T_510_iter{it}.root'),\n",
    "              ROOT.TFile(path + f'/z_360_275_{time}_02T_490_iter{it}.root'),\n",
    "              ROOT.TFile(path + f'/z_360_275_{time}_02T_470_iter{it}.root'),\n",
    "              ROOT.TFile(path + f'/z_360_275_{time}_02T_450_iter{it}.root'),\n",
    "              ROOT.TFile(path + f'/z_360_275_{time}_02T_430_iter{it}.root'),\n",
    "              ROOT.TFile(path + f'/z_360_275_{time}_02T_410_iter{it}.root')],\n",
    "             [(x - 405) / 10 for x in x_axis]\n",
    "            ]\n",
    "          ]\n",
    "title = ['860 mm', '760 mm', '660 mm', '560 mm', '460 mm', '360 mm', '260 mm', '160 mm', '60 mm', '-40 mm']\n",
    "\n",
    "x_title = 'Drift [cm]'\n",
    "color = [ROOT.kRed, ROOT.kGreen, ROOT.kBlack, ROOT.kBlue, ROOT.kViolet, ROOT.kYellow, ROOT.kCyan, ROOT.kOrange, ROOT.kSpring, ROOT.kAzure]"
   ]
  },
  {
   "cell_type": "markdown",
   "id": "0eae8154-cec8-44c7-9fae-b1c3205653cd",
   "metadata": {},
   "source": [
    "DESY 2019 phi scan"
   ]
  },
  {
   "cell_type": "code",
   "execution_count": null,
   "id": "b16e918c-13ed-4768-97e1-f06f92376e5b",
   "metadata": {
    "jupyter": {
     "source_hidden": true
    },
    "tags": []
   },
   "outputs": [],
   "source": [
    "path = '/eos/experiment/neutplatform/np07/HAT/DESY_2019/phi/'\n",
    "x_axis = [0, 10, 20, 30, 40, 45, 50, 60, 70, 80, 90]\n",
    "file_mc = [['412 ns', [ROOT.TFile(path +   'phi_412_0_iter3.root'),\n",
    "                         ROOT.TFile(path + 'phi_412_10_iter3.root'),\n",
    "                         ROOT.TFile(path + 'phi_412_20_iter3.root'),\n",
    "                         ROOT.TFile(path + 'phi_412_30_d_iter3.root'),\n",
    "                         ROOT.TFile(path + 'phi_412_40_d_iter3.root'),\n",
    "                         ROOT.TFile(path + 'phi_412_45_d_iter3.root'),\n",
    "                         ROOT.TFile(path + 'phi_412_50_d_iter3.root'),\n",
    "                         ROOT.TFile(path + 'phi_412_60_d_iter3.root'),\n",
    "                         ROOT.TFile(path + 'phi_412_70_iter3.root'),\n",
    "                         ROOT.TFile(path + 'phi_412_80_iter3.root'),\n",
    "                         ROOT.TFile(path + 'phi_412_90_iter3.root')],\n",
    "              [x for x in x_axis]\n",
    "           ]\n",
    "          ]\n",
    "\n",
    "x_title = '#phi [deg]'"
   ]
  },
  {
   "cell_type": "markdown",
   "id": "223eda8e-d178-490a-b3f9-e244e2ec194b",
   "metadata": {},
   "source": [
    "# Plotting"
   ]
  },
  {
   "cell_type": "markdown",
   "id": "090a34b6-f59f-40e9-88d4-d2300d59c8bb",
   "metadata": {},
   "source": [
    "### Merge all residuals and do joint fit"
   ]
  },
  {
   "cell_type": "code",
   "execution_count": null,
   "id": "66cecb9f-573c-4b2f-ba90-4183361e2310",
   "metadata": {
    "jupyter": {
     "source_hidden": true
    },
    "tags": []
   },
   "outputs": [],
   "source": [
    "%jsroot off\n",
    "c.cd()\n",
    "gr = []\n",
    "opt = 'ap'\n",
    "for num_main, file_list in enumerate(file_mc):\n",
    "    gr.append(ROOT.TGraphErrors())\n",
    "    for num, file in enumerate(file_list[1]):\n",
    "        h = ROOT.TH1F(f'h_{num}', '', 200, -3., 3.)\n",
    "        # print(file.GetName())\n",
    "        file.outtree.Project(f'h_{num}', 'residual*1e3', 'abs(residual) < 0.01')\n",
    "        h.Fit('gaus', 'Q')\n",
    "        s = h.GetFunction('gaus').GetParameter(2)\n",
    "        gr[-1].SetPoint(gr[-1].GetN(), file_list[2][num], s*1000)\n",
    "        # print(s * 1000)\n",
    "        gr[-1].SetPointError(gr[-1].GetN() - 1, 0, h.GetFunction('gaus').GetParError(2) * 1000)\n",
    "        \n",
    "gr[0].GetYaxis().SetRangeUser(0., 1500)\n",
    "gr[0].GetXaxis().SetRangeUser(-10., 100)\n",
    "for num_main, gr_one in enumerate(gr):\n",
    "    if num_main > 0: opt = 'p same'\n",
    "    gr_one.Draw(opt)\n",
    "    gr_one.SetMarkerColor(1+num_main)\n",
    "    gr_one.SetLineColor(1+num_main)\n",
    "    gr_one.SetTitle(f'{file_mc[num_main][0]};{x_title}; Resolution [#mum];')\n",
    "c.Draw()\n",
    "# c.BuildLegend()"
   ]
  },
  {
   "cell_type": "code",
   "execution_count": null,
   "id": "da0ef428-6f8d-46ca-8c35-e7b46e14fdb9",
   "metadata": {
    "tags": []
   },
   "outputs": [],
   "source": [
    "gr_mc_RC55 = gr[0].Clone()\n",
    "# gr[0].GetY()[2]\n",
    "# %jsroot off\n",
    "# c.cd()\n",
    "# gr[0].Draw('ap')\n",
    "# c.Draw()"
   ]
  },
  {
   "cell_type": "markdown",
   "id": "e23b1fee-468b-4d53-99bc-46fd93fcf578",
   "metadata": {},
   "source": [
    "### Fit clusters independently"
   ]
  },
  {
   "cell_type": "code",
   "execution_count": null,
   "id": "c3e849fe-dec7-469b-a0a8-e07cd4774d47",
   "metadata": {
    "tags": []
   },
   "outputs": [],
   "source": [
    "%jsroot on\n",
    "c.cd()\n",
    "func = ROOT.TF1('func', 'sqrt([0]*[0] + [1]*x)', 0, 1000)\n",
    "func.SetParName(0, '#sigma_{0}')\n",
    "func.SetParName(1, 'C_{diff}^{2}/N_{eff}')\n",
    "opt = 'ap'\n",
    "gr = []\n",
    "for num_main, file_list in enumerate(file_mc):\n",
    "    gr.append(ROOT.TGraphErrors())\n",
    "    for num, file in enumerate(file_list[1]):\n",
    "        mean = 0\n",
    "        v = []\n",
    "        for col in range(1, 70):\n",
    "            h = ROOT.TH1F(f'h_{num}_{col}', '', 200, -3., 3.)\n",
    "            file.outtree.Project(f'h_{num}_{col}', 'residual*1e3', f'abs(residual) < 0.1 && pad_x[][0] == {col}')\n",
    "            if h.Integral() < 100: continue\n",
    "            h.Fit('gaus', 'Q')\n",
    "            if not h.GetFunction('gaus') or h.GetFunction('gaus').GetParameter(2) > 5:\n",
    "                continue\n",
    "            mean += h.GetFunction('gaus').GetParameter(2)\n",
    "            v.append(h.GetFunction('gaus').GetParameter(2))\n",
    "        if not len(v):\n",
    "            continue\n",
    "        rms = 0\n",
    "        mean /= len(v)\n",
    "        for val in v:\n",
    "            rms += (val - mean)**2\n",
    "        rms = (rms / len(v))**0.5\n",
    "        # print(file_list[2][num], mean/10, rms /10, sep='\\t')\n",
    "        \n",
    "        gr[-1].SetPoint(gr[-1].GetN(), file_list[2][num], mean /10 * 10000 )\n",
    "        gr[-1].SetPointError(gr[-1].GetN() - 1, 0, rms /10  * 10000)\n",
    "\n",
    "gr[0].GetYaxis().SetRangeUser(0., 500)\n",
    "gr[0].GetXaxis().SetRangeUser(-10., 100)\n",
    "# for num_main, gr_one in enumerate(gr):\n",
    "#     if num_main > 0: opt = 'p same'\n",
    "#     gr_one.Draw(opt)\n",
    "#     gr_one.SetMarkerColor(1+num_main)\n",
    "#     gr_one.SetLineColor(1+num_main)\n",
    "#     gr_one.SetTitle(f'{file_mc[num_main][0]};{x_title}; Resolution [#mum];')\n",
    "\n",
    "#     ROOT.gStyle.SetOptFit(0)\n",
    "#     gr_one.Fit('func', '0')\n",
    "# c.Draw()\n",
    "# c.BuildLegend()"
   ]
  },
  {
   "cell_type": "code",
   "execution_count": null,
   "id": "ca33dca6-a140-419f-9fe4-78a90edc3fab",
   "metadata": {
    "tags": []
   },
   "outputs": [],
   "source": [
    "gr_mc = gr[0].Clone()\n",
    "# z_respin = gr[0].Clone()\n",
    "# gr[0].Fit('func', '0')\n",
    "# gr[0].GetYaxis().SetRangeUser(0., 2000)\n",
    "# gr[0].Draw('ap')\n",
    "# c.Draw()"
   ]
  },
  {
   "cell_type": "code",
   "execution_count": null,
   "id": "31feb80e-de0b-4b1a-9585-4f41129b11af",
   "metadata": {
    "jupyter": {
     "source_hidden": true
    },
    "tags": []
   },
   "outputs": [],
   "source": [
    "%jsroot on\n",
    "c.cd()\n",
    "gr17.SetMarkerColor(ROOT.kRed)\n",
    "gr17.SetTitle('Pre-computation old geometry')\n",
    "gr17.Draw('ap')\n",
    "gr16.SetTitle('No Pre-computation old geometry')\n",
    "gr16.Draw('p same')\n",
    "gr14.SetMarkerColor(ROOT.kGreen)\n",
    "gr14.SetLineColor(ROOT.kGreen)\n",
    "gr14.SetTitle('Pre-computation new geometry')\n",
    "gr14.Draw('p same')\n",
    "\n",
    "gr14a.SetMarkerColor(ROOT.kMagenta)\n",
    "gr14a.SetLineColor(ROOT.kMagenta)\n",
    "gr14a.SetTitle('Pre-computation new geometry, exclude 1st column')\n",
    "gr14a.Draw('p same')\n",
    "\n",
    "gr15.SetMarkerColor(ROOT.kBlue)\n",
    "gr15.SetLineColor(ROOT.kBlue)\n",
    "gr15.SetTitle('No Pre-computation new geometry')\n",
    "gr15.Draw('p same')\n",
    "c.Draw()\n",
    "c.BuildLegend()"
   ]
  },
  {
   "cell_type": "code",
   "execution_count": null,
   "id": "2b9bc209-e339-4d96-9edc-79178198b1ce",
   "metadata": {
    "jupyter": {
     "source_hidden": true
    },
    "tags": []
   },
   "outputs": [],
   "source": [
    "c.cd()\n",
    "# gr18.SetTitle('No pre-compute')\n",
    "# gr18.Draw('ap')\n",
    "\n",
    "gr_mc_55.SetTitle('MC RC 55')\n",
    "gr_mc_55.SetMarkerColor(ROOT.kBlack)\n",
    "gr_mc_55.SetMarkerStyle(21)\n",
    "gr_mc_55.SetLineColor(ROOT.kBlack)\n",
    "\n",
    "# gr_mc_55.Fit('func', '', '', 20, 100)\n",
    "gr_mc_55.Draw('ap')\n",
    "\n",
    "gr_mc_100.SetTitle('MC RC 100')\n",
    "gr_mc_100.SetMarkerColor(ROOT.kRed)\n",
    "gr_mc_100.SetLineColor(ROOT.kRed)\n",
    "gr_mc_100.SetMarkerStyle(21)\n",
    "# gr_mc.Fit('func')\n",
    "gr_mc_100.Draw('p same')\n",
    "\n",
    "gr_data.SetTitle('Data 2021')\n",
    "gr_data.SetMarkerColor(ROOT.kGreen)\n",
    "gr_data.SetMarkerStyle(22)\n",
    "gr_data.SetLineColor(ROOT.kGreen)\n",
    "# gr_mc.Fit('func')\n",
    "gr_data.Draw('p same')\n",
    "\n",
    "gr_data19.SetTitle('Data 2019')\n",
    "gr_data19.SetMarkerColor(ROOT.kBlue)\n",
    "gr_data19.SetMarkerStyle(22)\n",
    "gr_data19.SetLineColor(ROOT.kBlue)\n",
    "# gr_mc.Fit('func')\n",
    "gr_data19.Draw('p same')\n",
    "\n",
    "\n",
    "\n",
    "c.Draw()\n",
    "c.BuildLegend()"
   ]
  },
  {
   "cell_type": "code",
   "execution_count": null,
   "id": "a9654e23-a301-4acd-bc77-0efda1f98dbf",
   "metadata": {
    "jupyter": {
     "source_hidden": true
    },
    "tags": []
   },
   "outputs": [],
   "source": [
    "%jsroot on\n",
    "c.cd()\n",
    "# gr_mc18.SetTitle('MC full')\n",
    "# gr_mc18.Draw('ap')\n",
    "\n",
    "# gr_mc21.SetTitle('MC full')\n",
    "# gr_mc21.SetMarkerColor(ROOT.kRed)\n",
    "# gr_mc21.SetLineColor(ROOT.kRed)\n",
    "# gr_mc21.Draw('p a')\n",
    "\n",
    "# gr_mc22.SetTitle('MC full, RC45, small diff')\n",
    "# gr_mc22.SetMarkerColor(ROOT.kBlack)\n",
    "# gr_mc22.SetLineColor(ROOT.kBlack)\n",
    "# gr_mc22.Draw('ap')\n",
    "\n",
    "# gr_mc23.SetTitle('MC full, RC45, large diff')\n",
    "# gr_mc23.SetMarkerColor(ROOT.kRed)\n",
    "# gr_mc23.SetLineColor(ROOT.kRed)\n",
    "# gr_mc23.Draw('p same')\n",
    "\n",
    "gr_mc24.SetTitle('MC precomp., RC 55')\n",
    "gr_mc24.SetMarkerColor(ROOT.kGreen)\n",
    "gr_mc24.SetLineColor(ROOT.kGreen)\n",
    "gr_mc24.Draw('p a')\n",
    "\n",
    "# gr_mc25.SetTitle('MC precomp. interpolate')\n",
    "# gr_mc25.SetMarkerColor(ROOT.kBlue)\n",
    "# gr_mc25.SetLineColor(ROOT.kBlue)\n",
    "# gr_mc25.Draw('p same')\n",
    "\n",
    "gr_mc26.SetTitle('MC precomp., RC100')\n",
    "gr_mc26.SetMarkerColor(ROOT.kOrange)\n",
    "gr_mc26.SetLineColor(ROOT.kOrange)\n",
    "gr_mc26.Draw('p same')\n",
    "\n",
    "# gr_mc14.SetTitle('MC precomp, RC55')\n",
    "# gr_mc14.SetMarkerColor(ROOT.kMagenta)\n",
    "# gr_mc14.SetLineColor(ROOT.kMagenta)\n",
    "# gr_mc14.Draw('p same')\n",
    "# ROOT.gStyle.SetOptFit(1)\n",
    "\n",
    "c.Draw()\n",
    "c.BuildLegend()"
   ]
  },
  {
   "cell_type": "code",
   "execution_count": null,
   "id": "b598d2f0-488a-4ee4-b4f1-3aaaee592389",
   "metadata": {
    "jupyter": {
     "source_hidden": true
    },
    "tags": []
   },
   "outputs": [],
   "source": [
    "%jsroot on\n",
    "c.cd()\n",
    "gr_time.SetTitle('PRF + time')\n",
    "gr_time.SetMarkerColor(ROOT.kRed)\n",
    "gr_time.Draw('ap')\n",
    "\n",
    "gr_prf.SetTitle('PRF')\n",
    "gr_prf.SetMarkerColor(ROOT.kBlack)\n",
    "gr_prf.Draw('p same')\n",
    "\n",
    "gr_ped.SetTitle('Pedestal uncertainty')\n",
    "gr_ped.SetMarkerColor(ROOT.kBlue)\n",
    "gr_ped.Draw('p same')\n",
    "\n",
    "gr_prof.SetTitle('Profile PRF uncertainty')\n",
    "gr_prof.SetMarkerColor(ROOT.kGreen)\n",
    "gr_prof.Draw('p same')\n",
    "\n",
    "c.Draw()\n",
    "c.BuildLegend()"
   ]
  },
  {
   "cell_type": "code",
   "execution_count": null,
   "id": "e673e869-040f-422d-a375-30b7ebe17a8f",
   "metadata": {
    "tags": []
   },
   "outputs": [],
   "source": [
    "%jsroot on\n",
    "c.cd()\n",
    "# gr_2021.SetTitle(f'Data 2021;{x_title};Spatial resolution [#mum]')\n",
    "# gr_2021.GetYaxis().SetRangeUser(0, 1500)\n",
    "# gr_2021.Draw('ap')\n",
    "\n",
    "# gr_2019.SetTitle(f'Data 2019;{x_title};Spatial resolution [#mum]')\n",
    "# gr_2019.SetMarkerColor(ROOT.kCyan+2)\n",
    "# gr_2019.SetLineColor(ROOT.kCyan+2)\n",
    "# gr_2019.Draw('pa')\n",
    "\n",
    "gr_mc.SetTitle(f'MC, fully optimised;{x_title};Spatial resolution [#mum]')\n",
    "gr_mc.SetMarkerSize(1.2)\n",
    "gr_mc.SetMarkerColor(ROOT.kCyan+2)\n",
    "gr_mc.SetLineColor(ROOT.kCyan+2)\n",
    "gr_mc.Draw('p a')\n",
    "\n",
    "# gr_mc_5_200.SetTitle(f'MC, RC 100, 200 ns;{x_title};Spatial resolution [#mum]')\n",
    "# gr_mc_5_200.SetMarkerColor(ROOT.kOrange+1)\n",
    "# gr_mc_5_200.SetLineColor(ROOT.kOrange+1)\n",
    "# gr_mc_5_200.Draw('p same')\n",
    "\n",
    "# gr_mc_RC100.SetTitle('MC, RC 100')# #sigma_{trans}=286 #mum/#sqrt{cm}')\n",
    "# gr_mc_RC100.SetMarkerColor(ROOT.kCyan+2)\n",
    "# gr_mc_RC100.SetLineColor(ROOT.kCyan+2)\n",
    "# gr_mc_RC100.Draw('p same')\n",
    "\n",
    "# gr_mc_RC55.SetTitle('MC, RC 55')# #sigma_{trans}=286 #mum/#sqrt{cm}')\n",
    "# gr_mc_RC55.SetMarkerColor(ROOT.kOrange+1)\n",
    "# gr_mc_RC55.SetLineColor(ROOT.kOrange+1)\n",
    "# gr_mc_RC55.Draw('p same')\n",
    "\n",
    "gr_mc_no.SetTitle('MC, no optimisation')# #sigma_{trans}=286 #mum/#sqrt{cm}')\n",
    "gr_mc_no.SetMarkerColor(ROOT.kOrange+1)\n",
    "gr_mc_no.SetLineColor(ROOT.kOrange+1)\n",
    "gr_mc_no.Draw('p same')\n",
    "\n",
    "# gr_mc_LD_RC100.SetTitle('MC LD RC 100')\n",
    "# gr_mc_LD_RC100.SetMarkerColor(ROOT.kOrange+1)\n",
    "# gr_mc_LD_RC100.SetLineColor(ROOT.kOrange+1)\n",
    "# gr_mc_LD_RC100.Draw('p same')\n",
    "\n",
    "# gr_mc_MD_RC100.SetTitle('MC, RC 100, #sigma_{trans}=31 #mum/#sqrt{cm}')\n",
    "# gr_mc_MD_RC100.SetMarkerColor(ROOT.kOrange+1)\n",
    "# gr_mc_MD_RC100.SetLineColor(ROOT.kOrange+1)\n",
    "# gr_mc_MD_RC100.Draw('p same')\n",
    "\n",
    "# gr_mc_new.SetTitle('MC new')\n",
    "# gr_mc_new.SetMarkerColor(ROOT.kRed)\n",
    "# gr_mc_new.SetLineColor(ROOT.kRed)\n",
    "# gr_mc_new.Draw('p same')\n",
    "\n",
    "ROOT.gStyle.SetOptTitle(0)\n",
    "c.Draw()\n",
    "c.BuildLegend()"
   ]
  },
  {
   "cell_type": "code",
   "execution_count": null,
   "id": "84cf6f8e-0314-4b16-ac23-e15ec305ec0b",
   "metadata": {
    "tags": []
   },
   "outputs": [],
   "source": [
    "%jsroot on\n",
    "c.cd()\n",
    "gr_to_fit = gr_mc_LD_RC100\n",
    "gr_to_fit.Fit('func')#, '', '', 10, 100)\n",
    "gr_to_fit.Draw('ap')\n",
    "\n",
    "c.Draw()\n",
    "c.BuildLegend()"
   ]
  },
  {
   "cell_type": "code",
   "execution_count": null,
   "id": "50e03443-0e95-4c65-9f99-7dcffd4ac086",
   "metadata": {
    "tags": []
   },
   "outputs": [],
   "source": [
    "%jsroot on\n",
    "c.cd()\n",
    "\n",
    "gr_mc_90.SetTitle(f'MC, 90cm;{x_title};Spatial resolution [#mum]')\n",
    "gr_mc_90.SetMarkerColor(ROOT.kBlack)\n",
    "gr_mc_90.Draw('ap')\n",
    "\n",
    "gr_mc_50.SetTitle('MC, 50 cm')\n",
    "gr_mc_50.SetMarkerColor(ROOT.kOrange+1)\n",
    "gr_mc_50.Draw('p same')\n",
    "\n",
    "gr_mc_5.SetTitle('MC, 5 cm')\n",
    "gr_mc_5.SetMarkerColor(ROOT.kCyan+2)\n",
    "gr_mc_5.Draw('p same')\n",
    "\n",
    "c.Draw()\n",
    "c.BuildLegend()"
   ]
  },
  {
   "cell_type": "code",
   "execution_count": null,
   "id": "88f97e4f-bdb5-4753-9220-c561abc39967",
   "metadata": {
    "tags": []
   },
   "outputs": [],
   "source": [
    "var = globals().copy()\n",
    "for key in var.keys():\n",
    "    if 'gr' in key:\n",
    "        print(key)"
   ]
  },
  {
   "cell_type": "code",
   "execution_count": null,
   "id": "854a4f60-6e24-45f8-89b4-15e5b334b90e",
   "metadata": {},
   "outputs": [],
   "source": [
    "%who"
   ]
  },
  {
   "cell_type": "code",
   "execution_count": null,
   "id": "2209ff78-99fe-4871-b676-29e87377260d",
   "metadata": {},
   "outputs": [],
   "source": []
  }
 ],
 "metadata": {
  "kernelspec": {
   "display_name": "Python 3",
   "language": "python",
   "name": "python3"
  },
  "language_info": {
   "codemirror_mode": {
    "name": "ipython",
    "version": 3
   },
   "file_extension": ".py",
   "mimetype": "text/x-python",
   "name": "python",
   "nbconvert_exporter": "python",
   "pygments_lexer": "ipython3",
   "version": "3.9.14"
  },
  "toc-autonumbering": false,
  "toc-showcode": false,
  "toc-showmarkdowntxt": false,
  "toc-showtags": false
 },
 "nbformat": 4,
 "nbformat_minor": 5
}
