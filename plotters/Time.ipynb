{
 "cells": [
  {
   "cell_type": "code",
   "execution_count": null,
   "metadata": {},
   "outputs": [],
   "source": [
    "import ROOT\n",
    "# from T2KStyle import T2KStyle\n",
    "c = ROOT.TCanvas('c', '', 800, 600)\n",
    "cl = ROOT.TCanvas('cl', '', 1600, 1200)\n",
    "cw = ROOT.TCanvas('c2', '', 1600, 600)"
   ]
  },
  {
   "cell_type": "code",
   "execution_count": null,
   "metadata": {},
   "outputs": [],
   "source": [
    "# 0 - desy\n",
    "# 1 - mm1\n",
    "# 2 - er2\n",
    "# 3 - er3\n",
    "# 4 - DESY cosmic\n",
    "# path = '~/LXPLUS/DESY_testbeam/tree/'\n",
    "path = '/eos/user/s/ssuvorov/DESY_testbeam/cosmic_strict_v2/'\n",
    "voltage = '380'\n",
    "\n",
    "file = [ROOT.TFile(path + '../tree/g_' + voltage + '_200_dedx.root')]\n",
    "file.append(ROOT.TFile(path + '/mm1_' + voltage + 'V_200ns_dedx.root'))\n",
    "file.append(ROOT.TFile(path + '/er2_' + voltage + 'V_dedx.root'))\n",
    "file.append(ROOT.TFile(path + '/er3_' + voltage + 'V_dedx.root'))\n",
    "\n",
    "# file.append(ROOT.TFile('~/LXPLUS/DESY_testbeam/multi_pad/c_0d_0p2T_200ns_50Mhz_dedx.root'))\n",
    "file.append(ROOT.TFile(path + '../tree/c_0d_0T_200ns_25Mhz_dedx.root'))\n",
    "\n",
    "name = ['DESY beam', 'MM1', 'ERAM2', 'ERAM3', 'DESY_cosmic', 'DESY_cosmic 2']\n",
    "color = [ROOT.kBlack, ROOT.kRed, ROOT.kGreen, ROOT.kBlue, ROOT.kViolet, ROOT.kCyan]"
   ]
  },
  {
   "cell_type": "markdown",
   "metadata": {},
   "source": [
    "## Time difference (dt)"
   ]
  },
  {
   "cell_type": "code",
   "execution_count": null,
   "metadata": {},
   "outputs": [],
   "source": [
    "%jsroot on\n",
    "cw.Clear()\n",
    "cw.Divide(2)\n",
    "\n",
    "hs = [ROOT.THStack('time_1st', ''), ROOT.THStack('time_2nd', '')]\n",
    "h_name = ['delta_t_fst', 'delta_t_scd']\n",
    "title = ['t_{2}-t_{1} [time bins]', 't_{3}-t_{1} [time bins]']\n",
    "var = ['pad_time[1][]-pad_time[0][]', 'pad_time[2][]-pad_time[0][]']\n",
    "cut = ['multiplicity > 1', 'multiplicity > 2']\n",
    "\n",
    "for i in [0, 1, 2, 3, 4]:\n",
    "    for dt_id in range(2):\n",
    "        dt_h = ROOT.TH1F('dt_h', '', 300, -150., 150)\n",
    "        file[i].outtree.Project('dt_h', var[dt_id], cut[dt_id], '')\n",
    "        dt_h.Scale(1./dt_h.Integral())\n",
    "        dt_h.SetTitle(name[i])\n",
    "        dt_h.SetLineColor(color[i])\n",
    "        hs[dt_id].Add(dt_h)\n",
    "        \n",
    "for dt_id in range(2):\n",
    "    cw.cd(dt_id+1)\n",
    "    hs[dt_id].Draw('histo nostack')\n",
    "    hs[dt_id].GetXaxis().SetTitle(title[dt_id])\n",
    "    hs[dt_id].SetMinimum(1e-4)\n",
    "    hs[dt_id].GetXaxis().SetRangeUser(-60, 80)\n",
    "    ROOT.gPad.SetLogy()\n",
    "    ROOT.gPad.SetGrid()\n",
    "    ROOT.gPad.BuildLegend()\n",
    "\n",
    "cw.Draw()"
   ]
  },
  {
   "cell_type": "code",
   "execution_count": null,
   "metadata": {},
   "outputs": [],
   "source": [
    "%jsroot on\n",
    "c.Clear()\n",
    "c.cd()\n",
    "\n",
    "h = ROOT.TH2F('h', '', 150, -60., 90., 150, -50., 100)\n",
    "file[1].outtree.Project('h', 'pad_time[1][]-pad_time[0][]:pad_time[2][]-pad_time[0][]', 'multiplicity > 2', 'colz')\n",
    "h.GetYaxis().SetTitle('t_{2}-t_{1}')\n",
    "h.GetXaxis().SetTitle('t_{3}-t_{1}')\n",
    "h.Draw('colz')\n",
    "ROOT.gPad.SetGrid()\n",
    "c.SetLogz(0)\n",
    "c.SetLogy(0)\n",
    "c.Draw()"
   ]
  },
  {
   "cell_type": "markdown",
   "metadata": {},
   "source": [
    "## Charge dependence on dt"
   ]
  },
  {
   "cell_type": "code",
   "execution_count": null,
   "metadata": {},
   "outputs": [],
   "source": [
    "%jsroot on\n",
    "c.Clear()\n",
    "c.cd()\n",
    "\n",
    "file_id = 1\n",
    "\n",
    "h = ROOT.TH2F('h', '', 300, 0., 3000, 130, -30., 100)\n",
    "file[file_id].outtree.Project('h', 'pad_time[2][]-pad_time[0][]:pad_charge[0][]', 'multiplicity > 2', 'colz')\n",
    "h.GetYaxis().SetTitle('t_{3}-t_{1}')\n",
    "h.GetXaxis().SetTitle('Q_{1}')\n",
    "h.SetTitle(name[file_id])\n",
    "ROOT.gStyle.SetOptTitle(1)\n",
    "h.Draw('colz')\n",
    "c.SetLogz(0)\n",
    "c.SetLogy(0)\n",
    "c.Draw()"
   ]
  },
  {
   "cell_type": "code",
   "execution_count": null,
   "metadata": {},
   "outputs": [],
   "source": [
    "cw.Clear()\n",
    "cw.cd()\n",
    "cw.Divide(2)\n",
    "\n",
    "file_id = 1\n",
    "\n",
    "h = ROOT.TH2F('h', '', 10, 0., 10, 200, -100., 100)\n",
    "file[file_id].outtree.Project('h', 'pad_time[1][]-pad_time[0][]:multiplicity', 'multiplicity > 1', 'colz')\n",
    "h.GetYaxis().SetTitle('t_{2}-t_{1}')\n",
    "h.GetXaxis().SetTitle('Multiplicity')\n",
    "\n",
    "h2 = ROOT.TH2F('h2', '', 10, 0., 10, 200, -100., 100)\n",
    "file[file_id].outtree.Project('h2', 'pad_time[2][]-pad_time[0][]:multiplicity', 'multiplicity > 2', 'colz')\n",
    "h2.GetYaxis().SetTitle('t_{3}-t_{1}')\n",
    "h2.GetXaxis().SetTitle('Multiplicity')\n",
    "\n",
    "cw.cd(1)\n",
    "h.Draw('colz')\n",
    "cw.cd(2)\n",
    "h2.Draw('colz')\n",
    "\n",
    "\n",
    "cw.Draw()"
   ]
  },
  {
   "cell_type": "markdown",
   "metadata": {},
   "source": [
    "### Print out fractions with anomlies"
   ]
  },
  {
   "cell_type": "code",
   "execution_count": null,
   "metadata": {},
   "outputs": [],
   "source": [
    "%jsroot on\n",
    "\n",
    "file_id = 3\n",
    "h = ROOT.TH1F('h', '', 10, 0., 10.)\n",
    "fraction_n = file[file_id].outtree.Project('h', 'multiplicity', 'multiplicity > 1 && pad_time[1][]-pad_time[0][] < 0') / file[file_id].outtree.Project('h', '1', 'multiplicity > 1')\n",
    "print('Fraction dt<0', fraction_n)\n",
    "fraction_n = file[file_id].outtree.Project('h', 'multiplicity', 'multiplicity > 1 && pad_time[1][]-pad_time[0][] < -2') / file[file_id].outtree.Project('h', '1', 'multiplicity > 1')\n",
    "print('Fraction dt<-2', fraction_n)\n",
    "file[file_id].outtree.Project('h', 'multiplicity', 'multiplicity > 1 && pad_time[1][]-pad_time[0][] > 0')\n",
    "print('av. Mult with dt>0', h.GetMean())\n",
    "file[file_id].outtree.Project('h', 'multiplicity', 'multiplicity > 1 && pad_time[1][]-pad_time[0][] < -2')\n",
    "print('av. Mult with dt<-2',  h.GetMean())\n",
    "print(file[file_id].outtree.Project('h', '1', 'multiplicity > 1 && pad_time[1][]-pad_time[0][] > 0') / file[file_id].outtree.Project('h', '1', 'pad_time[1][]-pad_time[0][] > 0'))\n",
    "print(file[file_id].outtree.Project('h', '1', 'multiplicity > 1 && pad_time[1][]-pad_time[0][] < 0') / file[file_id].outtree.Project('h', '1', 'pad_time[1][]-pad_time[0][] < 0'))\n",
    "\n",
    "c.cd()\n",
    "h = ROOT.TH1F('h', '', 10, 0., 10.)\n",
    "file[file_id].outtree.Project('h', 'multiplicity', 'multiplicity > 1 && pad_time[1][]-pad_time[0][] > 0')\n",
    "h.SetTitle('t_{2}-t_{1} > 0')\n",
    "h2 = ROOT.TH1F('h2', '', 10, 0., 10.)\n",
    "file[file_id].outtree.Project('h2', 'multiplicity', 'multiplicity > 1 && pad_time[1][]-pad_time[0][] < -2')\n",
    "h2.SetTitle('t_{2}-t_{1} < -2')\n",
    "\n",
    "h.Scale(1./h.Integral())\n",
    "h.Draw('histo')\n",
    "h2.SetLineColor(ROOT.kRed)\n",
    "h2.Scale(1./h2.Integral())\n",
    "h2.Draw('histo same')\n",
    "c.BuildLegend()\n",
    "c.Draw()"
   ]
  },
  {
   "cell_type": "markdown",
   "metadata": {},
   "source": [
    "## Voltage dependence"
   ]
  },
  {
   "cell_type": "code",
   "execution_count": null,
   "metadata": {},
   "outputs": [],
   "source": [
    "%jsroot on\n",
    "c.Clear()\n",
    "c.cd()\n",
    "\n",
    "# ROOT.gStyle.SetOptStat(ROOT.kFALSE)\n",
    "# f1 = ROOT.TFile(path + '/mm1_360V_200ns_dedx.root')\n",
    "# f2 = ROOT.TFile(path + '/mm1_380V_200ns_dedx.root')\n",
    "\n",
    "f1 = ROOT.TFile(path + '/er3_360V_dedx.root')\n",
    "f2 = ROOT.TFile(path + '/er3_380V_dedx.root')\n",
    "\n",
    "# f1 = ROOT.TFile(path + '/tree/g_360_200_dedx.root')\n",
    "# f2 = ROOT.TFile(path + '/tree/g_380_200_dedx.root')\n",
    "\n",
    "hs = ROOT.THStack('hs', '')\n",
    "\n",
    "h1 = ROOT.TH1F('h1', '', 200, 0., 200.)\n",
    "f1.outtree.Project('h1', 'pad_charge[2][]', 'multiplicity > 2 && pad_time[2][]-pad_time[0][] < 2')\n",
    "# h1.Draw()\n",
    "h1.SetTitle(\"360 V\")\n",
    "h1.Scale(1./h1.Integral())\n",
    "hs.Add(h1)\n",
    "\n",
    "h2 = ROOT.TH1F('h2', '', 200, 0., 200)\n",
    "f2.outtree.Project('h2', 'pad_charge[2][]', 'multiplicity > 2 && pad_time[2][]-pad_time[0][] < 2', '')\n",
    "h2.Scale(1./h2.Integral())\n",
    "h2.SetLineColor(ROOT.kRed)\n",
    "h2.SetTitle(\"380 V\")\n",
    "hs.Add(h2)\n",
    "\n",
    "hs.Draw('histo nostack')\n",
    "hs.GetXaxis().SetTitle('Q_{3}')\n",
    "c.BuildLegend()\n",
    "c.Draw()"
   ]
  },
  {
   "cell_type": "code",
   "execution_count": null,
   "metadata": {},
   "outputs": [],
   "source": [
    "%jsroot on\n",
    "c.Clear()\n",
    "c.cd()\n",
    "\n",
    "hs = ROOT.THStack('hs', '')\n",
    "\n",
    "h1 = ROOT.TH1F('h1', '', 100, 0., 3000.)\n",
    "file[1].outtree.Project('h1', 'pad_charge[2][]', 'multiplicity > 2 && pad_time[2][]-pad_time[0][] < 2')\n",
    "h1.SetTitle('360 V')\n",
    "h1.Scale(1./h1.Integral())\n",
    "hs.Add(h1)\n",
    "\n",
    "h2 = ROOT.TH1F('h2', '', 100, 0., 3000)\n",
    "file[1].outtree.Project('h2', 'pad_charge[2][]', 'multiplicity > 2 && pad_time[2][]-pad_time[0][] < 2', '')\n",
    "h2.Scale(1./h2.Integral())\n",
    "h2.SetTitle('t_{3}-t_{1} < 2')\n",
    "h2.SetLineColor(ROOT.kRed)\n",
    "hs.Add(h2)\n",
    "\n",
    "hs.Draw('histo nostack')\n",
    "hs.GetXaxis().SetTitle('Q_{3}')\n",
    "c.BuildLegend()\n",
    "c.Draw()"
   ]
  },
  {
   "cell_type": "markdown",
   "metadata": {},
   "source": [
    "## Charge fraction"
   ]
  },
  {
   "cell_type": "code",
   "execution_count": null,
   "metadata": {},
   "outputs": [],
   "source": [
    "file_new = [ROOT.TFile(path + '../tree/g_360_200_dedx.root')]\n",
    "file_new.append(ROOT.TFile(path + '../tree/mm1_360V_200ns_dedx.root'))\n",
    "file_new.append(ROOT.TFile(path + '../tree/er2_360V_dedx.root'))\n",
    "file_new.append(ROOT.TFile(path + '../tree/er3_360V_dedx.root'))\n",
    "\n",
    "# file.append(ROOT.TFile('~/LXPLUS/DESY_testbeam/multi_pad/c_0d_0p2T_200ns_50Mhz_dedx.root'))\n",
    "file_new.append(ROOT.TFile('~/LXPLUS/DESY_testbeam/tree/c_0d_0T_200ns_25Mhz_dedx.root'))\n",
    "\n",
    "name = ['DESY beam', 'MM1', 'ERAM2', 'ERAM3', 'DESY_cosmic', 'DESY_cosmic 2']\n",
    "color = [ROOT.kBlack, ROOT.kRed, ROOT.kGreen, ROOT.kBlue, ROOT.kViolet, ROOT.kCyan]\n",
    "\n",
    "hs = ROOT.THStack('hs', '')\n",
    "for i in [0, 1, 2, 3]:\n",
    "    h2 = ROOT.TH1F('h2', '', 300, 0., .3)\n",
    "    file_new[i].outtree.Project('h2', 'pad_charge[2][]/pad_charge[0][]', 'multiplicity > 2 && pad_time[2][]-pad_time[0][] < 2', '')\n",
    "    h2.Scale(1./h2.Integral())\n",
    "    h2.SetLineColor(color[i])\n",
    "    h2.SetTitle(name[i])\n",
    "    hs.Add(h2)\n",
    "    \n",
    "c.cd()\n",
    "hs.Draw('histo nostack')\n",
    "hs.GetXaxis().SetTitle('Q_{3}/Q_{1}')\n",
    "c.Draw()\n",
    "c.BuildLegend()"
   ]
  },
  {
   "cell_type": "markdown",
   "metadata": {},
   "source": [
    "## Position dependence"
   ]
  },
  {
   "cell_type": "code",
   "execution_count": null,
   "metadata": {},
   "outputs": [],
   "source": [
    "%jsroot on\n",
    "c.Clear()\n",
    "c.cd()\n",
    "\n",
    "ROOT.gStyle.SetOptStat(ROOT.kFALSE)\n",
    "file_id = 1\n",
    "\n",
    "h = ROOT.TH2F('h', '', 36, 0., 36., 130, -30., 100)\n",
    "file[file_id].outtree.Project('h', 'pad_time[2][]-pad_time[0][]:pad_y[2]', 'multiplicity > 2', 'colz')\n",
    "h.GetYaxis().SetTitle('t_{3}-t_{1}')\n",
    "h.GetXaxis().SetTitle('3rd pad Y')\n",
    "h.SetTitle(name[file_id])\n",
    "ROOT.gStyle.SetOptTitle(1)\n",
    "h.Draw('colz')\n",
    "c.Draw()"
   ]
  },
  {
   "cell_type": "code",
   "execution_count": null,
   "metadata": {},
   "outputs": [],
   "source": [
    "%jsroot on\n",
    "c.Clear()\n",
    "c.cd()\n",
    "\n",
    "ROOT.gStyle.SetOptStat(ROOT.kFALSE)\n",
    "file_id = 1\n",
    "\n",
    "h = ROOT.TH2F('h', '', 36, 0., 36., 130, -30., 100)\n",
    "file[file_id].outtree.Project('h', 'pad_time[2][]-pad_time[0][]:pad_x[2]', 'multiplicity > 2', 'colz')\n",
    "h.GetYaxis().SetTitle('t_{3}-t_{1}')\n",
    "h.GetXaxis().SetTitle('3rd pad X')\n",
    "h.SetTitle(name[file_id])\n",
    "ROOT.gStyle.SetOptTitle(1)\n",
    "h.Draw('colz')\n",
    "c.Draw()"
   ]
  },
  {
   "cell_type": "code",
   "execution_count": null,
   "metadata": {},
   "outputs": [],
   "source": [
    "%jsroot on\n",
    "c.Clear()\n",
    "c.cd()\n",
    "\n",
    "ROOT.gStyle.SetOptStat(ROOT.kFALSE)\n",
    "file_id = 1\n",
    "\n",
    "h = ROOT.TH2F('h', '', 10, -5., 5., 130, -30., 100.)\n",
    "file[file_id].outtree.Project('h', 'pad_time[2][]-pad_time[0][]:pad_y[2][] - pad_y[0][]', 'multiplicity > 2', 'colz')\n",
    "h.GetYaxis().SetTitle('t_{3}-t_{1}')\n",
    "h.GetXaxis().SetTitle('x_{3} - x_{0}, [pads]')\n",
    "h.SetTitle(name[file_id])\n",
    "ROOT.gStyle.SetOptTitle(1)\n",
    "h.Draw('colz')\n",
    "c.Draw()"
   ]
  },
  {
   "cell_type": "code",
   "execution_count": null,
   "metadata": {},
   "outputs": [],
   "source": [
    "%jsroot on\n",
    "c.Clear()\n",
    "c.cd()\n",
    "\n",
    "ROOT.gStyle.SetOptStat(ROOT.kFALSE)\n",
    "file_id = 1\n",
    "\n",
    "h = ROOT.TH2F('h', '', 37, 0., 37., 37, 0., 37)\n",
    "file[file_id].outtree.Project('h', 'pad_y[2]:pad_x[2]', 'multiplicity > 2 && pad_time[2][] - pad_time[0][] < 2', 'colz')\n",
    "h_norm = ROOT.TH2F('hn', '', 37, 0., 37., 37, 0., 37)\n",
    "file[file_id].outtree.Project('hn', 'pad_y[2]:pad_x[2]', 'multiplicity > 2', 'colz')\n",
    "h.Divide(h_norm)\n",
    "h.GetYaxis().SetTitle('Y')\n",
    "h.GetXaxis().SetTitle('X')\n",
    "h.SetTitle(name[file_id])\n",
    "ROOT.gStyle.SetOptTitle(1)\n",
    "h.Draw('colz')\n",
    "c.Draw()"
   ]
  },
  {
   "cell_type": "markdown",
   "metadata": {},
   "source": [
    "## Angle dependence"
   ]
  },
  {
   "cell_type": "code",
   "execution_count": null,
   "metadata": {},
   "outputs": [],
   "source": [
    "c.Clear()\n",
    "c.cd()\n",
    "file_id = 4\n",
    "h = ROOT.TH2F('h', '', 300, -150., 150., 30, 0., 0.3)\n",
    "file[file_id].outtree.Project('h', 'angle_yz:pad_time[2][]-pad_time[0][]')\n",
    "h.GetYaxis().SetRangeUser(0., 0.4)\n",
    "h.SetTitle(name[file_id])\n",
    "h.GetYaxis().SetTitle('tan(#theta)')\n",
    "h.GetXaxis().SetTitle('t_{3} - t_{1}')\n",
    "h.Draw('colz')\n",
    "c.SetLogz()\n",
    "c.SetLogy(0)\n",
    "c.Draw()"
   ]
  },
  {
   "cell_type": "code",
   "execution_count": null,
   "metadata": {},
   "outputs": [],
   "source": [
    "%jsroot on\n",
    "c.Clear()\n",
    "c.cd()\n",
    "file_id = 3\n",
    "h = ROOT.TH2F('h', '', 300, -150., 150., 30, 0., 0.3)\n",
    "file[file_id].outtree.Project('h', 'angle_xy:pad_time[2][]-pad_time[0][]')\n",
    "h.GetYaxis().SetRangeUser(0., 0.4)\n",
    "h.SetTitle(name[file_id])\n",
    "h.GetYaxis().SetTitle('tan(#phi)')\n",
    "h.GetXaxis().SetTitle('t_{3} - t_{1}')\n",
    "h.Draw('colz')\n",
    "c.SetLogz()\n",
    "c.SetLogy(0)\n",
    "c.Draw()"
   ]
  },
  {
   "cell_type": "code",
   "execution_count": null,
   "metadata": {},
   "outputs": [],
   "source": []
  }
 ],
 "metadata": {
  "kernelspec": {
   "display_name": "Python 3",
   "language": "python",
   "name": "python3"
  },
  "language_info": {
   "codemirror_mode": {
    "name": "ipython",
    "version": 3
   },
   "file_extension": ".py",
   "mimetype": "text/x-python",
   "name": "python",
   "nbconvert_exporter": "python",
   "pygments_lexer": "ipython3",
   "version": "3.9.0"
  }
 },
 "nbformat": 4,
 "nbformat_minor": 4
}
