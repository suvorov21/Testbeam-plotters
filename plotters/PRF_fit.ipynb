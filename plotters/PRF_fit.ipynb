{
 "cells": [
  {
   "cell_type": "code",
   "execution_count": null,
   "metadata": {
    "tags": []
   },
   "outputs": [],
   "source": [
    "import ROOT\n",
    "import ROOT\n",
    "from T2KStyle.T2KStyle import GetT2K\n",
    "style = GetT2K(3)\n",
    "ROOT.gROOT.SetStyle(\"T2K\")\n",
    "c = ROOT.TCanvas('c', '', 800, 600)\n",
    "cl = ROOT.TCanvas('cl', '', 1600, 1200)\n",
    "cw = ROOT.TCanvas('c2', '', 1600, 600)"
   ]
  },
  {
   "cell_type": "code",
   "execution_count": null,
   "metadata": {},
   "outputs": [],
   "source": [
    "path = '~/LXPLUS/DESY_testbeam/tree_v7/'\n",
    "# path = '/eos/user/s/ssuvorov/DESY_testbeam/tree_v2/'\n",
    "path = '~/DATA/hs_ind_freec/'\n",
    "file_name = path + 's_412_430_02T'\n",
    "# file_name = path + 'phi_412_45_d'\n",
    "N_iter = 9"
   ]
  },
  {
   "cell_type": "code",
   "execution_count": null,
   "metadata": {},
   "outputs": [],
   "source": [
    "def profileY(h):\n",
    "    gr = ROOT.TGraphErrors()\n",
    "    for i in range(1, h.GetXaxis().GetNbins()):\n",
    "        temp = h.ProjectionY(f\"projectionsY_bin_{i}\", i, i)\n",
    "        if temp.GetMaximum() < 1:\n",
    "            continue\n",
    "        x = h.GetXaxis().GetBinCenter(i)\n",
    "        y = temp.GetBinCenter(temp.GetMaximumBin())\n",
    "        gr.SetPoint(gr.GetN(), x, y)\n",
    "        start = temp.GetBinCenter(temp.FindFirstBinAbove(temp.GetMaximum()/2))\n",
    "        end = temp.GetBinCenter(temp.FindLastBinAbove(temp.GetMaximum()/2))\n",
    "        gr.SetPointError(gr.GetN()-1, 0., 0.5*(end-start))\n",
    "    return gr\n",
    "\n",
    "def profileX(h):\n",
    "    gr = ROOT.TGraphErrors()\n",
    "    for i in range(22, h.GetYaxis().GetNbins()):\n",
    "        temp = h.ProjectionX(f\"projectionsX_bin_{i}\", i, i)\n",
    "        if temp.GetMaximum() < 1:\n",
    "            continue\n",
    "        for j in range(temp.GetXaxis().FindBin(0.), temp.GetXaxis().GetNbins()):\n",
    "            temp.SetBinContent(j, 0)\n",
    "        y = h.GetYaxis().GetBinCenter(i)\n",
    "        x = temp.GetBinCenter(temp.GetMaximumBin())\n",
    "        gr.SetPoint(gr.GetN(), x, y)\n",
    "        start = temp.GetBinCenter(temp.FindFirstBinAbove(temp.GetMaximum()/2))\n",
    "        end = temp.GetBinCenter(temp.FindLastBinAbove(temp.GetMaximum()/2))\n",
    "        gr.SetPointError(gr.GetN()-1, 0.5*(end-start), 0.)\n",
    "    return gr"
   ]
  },
  {
   "cell_type": "markdown",
   "metadata": {},
   "source": [
    "## PRF over multiplicities"
   ]
  },
  {
   "cell_type": "code",
   "execution_count": null,
   "metadata": {},
   "outputs": [],
   "source": [
    "PRF_function  = ROOT.TF1(\"PRF_function\",\n",
    "                         \"[0]*(1+[1]*x*x + [2] * x*x*x*x) / (1+[3]*x*x+[4]*x*x*x*x)\",\n",
    "                         -0.027, 0.027);\n",
    "PRF_function.SetLineColor(ROOT.kRed)\n",
    "\n",
    "file = ROOT.TFile(file_name + '_iter' + str(N_iter-1) + '.root')\n",
    "cl.Clear()\n",
    "cl.Divide(2, 2)\n",
    "for i in range(4):\n",
    "    if i == 0:\n",
    "        histo = file.Get('PRF_histo')\n",
    "        gr = file.Get('PRF_graph')\n",
    "    else:\n",
    "        histo = file.Get('prf_mult/PRF_histo_' + str(i+1) + 'pad')\n",
    "        gr = file.Get('prf_mult/PRF_graph_' + str(i+1) + 'pad')\n",
    "    cl.cd(i+1)\n",
    "#     histo.Fit('PRF_function', 'Q', '', -0.025, 0.025)\n",
    "    histo.GetYaxis().SetRangeUser(0., 1.)\n",
    "    histo.Draw('colz')\n",
    "#     gr.GetFunction(\"PRF_function\").SetLineColor(ROOT.kRed)\n",
    "    gr.SetLineColor(ROOT.kRed)\n",
    "    gr.SetMarkerColor(ROOT.kRed)\n",
    "    gr.Draw('same p')\n",
    "cl.Draw()"
   ]
  },
  {
   "cell_type": "markdown",
   "metadata": {},
   "source": [
    "### PRF through projection"
   ]
  },
  {
   "cell_type": "code",
   "execution_count": null,
   "metadata": {},
   "outputs": [],
   "source": [
    "N_iter = 9\n",
    "file = ROOT.TFile(file_name + '_iter' + str(N_iter) + '.root')\n",
    "# hm = ROOT.TH1F('hm', '', 100, -4000., 4000.)\n",
    "hm = ROOT.TH1F('hm', '', 70, 0., 70.)\n",
    "file.outtree.Project('hm', 'rob_clusters', 'residual[][] > -0.5')\n",
    "# hm.Fit('gaus')\n",
    "c.cd()\n",
    "hm.Draw('')\n",
    "hm.GetXaxis().SetTitle('X_{cluster}-X_{track} [#mum]')\n",
    "c.Draw()"
   ]
  },
  {
   "cell_type": "code",
   "execution_count": null,
   "metadata": {},
   "outputs": [],
   "source": [
    "%jsroot on\n",
    "N_iter = 9\n",
    "file = ROOT.TFile(file_name + '_iter' + str(N_iter) + '.root')\n",
    "hm = ROOT.TH2F('hm', '', 38, 0., 38., 38, 0., 38.)\n",
    "file.outtree.Project('hm', 'pad_y[][]:pad_x[][]', 'qfrac[][] > 0')\n",
    "c.cd()\n",
    "hm.Draw('colz')\n",
    "c.Draw()"
   ]
  },
  {
   "cell_type": "code",
   "execution_count": null,
   "metadata": {},
   "outputs": [],
   "source": [
    "# %jsroot on\n",
    "N_iter = 9\n",
    "file = ROOT.TFile(file_name + '_iter' + str(N_iter) + '.root')\n",
    "hm = ROOT.TH2F('hm', '', 38, 0., 38., 100, 0., 1.)\n",
    "file.outtree.Project('hm', 'qfrac[][0]:pad_x[][0]', 'qfrac[][0] > 0')\n",
    "c.cd()\n",
    "hm.Draw('colz')\n",
    "c.Draw()"
   ]
  },
  {
   "cell_type": "code",
   "execution_count": null,
   "metadata": {},
   "outputs": [],
   "source": [
    "# %jsroot on\n",
    "N_iter = 9\n",
    "ROOT.gPad.SetGridy(0)\n",
    "ROOT.gPad.SetGridx(0)\n",
    "file = ROOT.TFile(file_name + '_iter' + str(N_iter) + '.root')\n",
    "ROOT.gStyle.SetOptStat(0)\n",
    "prf_h = ROOT.TH2F('prf_h', '', 180, -2.7, 2.7, 100, 0., 1.)\n",
    "file.outtree.Project('prf_h', 'qfrac[][]:100*dx[][]', '')\n",
    "c.cd()\n",
    "prf_h.GetXaxis().SetTitle(\"X_{track} - X_{pad} [cm]\")\n",
    "prf_h.GetYaxis().SetTitle(\"Q_{pad} / Q_{cluster}\")\n",
    "line = ROOT.TLine(-.5, 0., -.5, 1.)\n",
    "line.SetLineColor(ROOT.kRed)\n",
    "line2 = ROOT.TLine(.5, 0., .5, 1.)\n",
    "line2.SetLineColor(ROOT.kRed)\n",
    "line3 = ROOT.TLine(1.5, 0., 1.5, 1.)\n",
    "line3.SetLineColor(ROOT.kRed)\n",
    "line4 = ROOT.TLine(-1.5, 0., -1.5, 1.)\n",
    "line4.SetLineColor(ROOT.kRed)\n",
    "line5 = ROOT.TLine(2.5, 0., 2.5, 1.)\n",
    "line5.SetLineColor(ROOT.kRed)\n",
    "line6 = ROOT.TLine(-2.5, 0., -2.5, 1.)\n",
    "line6.SetLineColor(ROOT.kRed)\n",
    "prf_h.Scale(1./1000.)\n",
    "prf_h.Draw('colz')\n",
    "line.Draw()\n",
    "line2.Draw()\n",
    "line3.Draw()\n",
    "line4.Draw()\n",
    "line5.Draw()\n",
    "line6.Draw()\n",
    "c.Draw()\n",
    "c.Print('prf_sc.pdf')"
   ]
  },
  {
   "cell_type": "code",
   "execution_count": null,
   "metadata": {
    "tags": []
   },
   "outputs": [],
   "source": [
    "PRF_function  = ROOT.TF1(\"PRF_function\",\n",
    "                         \"[0]*(1+[1]*x*x + [2] * x*x*x*x) / (1+[3]*x*x+[4]*x*x*x*x)\",\n",
    "                         -0.027, 0.027);\n",
    "\n",
    "gr.Fit('PRF_function')\n",
    "gr.GetXaxis().SetTitle(\"X_{track} - X_{pad} [cm]\")\n",
    "gr.GetYaxis().SetTitle(\"Q_{pad} / Q_{cluster}\")\n",
    "line = ROOT.TLine(-.5, 0., -.5, 1.)\n",
    "line.SetLineColor(ROOT.kRed)\n",
    "line2 = ROOT.TLine(.5, 0., .5, 1.)\n",
    "line2.SetLineColor(ROOT.kRed)\n",
    "line3 = ROOT.TLine(1.5, 0., 1.5, 1.)\n",
    "line3.SetLineColor(ROOT.kRed)\n",
    "line4 = ROOT.TLine(-1.5, 0., -1.5, 1.)\n",
    "line4.SetLineColor(ROOT.kRed)\n",
    "line5 = ROOT.TLine(2.5, 0., 2.5, 1.)\n",
    "line5.SetLineColor(ROOT.kRed)\n",
    "line6 = ROOT.TLine(-2.5, 0., -2.5, 1.)\n",
    "line6.SetLineColor(ROOT.kRed)\n",
    "gr.GetFunction('PRF_function').SetLineColor(ROOT.kRed)\n",
    "gr.Draw('ap')\n",
    "line.Draw()\n",
    "line2.Draw()\n",
    "line3.Draw()\n",
    "line4.Draw()\n",
    "line5.Draw()\n",
    "line6.Draw()\n",
    "\n",
    "gr.GetYaxis().SetRangeUser(0., 1.)\n",
    "c.Draw()\n",
    "c.Print('prf_gr.pdf')"
   ]
  },
  {
   "cell_type": "code",
   "execution_count": null,
   "metadata": {},
   "outputs": [],
   "source": [
    "c.cd()\n",
    "ROOT.gPad.SetGrid(1)\n",
    "gr = profileY(prf_h)\n",
    "PRF_function  = ROOT.TF1(\"PRF_function\",\n",
    "                         \"[0]*(1+[1]*(x-[5])*(x-[5]) + [2] * (x-[5])*(x-[5])*(x-[5])*(x-[5])) / (1+[3]*(x-[5])*(x-[5])+[4]*(x-[5])*(x-[5])*(x-[5])*(x-[5]))\",\n",
    "                         -0.027, 0.027);\n",
    "\n",
    "f = ROOT.TF1('t', '[0]*exp(-0.5*((x-[1])/[2])**2) + [3]*exp(-0.5*((x-[4])/[5])**2)', -0.02, 0.02)\n",
    "f.SetParameters(0.9, 0., 0.01, 0.9, 0., 0.01)\n",
    "# gr.Fit('PRF_function')\n",
    "# gr.Fit('PRF_function')\n",
    "# gr.Fit('PRF_function')\n",
    "gr.Draw('ap')\n",
    "\n",
    "c.Draw()"
   ]
  },
  {
   "cell_type": "code",
   "execution_count": null,
   "metadata": {},
   "outputs": [],
   "source": [
    "%jsroot on\n",
    "N_iter = 9\n",
    "file = ROOT.TFile(file_name + '_iter' + str(N_iter) + '.root')\n",
    "hm = ROOT.TH2F('hm', '', 720, -0.027, 0.027, 100, 0., 1.)\n",
    "ha = ROOT.TH2F('ha', '', 180, -0.027, 0.027, 100, 0., 1.)\n",
    "# pad size 10.2 mm\n",
    "# centre 0.0051, -0.0051, -0.0102\n",
    "file.outtree.Project('ha', 'qfrac[][]:dx[][]', 'qfrac[][0] > 0 && pad_x == 7')\n",
    "file.outtree.Project('hm', 'qfrac[][]:dx[][]', 'qfrac[][0] > 0 && pad_x == 7 && abs(track_pos[] + 0.002) < 0.0005')\n",
    "hm2 = ROOT.TH2F('hm2', '', 720, -0.027, 0.027, 100, 0., 1.)\n",
    "file.outtree.Project('hm2', 'qfrac[][]:-dx[][]', 'qfrac[][0] > 0 && pad_x == 7 && abs(track_pos[] - 0.002) < 0.0005')\n",
    "\n",
    "gr1 = profileY(ha)\n",
    "bounds = 0.025\n",
    "gr1.Fit('PRF_function', 'Q', '', -bounds, bounds)\n",
    "gr1.Fit('PRF_function', 'Q', '', -bounds, bounds)\n",
    "gr1.Fit('PRF_function', '', '', -bounds, bounds)\n",
    "gr2 = profileY(hm2)\n",
    "gr2.Fit('PRF_function', 'Q', '', -bounds, bounds)\n",
    "gr2.Fit('PRF_function', 'Q', '', -bounds, bounds)\n",
    "gr2.Fit('PRF_function', '', '', -bounds, bounds)\n",
    "cw.Clear()\n",
    "cw.Divide(2)\n",
    "cw.cd(1)\n",
    "hm.Draw('colz')\n",
    "# gr1.Draw('same p')\n",
    "cw.cd(1)\n",
    "hm2.Draw('box same')\n",
    "gr1.GetFunction('PRF_function').Draw('same')\n",
    "# gr2.GetFunction('PRF_function').SetLineColor(ROOT.kRed)\n",
    "# gr2.Draw('same')\n",
    "cw.Draw()"
   ]
  },
  {
   "cell_type": "markdown",
   "metadata": {},
   "source": [
    "### Residuals corr"
   ]
  },
  {
   "cell_type": "code",
   "execution_count": null,
   "metadata": {},
   "outputs": [],
   "source": [
    "c.cd()\n",
    "h = ROOT.TH2F('h', '', 200, -1., 1., 200, -1., 1.)\n",
    "file.outtree.Project('h', '1e3*residual[5]:1e3*residual[7]')\n",
    "h.Draw('colz')\n",
    "print(h.GetCorrelationFactor())\n",
    "c.Draw()"
   ]
  },
  {
   "cell_type": "markdown",
   "metadata": {},
   "source": [
    "## Charge and time PRF"
   ]
  },
  {
   "cell_type": "code",
   "execution_count": null,
   "metadata": {},
   "outputs": [],
   "source": [
    "%jsroot on\n",
    "cl.Clear()\n",
    "cl.Divide(2, 2)\n",
    "N_iter = 0\n",
    "file = ROOT.TFile(file_name + '_iter' + str(N_iter) + '.root')\n",
    "# file = ROOT.TFile(path_loc + 'phi_200_40_iter1.root')\n",
    "\n",
    "prf_h = ROOT.TH2F('prf_h','',  180, -0.027, 0.027, 100, 0., 1.)\n",
    "prf_t = ROOT.TH2F('prf_t', '', 180, -0.027, 0.027, 100, -20., 80.)\n",
    "prf_tc = ROOT.TH2F('prf_tc', '', 100, 0., 1., 100, -20., 80.)\n",
    "\n",
    "cl.cd(1)\n",
    "ROOT.gPad.SetGrid()\n",
    "gr = file.Get('PRF_graph')\n",
    "gr.Draw('ap')\n",
    "gr.GetYaxis().SetRangeUser(0., 1.)\n",
    "gr.GetYaxis().SetTitle('Q_{pad}/Q_{cluster}')\n",
    "gr.GetXaxis().SetTitle('x_{cluster} - x_{track}')\n",
    "\n",
    "cl.cd(2)\n",
    "ROOT.gPad.SetGrid()\n",
    "file.outtree.Project('prf_h', 'qfrac:dx', '')\n",
    "prf_h.Draw('colz')\n",
    "prf_h.GetYaxis().SetRangeUser(0., 1.)\n",
    "prf_h.GetYaxis().SetTitle('Q_{pad}/Q_{cluster}')\n",
    "prf_h.GetXaxis().SetTitle('x_{pad} - x_{track} [m]')\n",
    "\n",
    "cl.cd(3)\n",
    "ROOT.gPad.SetGrid()\n",
    "file.outtree.Project('prf_t', 'time[][] - time[][0]:dx', '')\n",
    "prf_t.Draw('colz')\n",
    "prf_t.GetYaxis().SetTitle('t_{pad} - t_{leading} [bins]')\n",
    "prf_t.GetXaxis().SetTitle('x_{pad} - x_{track} [m]')\n",
    "\n",
    "cl.cd(4)\n",
    "ROOT.gPad.SetGrid()\n",
    "file.outtree.Project('prf_tc', 'time[][] - time[][0]:qfrac', '')\n",
    "prf_tc.Draw('colz')\n",
    "prf_tc.GetYaxis().SetRangeUser(0., 1.)\n",
    "prf_tc.GetYaxis().SetTitle('t_{pad} - t_{leading} [bins]')\n",
    "prf_tc.GetXaxis().SetTitle('Q_{pad}/Q_{cluster}')\n",
    "\n",
    "cl.Draw()"
   ]
  },
  {
   "cell_type": "markdown",
   "metadata": {},
   "source": [
    "### Time PRF"
   ]
  },
  {
   "cell_type": "code",
   "execution_count": null,
   "metadata": {},
   "outputs": [],
   "source": [
    "cw.Clear()\n",
    "cw.Divide(2)\n",
    "\n",
    "cw.cd(1)\n",
    "prf_t = ROOT.TH2F('prf_t', '', 180, -0.027, 0.027, 100, -20., 80.)\n",
    "file.outtree.Project('prf_t', 'time[][] - time[][0]:dx[][]', 'dx[][] > -0.03')\n",
    "prf_t.Draw('colz')\n",
    "prf_t.GetYaxis().SetTitle('t_{pad} - t_{leading} [bins]')\n",
    "prf_t.GetXaxis().SetTitle('x_{pad} - x_{track} [m]')\n",
    "prf_t.Draw('colz')\n",
    "\n",
    "cw.cd(2)\n",
    "h = file.Get('PRF_histo_time')\n",
    "h.Draw('colz')\n",
    "\n",
    "cw.Draw()"
   ]
  },
  {
   "cell_type": "markdown",
   "metadata": {},
   "source": [
    "### Profile Time PRF"
   ]
  },
  {
   "cell_type": "code",
   "execution_count": null,
   "metadata": {},
   "outputs": [],
   "source": [
    "cw.Clear()\n",
    "cw.Divide(2)\n",
    "cw.cd(1)\n",
    "ROOT.gPad.SetGrid()    \n",
    "gr = profileY(prf_t)\n",
    "gr.GetYaxis().SetTitle('t_{pad} - t_{leading} [bins]')\n",
    "gr.GetXaxis().SetTitle('x_{pad} - x_{track} [m]')\n",
    "# gr.Fit('pol2')\n",
    "gr.Draw('ap')\n",
    "\n",
    "cw.cd(2)\n",
    "ROOT.gPad.SetGrid()    \n",
    "gr2 = profileX(prf_t)\n",
    "gr2.GetYaxis().SetTitle('t_{pad} - t_{leading} [bins]')\n",
    "gr2.GetXaxis().SetTitle('x_{pad} - x_{track} [m]')\n",
    "prf_t.Fit('pol2', 'Q')\n",
    "prf_t.Fit('pol2', 'Q')\n",
    "gr2.Fit('pol2', '', '', -0.015, -0.005)\n",
    "gr2.Fit('pol2', '', '', -0.015, -0.005)\n",
    "prf_t.Draw('colz')\n",
    "gr2.Draw(' same p')\n",
    "\n",
    "cw.Draw()"
   ]
  },
  {
   "cell_type": "code",
   "execution_count": null,
   "metadata": {},
   "outputs": [],
   "source": [
    "gr2.GetFunction('pol2').GetX(30)"
   ]
  },
  {
   "cell_type": "markdown",
   "metadata": {},
   "source": [
    "### Profile charge PRF"
   ]
  },
  {
   "cell_type": "code",
   "execution_count": null,
   "metadata": {},
   "outputs": [],
   "source": [
    "cw.Clear()\n",
    "cw.Divide(2)\n",
    "\n",
    "cw.cd(1)\n",
    "ROOT.gPad.SetGrid()    \n",
    "gr = profileY(prf_h)\n",
    "gr.GetYaxis().SetTitle('Q_{pad}/Q_{cluster}')\n",
    "gr.GetXaxis().SetTitle('x_{cluster} - x_{track}')\n",
    "gr.Draw('ap')\n",
    "\n",
    "cw.cd(2)\n",
    "ROOT.gPad.SetGrid()    \n",
    "gr2 = profileX(prf_h)\n",
    "gr2.GetYaxis().SetTitle('Q_{pad}/Q_{cluster}')\n",
    "gr2.GetXaxis().SetTitle('x_{cluster} - x_{track}')\n",
    "gr2.Draw('ap')\n",
    "\n",
    "\n",
    "cw.Draw()"
   ]
  },
  {
   "cell_type": "markdown",
   "metadata": {},
   "source": [
    "### Invert time PRF"
   ]
  },
  {
   "cell_type": "code",
   "execution_count": null,
   "metadata": {},
   "outputs": [],
   "source": [
    "cw.cd()\n",
    "cw.Clear()\n",
    "cw.Divide(2)\n",
    "\n",
    "cw.cd(1)\n",
    "prf_t1 = ROOT.TH2F('prf_t1', '', 180, -0.027, 0.027, 50, -20., 30.)\n",
    "ROOT.gPad.SetGrid()\n",
    "file.outtree.Project('prf_t1', 'time[][1] - time[][0]:dx[][0]', '')\n",
    "prf_t1.Draw('colz')\n",
    "prf_t1.GetYaxis().SetTitle('t_{2nd pad} - t_{1st pad} [bins]')\n",
    "prf_t1.GetXaxis().SetTitle('x_{pad} - x_{track} [m]')\n",
    "\n",
    "cw.cd(2)\n",
    "prf_t2 = ROOT.TH2F('prf_t2', '', 180, -0.027, 0.027, 100, -20., 80.)\n",
    "ROOT.gPad.SetGrid()\n",
    "file.outtree.Project('prf_t2', 'time[][2] - time[][0]:dx', '')\n",
    "prf_t2.Draw('colz')\n",
    "prf_t2.GetYaxis().SetTitle('t_{3rd pad} - t_{1st pad} [bins]')\n",
    "prf_t2.GetXaxis().SetTitle('x_{pad} - x_{track} [m]')\n",
    "\n",
    "cw.Draw()"
   ]
  },
  {
   "cell_type": "markdown",
   "metadata": {},
   "source": [
    "# PRF over iterations"
   ]
  },
  {
   "cell_type": "code",
   "execution_count": null,
   "metadata": {},
   "outputs": [],
   "source": [
    "par = []\n",
    "par_col = []\n",
    "for i in range(5):\n",
    "    par.append(ROOT.TGraphErrors())\n",
    "    par_col.append(ROOT.TGraphErrors())\n",
    "\n",
    "for it in range(N_iter):\n",
    "    file = ROOT.TFile(file_name + '_iter' + str(it) + '.root')\n",
    "    func = file.Get('PRF_function') \n",
    "    for i in range(5):\n",
    "        par[i].SetPoint(it, it, func.GetParameter(i))\n",
    "        par[i].SetPointError(it, func.GetParError(i))"
   ]
  },
  {
   "cell_type": "markdown",
   "metadata": {},
   "source": [
    "# PRF over column"
   ]
  },
  {
   "cell_type": "code",
   "execution_count": null,
   "metadata": {},
   "outputs": [],
   "source": [
    "file = ROOT.TFile(file_name + '_iter' + str(2) + '.root')\n",
    "for i in range(36):\n",
    "    h = file.Get(f'prf_column/PRF_histo_col_{i}')\n",
    "    h.Fit('PRF_function', 'Q', '', -0.025, 0.025)\n",
    "    for j in range(5):\n",
    "        par_col[j].SetPoint(i, i, PRF_function.GetParameter(j))\n",
    "        par_col[j].SetPointError(i, PRF_function.GetParError(j))"
   ]
  },
  {
   "cell_type": "code",
   "execution_count": null,
   "metadata": {},
   "outputs": [],
   "source": [
    "par_name = ['Const', 'a2', 'a4', 'b2', 'b4']\n",
    "cl.Divide(2, 3)\n",
    "for i in range(1, 6):\n",
    "    c.cd(i)\n",
    "    par[i-1].GetYaxis().SetTitle(par_name[i-1])\n",
    "    par[i-1].GetXaxis().SetTitle('Iteration')\n",
    "    par[i-1].Draw('ap')\n",
    "    \n",
    "cl.Draw()"
   ]
  },
  {
   "cell_type": "code",
   "execution_count": null,
   "metadata": {},
   "outputs": [],
   "source": [
    "c = ROOT.TCanvas('c', '', 1600, 1200)\n",
    "\n",
    "par_name = ['Const', 'a2', 'a4', 'b2', 'b4']\n",
    "c.Divide(2, 3)\n",
    "for i in range(1, 6):\n",
    "    c.cd(i)\n",
    "    par_col[i-1].GetYaxis().SetTitle(par_name[i-1])\n",
    "    par_col[i-1].GetXaxis().SetTitle('Column')\n",
    "    par_col[i-1].Draw('ap')\n",
    "    \n",
    "c.Draw()"
   ]
  },
  {
   "cell_type": "markdown",
   "metadata": {},
   "source": [
    "# PRF MM vs ERAM"
   ]
  },
  {
   "cell_type": "code",
   "execution_count": null,
   "metadata": {},
   "outputs": [],
   "source": [
    "N_iter = 5\n",
    "file_mm = ROOT.TFile(path + 'mm1_380V_200ns_iter' + str(N_iter) + '.root', 'READ')\n",
    "file_er = ROOT.TFile(path + 'er2_360V_iter' + str(N_iter) + '.root', 'READ')\n",
    "\n",
    "PRF_er_hi = file_er.Get('PRF_histo')\n",
    "PRF_mm_gr = file_mm.Get('PRF_graph')\n",
    "PRF_er_gr = file_er.Get('PRF_graph')\n",
    "PRF_mm_hi = file_mm.Get('PRF_histo')\n",
    "\n",
    "\n",
    "c.Clear()\n",
    "leg = ROOT.TLegend(0.2,0.2,0.4,0.4);\n",
    "\n",
    "PRF_er_gr.GetFunction('PRF_function').SetLineColor(ROOT.kGreen)\n",
    "PRF_mm_gr.GetFunction('PRF_function').SetLineColor(ROOT.kRed)\n",
    "PRF_er_gr.GetFunction('PRF_function').GetYaxis().SetTitle('Q_{pad}/Q_{cluster}')\n",
    "PRF_er_gr.GetFunction('PRF_function').GetXaxis().SetTitle('x_{pad}-x_{track}')\n",
    "PRF_er_gr.GetFunction('PRF_function').GetYaxis().SetRangeUser(0., 1.)\n",
    "PRF_er_gr.GetFunction('PRF_function').Draw('l')\n",
    "PRF_mm_gr.GetFunction('PRF_function').Draw('same l')\n",
    "leg.AddEntry(PRF_er_gr, 'ERAM2 360V', 'l')\n",
    "leg.AddEntry(PRF_mm_gr, 'MM1 380V', 'l')\n",
    "c.Draw()\n",
    "# leg.Draw()"
   ]
  },
  {
   "cell_type": "code",
   "execution_count": null,
   "metadata": {},
   "outputs": [],
   "source": [
    "cl.Clear()\n",
    "cl.Divide(2, 2)\n",
    "\n",
    "file_mm = ROOT.TFile(path + 'mm1_380V_200ns_iter' + str(0) + '.root', 'READ')\n",
    "file_er = ROOT.TFile(path + 'er2_360V_iter' + str(0) + '.root', 'READ')\n",
    "\n",
    "PRF_er_hi = file_er.Get('PRF_histo')\n",
    "PRF_mm_hi = file_mm.Get('PRF_histo')\n",
    "cl.cd(1)\n",
    "PRF_mm_hi.GetYaxis().SetRangeUser(0., 1.)\n",
    "PRF_mm_hi.Draw('colz')\n",
    "cl.cd(3)\n",
    "PRF_er_hi.GetYaxis().SetRangeUser(0., 1.)\n",
    "PRF_er_hi.Draw('colz')\n",
    "\n",
    "\n",
    "file_mm_last = ROOT.TFile(folder + 'mm1_380V_200ns_iter' + str(N_iter) + '.root', 'READ')\n",
    "file_er_last = ROOT.TFile(folder + 'er2_360V_iter' + str(N_iter) + '.root', 'READ')\n",
    "\n",
    "PRF_er_hi = file_er_last.Get('PRF_histo')\n",
    "PRF_mm_hi = file_mm_last.Get('PRF_histo')\n",
    "\n",
    "cl.cd(2)\n",
    "PRF_mm_hi.GetYaxis().SetRangeUser(0., 1.)\n",
    "PRF_mm_hi.Draw('colz')\n",
    "cl.cd(4)\n",
    "PRF_er_hi.GetYaxis().SetRangeUser(0., 1.)\n",
    "PRF_er_hi.Draw('colz')\n",
    "\n",
    "cl.Draw()\n"
   ]
  },
  {
   "cell_type": "code",
   "execution_count": null,
   "metadata": {},
   "outputs": [],
   "source": [
    "%jsroot on\n",
    "# def profileY(h):\n",
    "#     gr = ROOT.TGraphErrors()\n",
    "#     for i in range(1, h.GetXaxis().GetNbins()):\n",
    "#         temp = h.ProjectionY(f\"projectionsY_bin_{i}\", i, i)\n",
    "#         if temp.GetMaximum() < 1:\n",
    "#             continue\n",
    "#         x = h.GetXaxis().GetBinCenter(i)\n",
    "#         y = temp.GetBinCenter(temp.GetMaximumBin())\n",
    "#         gr.SetPoint(gr.GetN(), x, y)\n",
    "#         start = temp.GetBinCenter(temp.FindFirstBinAbove(temp.GetMaximum()/2))\n",
    "#         end = temp.GetBinCenter(temp.FindLastBinAbove(temp.GetMaximum()/2))\n",
    "#         gr.SetPointError(gr.GetN()-1, 0., 0.5*(end-start))\n",
    "# #         print(i, x, y, 0.5*(end-start), sep='\\t')\n",
    "#     return gr\n",
    "\n",
    "# file = ROOT.TFile(path_loc + '/phi/phi_412_45_d_iter0.root')\n",
    "file = ROOT.TFile(file_name + '_iter' + str(N_iter) + '.root')\n",
    "h = file.Get('PRF_histo')\n",
    "c.cd()\n",
    "h.Draw('colz')\n",
    "h.GetYaxis().SetRangeUser(0., 1.)\n",
    "\n",
    "gr = profileY(h)\n",
    "# gr.Draw('same p')\n",
    "func1 = ROOT.TF1('gl', \"[0] * exp(-4*TMath::Log(2)*(1-[1])*TMath::Power(x/[2], 2.)) / (1+4 * [1] * TMath::Power(x/[2], 2.) )\", -0.027, 0.027)\n",
    "func1.SetParameters(1., 0.5, 0.005)\n",
    "func2 = ROOT.TF1('prf', \"[0]*(1+[1]*x*x + [2] * x*x*x*x) / (1+[3]*x*x+[4]*x*x*x*x)\", -0.027, 0.027)\n",
    "func2.SetParameters(0.85436010,-1919.1462,17575063.,627.88307,1.0339875e+09)\n",
    "func3 = ROOT.TF1('dg', \"[0] * exp(-0.5*TMath::Power(((x-[1])/[2]), 2)) + [3] * exp(-0.5*TMath::Power(((x-[4])/[5]), 2))\", -0.027, 0.027)\n",
    "func3.SetParameters(.7, 0., 0.005, .2, 0., 0.02)\n",
    "bound = 0.026\n",
    "gr.Fit('prf', '', '', -1*bound, bound)\n",
    "gr.Fit('prf', '', '', -1*bound, bound)\n",
    "gr.Fit('prf', '', '', -1*bound, bound)\n",
    "# gr.Draw('same p')\n",
    "c.Draw()"
   ]
  },
  {
   "cell_type": "code",
   "execution_count": null,
   "metadata": {},
   "outputs": [],
   "source": [
    "gr.Fit('prf', '', '', -0.022, 0.022)\n",
    "h.Draw('colz')\n",
    "gr.Draw(\"p same\")\n",
    "c.Draw()"
   ]
  },
  {
   "cell_type": "code",
   "execution_count": null,
   "metadata": {},
   "outputs": [],
   "source": [
    "# func2.SetParameters(9.07210e-01, -6.69652e+03 ,  1.83187e+07 , -5.49248e+03 ,  1.67820e+08  )\n",
    "# func2.SetParameters(0.876134,  5235.38,  -2.14569e+06,  -7335.57,  6.47476e+08)\n",
    "func2.SetParameters(0.903094,  -5507.41,  1.55371e+07,  -5721.22,  2.09424e+08)\n",
    "func2.Draw()\n",
    "c.Draw()"
   ]
  },
  {
   "cell_type": "code",
   "execution_count": null,
   "metadata": {},
   "outputs": [],
   "source": [
    "%jsroot on\n",
    "cw.Clear()\n",
    "cw.Divide(2)\n",
    "N_iter = 9\n",
    "file = ROOT.TFile(file_name + '_iter' + str(N_iter) + '.root')\n",
    "# file = ROOT.TFile(path_loc + 'phi_200_40_iter1.root')\n",
    "\n",
    "prf_h1 = ROOT.TH2F('prf_h1','',  180, -0.027, 0.027, 100, 0., 1.)\n",
    "prf_h2 = ROOT.TH2F('prf_h2','',  180, -0.027, 0.027, 100, 0., 1.)\n",
    "\n",
    "file.outtree.Project('prf_h1', 'qfrac:dx', 'pad_charge[][0] > 900./360*(pad_charge[][1] + pad_charge[][2]) && multiplicity > 2')\n",
    "file.outtree.Project('prf_h2', 'qfrac:dx', 'pad_charge[][0] < (pad_charge[][1] + pad_charge[][2]) && multiplicity > 2')\n",
    "\n",
    "cw.cd(1)\n",
    "gr1 = profileY(prf_h1)\n",
    "# gr1.Fit('prf', '', '', -1*bound, bound)\n",
    "\n",
    "prf_h1.Draw('colz')\n",
    "# gr1.Draw(\"same\")\n",
    "cw.cd(2)\n",
    "prf_h2.Draw('colz')\n",
    "gr2 = profileY(prf_h2)\n",
    "# gr2.Fit('prf', '', '', -1*bound, bound)\n",
    "# gr2.Draw(\"same\")\n",
    "cw.Draw()"
   ]
  },
  {
   "cell_type": "code",
   "execution_count": null,
   "metadata": {},
   "outputs": [],
   "source": [
    "c.cd()\n",
    "h = ROOT.TH2F('h', '', 200, 0., 4000., 200, 0., 4000)\n",
    "file.outtree.Project('h', 'pad_charge[][1] + pad_charge[][2]:pad_charge[][0]', 'multiplicity > 2 && pad_y[][0] == 0.5*(pad_y[][1] + pad_y[][2])')\n",
    "h.GetXaxis().SetTitle('Q_{1}')\n",
    "h.GetYaxis().SetTitle('Q_{2} + Q_{3}')\n",
    "h.Draw('colz')\n",
    "\n",
    "l1 = ROOT.TLine(0., 0., 4000., 4000)\n",
    "l2 = ROOT.TLine(0., 0., 4000., 800)\n",
    "l3 = ROOT.TLine(0., 0., 9000., 3600)\n",
    "l1.Draw()\n",
    "l2.Draw()\n",
    "l3.Draw()\n",
    "c.Draw()"
   ]
  },
  {
   "cell_type": "markdown",
   "metadata": {},
   "source": [
    "## Prominence"
   ]
  },
  {
   "cell_type": "code",
   "execution_count": null,
   "metadata": {},
   "outputs": [],
   "source": [
    "cl.Clear()\n",
    "cl.Divide(2, 2)\n",
    "\n",
    "# h = ROOT.TH2F('h', '', 100, 0., 4., 100, 0., 1.)\n",
    "prf_h1 = ROOT.TH2F('prf_h1','',  180, -0.027, 0.027, 100, 0., 1.)\n",
    "prf_h2 = ROOT.TH2F('prf_h2','',  180, -0.027, 0.027, 100, 0., 1.)\n",
    "dx_pr = ROOT.TH2F('dx', '', 300, 0., 3., 100, -1., 1.)\n",
    "h = ROOT.TH1F('h', '', 300, 0., 3)\n",
    "Nclusters = 33\n",
    "for entry in file.outtree:\n",
    "    for i in range(1, Nclusters - 1):\n",
    "        if entry.charge[i] == -999 or entry.multiplicity[i] < 2: continue\n",
    "        promenence = 2 * entry.charge[i] / (entry.charge[i+1] + entry.charge[i-1])\n",
    "        h.Fill(promenence)\n",
    "        dx_pr.Fill(promenence, 1e3*entry.residual[i])\n",
    "        for j in range(10):\n",
    "            ind = i*10+j\n",
    "            if entry.pad_charge[ind] < 0: continue\n",
    "            \n",
    "            if promenence > 1.5:\n",
    "                prf_h1.Fill(entry.dx[ind], entry.qfrac[ind])\n",
    "            if promenence < 0.5:\n",
    "                prf_h2.Fill(entry.dx[ind], entry.qfrac[ind])\n",
    "cl.cd(1)\n",
    "h.GetXaxis().SetTitle('Prominence')\n",
    "h.Draw()\n",
    "cl.cd(2)\n",
    "gr1 = profileY(prf_h1)\n",
    "gr1.Fit('prf')\n",
    "prf_h1.Draw('colz')\n",
    "# gr1.Draw('same')\n",
    "cl.cd(3)\n",
    "gr2 = profileY(prf_h2)\n",
    "gr2.Fit('prf')\n",
    "prf_h2.Draw('colz')\n",
    "# gr2.Draw('same')\n",
    "cl.cd(4)\n",
    "for i in range(1, dx_pr.GetXaxis().GetNbins()+1):\n",
    "    tmp = dx_pr.ProjectionY(f\"projectionsY_bin_{i}\", i, i)\n",
    "    m = tmp.GetMaximum()\n",
    "    if m == 0: continue\n",
    "    for j in range(1, dx_pr.GetYaxis().GetNbins()+1):\n",
    "        dx_pr.SetBinContent(i, j, dx_pr.GetBinContent(i, j) / m)\n",
    "dx_pr.Draw('colz')\n",
    "dx_pr.GetXaxis().SetTitle('Prominence')\n",
    "dx_pr.GetYaxis().SetTitle('Residual [mm]')\n",
    "cl.Draw()"
   ]
  },
  {
   "cell_type": "code",
   "execution_count": null,
   "metadata": {},
   "outputs": [],
   "source": [
    "cl.Clear()\n",
    "cl.Divide(2, 2)\n",
    "\n",
    "# h = ROOT.TH2F('h', '', 100, 0., 4., 100, 0., 1.)\n",
    "# prf_h1 = ROOT.TH2F('prf_h1','',  180, -0.027, 0.027, 100, 0., 1.)\n",
    "# prf_h2 = ROOT.TH2F('prf_h2','',  180, -0.027, 0.027, 100, 0., 1.)\n",
    "mult_pr = ROOT.TH2F('mult_pr', '', 300, 0., 3., 10, 0., 10.)\n",
    "h = ROOT.TH1F('h', '', 300, 0., 3)\n",
    "Nclusters = 33\n",
    "for entry in file.outtree:\n",
    "    for i in range(1, Nclusters - 1):\n",
    "        if entry.charge[i] == -999: continue\n",
    "        promenence = 2 * entry.charge[i] / (entry.charge[i+1] + entry.charge[i-1])\n",
    "        h.Fill(promenence)\n",
    "        mult_pr.Fill(promenence, entry.multiplicity[i])\n",
    "        \n",
    "cl.cd(1)\n",
    "h.GetXaxis().SetTitle('Prominence')\n",
    "h.Draw()\n",
    "cl.cd(2)\n",
    "mult_pr.Draw('colz')\n",
    "cl.Draw()        \n",
    "            "
   ]
  },
  {
   "cell_type": "code",
   "execution_count": null,
   "metadata": {},
   "outputs": [],
   "source": []
  }
 ],
 "metadata": {
  "kernelspec": {
   "display_name": "Python 3",
   "language": "python",
   "name": "python3"
  },
  "language_info": {
   "codemirror_mode": {
    "name": "ipython",
    "version": 3
   },
   "file_extension": ".py",
   "mimetype": "text/x-python",
   "name": "python",
   "nbconvert_exporter": "python",
   "pygments_lexer": "ipython3",
   "version": "3.9.8"
  }
 },
 "nbformat": 4,
 "nbformat_minor": 4
}
