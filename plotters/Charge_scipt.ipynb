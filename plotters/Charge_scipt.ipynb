{
 "cells": [
  {
   "cell_type": "code",
   "execution_count": null,
   "metadata": {
    "tags": []
   },
   "outputs": [],
   "source": [
    "import ROOT\n",
    "from T2KStyle.T2KStyle import GetT2K\n",
    "style = GetT2K(3)\n",
    "ROOT.gROOT.SetStyle(\"T2K\")\n",
    "c = ROOT.TCanvas('c', '', 800, 600)\n",
    "cc = ROOT.TCanvas('cc', '', 800, 600)\n",
    "ccc = ROOT.TCanvas('ccc', '', 800, 600)\n",
    "cl = ROOT.TCanvas('cl', '', 1600, 1200)\n",
    "cw = ROOT.TCanvas('c2', '', 1600, 600)\n",
    "cw3 = ROOT.TCanvas('c3', '', 2400, 600)\n",
    "ROOT.gStyle.SetPalette(ROOT.kBird)"
   ]
  },
  {
   "cell_type": "code",
   "execution_count": null,
   "metadata": {
    "jupyter": {
     "source_hidden": true
    },
    "tags": []
   },
   "outputs": [],
   "source": [
    "path = '~/LXPLUS/DESY_testbeam/tree_v3/'\n",
    "file = [ROOT.TFile(path + 'mm1_360_iter0.root'),\n",
    "     ROOT.TFile(path + 'mm1_370_iter0.root'),\n",
    "     ROOT.TFile(path + 'mm1_380.root')]\n",
    "\n",
    "name = ['MM1 November 360V', 'MM1 November 370V', 'MM1 November 380V']\n",
    "color = [ROOT.kCyan, ROOT.kMagenta, ROOT.kYellow]"
   ]
  },
  {
   "cell_type": "code",
   "execution_count": null,
   "metadata": {
    "jupyter": {
     "source_hidden": true
    },
    "tags": []
   },
   "outputs": [],
   "source": [
    "# path = '~/LXPLUS/DESY_testbeam/hs_para3/'\n",
    "path = '~/DATA/hs_para3/'\n",
    "\n",
    "file = [ROOT.TFile(path + 's_200_430_02T_iter9.root'),\n",
    "        ROOT.TFile(path + 's_200_480_02T_iter9.root'),\n",
    "        ROOT.TFile(path + 's_412_430_02T_iter9.root'),\n",
    "        ROOT.TFile(path + 's_412_480_02T_iter9.root')\n",
    "       ]\n",
    "\n",
    "title = ['200 ns 430 mm', '200 ns 480 mm', '412 ns 430 mm', '412 ns 480 mm']"
   ]
  },
  {
   "cell_type": "code",
   "execution_count": null,
   "metadata": {
    "jupyter": {
     "source_hidden": true
    },
    "tags": []
   },
   "outputs": [],
   "source": [
    "%jsroot on\n",
    "path = '~/LXPLUS/DESY_testbeam/time_para/'\n",
    "dist = '430'\n",
    "file      = [ROOT.TFile(path + f'/p_116_{dist}_iter9.root'),    # 0\n",
    "             ROOT.TFile(path + f'/p_200_{dist}_iter9.root'),    # 1\n",
    "             ROOT.TFile(path + f'/p_412_{dist}_iter9.root'),    # 2\n",
    "             ROOT.TFile(path + f'/p_505_{dist}_iter9.root'),    # 3\n",
    "             ROOT.TFile(path + f'/p_610_{dist}_iter8.root')]    # 4\n",
    "name = ['116 ns', '200 ns', '412 ns', '505 ns', '610 ns']\n",
    "color = [ROOT.kRed, ROOT.kGreen, ROOT.kBlack, ROOT.kBlue, ROOT.kViolet, ROOT.kYellow, ROOT.kCyan, ROOT.kOrange, ROOT.kSpring, ROOT.kAzure]"
   ]
  },
  {
   "cell_type": "markdown",
   "metadata": {},
   "source": [
    "## DESY 2021"
   ]
  },
  {
   "cell_type": "markdown",
   "metadata": {},
   "source": [
    "Coarse scan"
   ]
  },
  {
   "cell_type": "code",
   "execution_count": null,
   "metadata": {
    "tags": []
   },
   "outputs": [],
   "source": [
    "path = '/eos/experiment/neutplatform/np07/HAT/DESY_2021/ana_output/coarse/'\n",
    "volt = '275'\n",
    "time = '412'\n",
    "file_name = [path + f'/z_{time}ns_{volt}V_860',\n",
    "             path + f'/z_{time}ns_{volt}V_660',\n",
    "             path + f'/z_{time}ns_{volt}V_460',\n",
    "             path + f'/z_{time}ns_{volt}V_260',\n",
    "             path + f'/z_{time}ns_{volt}V_60'\n",
    "            ]\n",
    "title = ['860 mm', '660 mm', '460 mm', '260 mm', '60 mm']\n",
    "value = [860, 660, 460, 260, 60]\n",
    "color = [ROOT.kRed, ROOT.kGreen, ROOT.kBlack, ROOT.kBlue, ROOT.kViolet, ROOT.kYellow, ROOT.kCyan, ROOT.kOrange, ROOT.kSpring, ROOT.kAzure]\n",
    "\n",
    "volt = '140'\n",
    "file2_name = [path + f'/z_{time}ns_{volt}V_860',\n",
    "              path + f'/z_{time}ns_{volt}V_660',\n",
    "              path + f'/z_{time}ns_{volt}V_460',\n",
    "              path + f'/z_{time}ns_{volt}V_260',\n",
    "              path + f'/z_{time}ns_{volt}V_60'\n",
    "              ]\n",
    "\n",
    "# initialise files\n",
    "niter = '9'\n",
    "file  = [ROOT.TFile(fn + f'_iter{niter}.root') for fn in file_name]\n",
    "\n",
    "niter = '9'\n",
    "file2  = [ROOT.TFile(fn + f'_iter{niter}.root') for fn in file2_name]\n",
    "\n",
    "if (len(file_name) != len(value) || len(color) < len(value) || len(title) != len(value)):\n",
    "    print('Check length!!!')"
   ]
  },
  {
   "cell_type": "markdown",
   "metadata": {},
   "source": [
    "Precise Z"
   ]
  },
  {
   "cell_type": "code",
   "execution_count": null,
   "metadata": {
    "tags": []
   },
   "outputs": [],
   "source": [
    "path = '/eos/experiment/neutplatform/np07/HAT/DESY_2021/ana_output/z_scan2/'\n",
    "volt = '275'\n",
    "time = '200'\n",
    "niter = '0'\n",
    "file_name = [path + f'/z_{time}ns_{volt}V_860',\n",
    "             path + f'/z_{time}ns_{volt}V_760',\n",
    "             path + f'/z_{time}ns_{volt}V_660',\n",
    "             path + f'/z_{time}ns_{volt}V_560',\n",
    "             path + f'/z_{time}ns_{volt}V_460',\n",
    "             path + f'/z_{time}ns_{volt}V_360',\n",
    "             path + f'/z_{time}ns_{volt}V_260',\n",
    "             path + f'/z_{time}ns_{volt}V_160',\n",
    "             path + f'/z_{time}ns_{volt}V_60',\n",
    "             path + f'/z_{time}ns_{volt}V_m40'\n",
    "            ]\n",
    "title = ['860 mm', '760 mm', '660 mm', '560 mm', '460 mm', '360 mm', '260 mm', '160 mm', '60 mm', '-40 mm']\n",
    "value = [860, 760, 660, 560, 460, 360, 260, 160, 60, -40]\n",
    "volt = '140'\n",
    "file2_name = [path + f'/z_{time}ns_{volt}V_860', # 0\n",
    "              path + f'/z_{time}ns_{volt}V_760',\n",
    "              path + f'/z_{time}ns_{volt}V_660',\n",
    "              path + f'/z_{time}ns_{volt}V_560',\n",
    "              path + f'/z_{time}ns_{volt}V_460',\n",
    "              path + f'/z_{time}ns_{volt}V_360',\n",
    "              path + f'/z_{time}ns_{volt}V_260',\n",
    "              path + f'/z_{time}ns_{volt}V_160',\n",
    "              path + f'/z_{time}ns_{volt}V_60',\n",
    "              path + f'/z_{time}ns_{volt}V_m40' # 9\n",
    "             ]\n",
    "\n",
    "value2 = [860, 760, 660, 560, 460, 360, 260, 160, 60, -40]\n",
    "\n",
    "color = [ROOT.kRed, ROOT.kGreen, ROOT.kBlack, ROOT.kBlue, ROOT.kViolet, ROOT.kYellow, ROOT.kCyan, ROOT.kOrange, ROOT.kSpring, ROOT.kAzure]\n",
    "\n",
    "# initialise files\n",
    "niter = '9'\n",
    "file  = [ROOT.TFile(fn + f'_iter{niter}.root') for fn in file_name]\n",
    "\n",
    "niter = '9'\n",
    "file2  = [ROOT.TFile(fn + f'_iter{niter}.root') for fn in file2_name]\n",
    "\n",
    "if (len(file_name) != len(value) or len(color) < len(value) or len(title) != len(value)):\n",
    "    print('Check length!!!')"
   ]
  },
  {
   "cell_type": "markdown",
   "metadata": {},
   "source": [
    "Gain scan"
   ]
  },
  {
   "cell_type": "code",
   "execution_count": null,
   "metadata": {
    "tags": []
   },
   "outputs": [],
   "source": [
    "path = '/eos/experiment/neutplatform/np07/HAT/DESY_2021/ana_output/coarse/'\n",
    "volt = '275'\n",
    "time = '412'\n",
    "file_name = [path + f'/g_350',\n",
    "             path + f'/g_330',\n",
    "             path + f'/g_340',\n",
    "             path + f'/g_360',\n",
    "             path + f'/g_370'\n",
    "            ]\n",
    "title = ['350 V', '330 V', '340 V', '360 V', '370 V']\n",
    "value = [350, 330, 340, 360, 370]\n",
    "\n",
    "color = [ROOT.kRed, ROOT.kGreen, ROOT.kBlack, ROOT.kBlue, ROOT.kViolet, ROOT.kYellow, ROOT.kCyan, ROOT.kOrange, ROOT.kSpring, ROOT.kAzure]\n",
    "# initialise files\n",
    "niter = '9'\n",
    "file  = [ROOT.TFile(fn + f'_iter{niter}.root') for fn in file_name]\n",
    "if (len(file_name) != len(value) or len(color) < len(value) or len(title) != len(value)):\n",
    "    print('Check length!!!')"
   ]
  },
  {
   "cell_type": "markdown",
   "metadata": {},
   "source": [
    "Peaking scan"
   ]
  },
  {
   "cell_type": "code",
   "execution_count": null,
   "metadata": {
    "tags": []
   },
   "outputs": [],
   "source": [
    "path = '/eos/experiment/neutplatform/np07/HAT/DESY_2021/ana_output/peacking/'\n",
    "volt = '275'\n",
    "time = '412'\n",
    "dist = 'm40'\n",
    "# File names\n",
    "file_name = [path + f'/p_{dist}_200ns',\n",
    "             path + f'/p_{dist}_412ns',\n",
    "             path + f'/p_{dist}_116ns',\n",
    "             path + f'/p_{dist}_505ns',\n",
    "             path + f'/p_{dist}_610ns'\n",
    "            ]\n",
    "\n",
    "# sample details\n",
    "title = ['200 ns', '412 ns', '116 ns', '505 ns', '610 ns']\n",
    "value = [200, 412, 116, 505, 610]\n",
    "\n",
    "# initialise files\n",
    "niter = '9'\n",
    "file  = [ROOT.TFile(fn + f'_iter{niter}.root') for fn in file_name]\n",
    "\n",
    "color = [ROOT.kRed, ROOT.kGreen, ROOT.kBlack, ROOT.kBlue, ROOT.kViolet, ROOT.kYellow, ROOT.kCyan, ROOT.kOrange, ROOT.kSpring, ROOT.kAzure]\n",
    "\n",
    "if (len(file_name) != len(value) or len(color) < len(value) or len(title) != len(value)):\n",
    "    print('Check length!!!')"
   ]
  },
  {
   "cell_type": "markdown",
   "metadata": {},
   "source": [
    "Y scan"
   ]
  },
  {
   "cell_type": "code",
   "execution_count": null,
   "metadata": {},
   "outputs": [],
   "source": [
    "path = '/eos/experiment/neutplatform/np07/HAT/DESY_2021/ana_output/y_scan/'\n",
    "volt = '275'\n",
    "time = '412'\n",
    "niter = '9'\n",
    "file_name = [path + f'/y_0', # 0\n",
    "             path + f'/y_40',\n",
    "             path + f'/y_20',\n",
    "             path + f'/y_60',\n",
    "             path + f'/y_80',\n",
    "             path + f'/y_100',\n",
    "             path + f'/y_m20',\n",
    "             path + f'/y_m40',\n",
    "             path + f'/y_m60',\n",
    "             path + f'/y_m80',\n",
    "             path + f'/y_m100',\n",
    "             path + f'/y_m120',\n",
    "             path + f'/y_m140',\n",
    "             path + f'/y_m150',\n",
    "             path + f'/y_m170' # 14\n",
    "            ]\n",
    "\n",
    "title = ['0 mm', '40 mm', '20 mm', '60 mm', '80 mm', '100 mm', '-20 mm', '-40 mm', '-60 mm', '-80 mm', '-100 mm', '-120 mm', '-140 mm', '-150 mm', '-170 mm']\n",
    "value = [0, 40, 20, 60, 80, 100, -20, -40, -60, -80, -100, -120, -140, -150, -170]\n",
    "\n",
    "# initialise files\n",
    "niter = '9'\n",
    "file  = [ROOT.TFile(fn + f'_iter{niter}.root') for fn in file_name]\n",
    "\n",
    "color = [ROOT.kRed, ROOT.kGreen, ROOT.kBlack, ROOT.kBlue, ROOT.kViolet, ROOT.kYellow, ROOT.kCyan, ROOT.kOrange, ROOT.kSpring, ROOT.kAzure, ROOT.kRed, ROOT.kGreen, ROOT.kBlack, ROOT.kBlue, ROOT.kViolet]\n",
    "\n",
    "if (len(file_name) != len(value) or len(color) < len(value) or len(title) != len(value)):\n",
    "    print('Check length!!!')"
   ]
  },
  {
   "cell_type": "markdown",
   "metadata": {},
   "source": [
    "## dE/dx resolution"
   ]
  },
  {
   "cell_type": "code",
   "execution_count": null,
   "metadata": {
    "tags": []
   },
   "outputs": [],
   "source": [
    "%jsroot on\n",
    "trunc = 0.7\n",
    "\n",
    "hs = ROOT.THStack()\n",
    "dedx = []\n",
    "gr = ROOT.TGraph()\n",
    "\n",
    "gr2 = ROOT.TGraph()\n",
    "\n",
    "for file_id in range(len(file)):\n",
    "    dedx.append(ROOT.TH1F(f'h_{file_id}', '', 250, 0., 2500.))\n",
    "    for entry in file[file_id].outtree:\n",
    "        dedx_track = []\n",
    "        for i in range(len(entry.charge)):\n",
    "            if entry.charge[i] <= 0:\n",
    "                continue\n",
    "            dedx_track.append(entry.charge[i])\n",
    "        dedx_track.sort()\n",
    "        av = 0\n",
    "        for i in range(int(trunc*len(dedx_track))):\n",
    "            av += dedx_track[i] / int(trunc*len(dedx_track))\n",
    "        if av != 0:\n",
    "            dedx[-1].Fill(av)\n",
    "    dedx[-1].SetTitle(title[file_id])\n",
    "    dedx[-1].SetLineColor(color[file_id])\n",
    "    dedx[-1].Scale(1./dedx[-1].Integral())\n",
    "    dedx[-1].Fit('gaus', '', '', 200, 2300)\n",
    "    print(dedx[-1].GetFunction('gaus').GetParameter(2) / dedx[-1].GetFunction('gaus').GetParameter(1) * 100)\n",
    "    gr.SetPoint(gr.GetN(), value[file_id], dedx[-1].GetFunction('gaus').GetParameter(1))\n",
    "    hs.Add(dedx[-1])\n",
    "    gr2.SetPoint(gr2.GetN(), value[file_id], dedx[-1].GetFunction('gaus').GetParameter(2) / dedx[-1].GetFunction('gaus').GetParameter(1) * 100)\n",
    "\n",
    "c.cd()\n",
    "hs.Draw('nostack')\n",
    "hs.GetXaxis().SetTitle('dE/dx')\n",
    "ROOT.gPad.BuildLegend()\n",
    "c.Draw()        \n",
    "cc.cd()\n",
    "gr.Draw('ap')\n",
    "gr.GetXaxis().SetTitle('DLC voltage [V]')\n",
    "gr.GetYaxis().SetTitle('Mean charge [ADC]')\n",
    "cc.Draw()\n",
    "ccc.cd()\n",
    "gr2.Draw('ap')\n",
    "gr2.GetXaxis().SetTitle('DLC voltage [V]')\n",
    "gr2.GetYaxis().SetTitle('dE/dx resolution [%]')\n",
    "ccc.Draw()"
   ]
  },
  {
   "cell_type": "markdown",
   "metadata": {},
   "source": [
    "## Charge spreading"
   ]
  },
  {
   "cell_type": "markdown",
   "metadata": {},
   "source": [
    "### 1D distro"
   ]
  },
  {
   "cell_type": "code",
   "execution_count": null,
   "metadata": {
    "tags": []
   },
   "outputs": [],
   "source": [
    "cw3.Clear()\n",
    "cw3.Divide(3)\n",
    "\n",
    "h = []\n",
    "hs = []\n",
    "hs2 = []\n",
    "hs3 = []\n",
    "hs.append(ROOT.THStack('hs', ''))\n",
    "ls = [i for i in range(len(file))]\n",
    "\n",
    "for i in ls:\n",
    "    h.append(ROOT.TH1F(f'h1_{i}', '', 200, 0., 4000.))\n",
    "    t = file[i].outtree.Project(f'h1_{i}', f'pad_charge[][0]', f'multiplicity > 0')\n",
    "    h[-1].Scale(1./h[-1].Integral())\n",
    "    h[-1].SetTitle(title[i])\n",
    "    h[-1].SetLineColor(color[i])\n",
    "    hs[-1].Add(h[-1])\n",
    "    sat_bin = h[-1].FindBin(3700)\n",
    "    sat = h[-1].Integral(sat_bin, 1000000) / h[-1].Integral()\n",
    "    print(f'Saturation {value[i]} {sat*100}%')\n",
    "cw3.cd(1)\n",
    "hs[-1].Draw('histo nostack')\n",
    "hs[-1].GetXaxis().SetTitle('Q_{1}')\n",
    "hs[-1].SetTitle(f'Charge in the leding')\n",
    "# ROOT.gPad.BuildLegend()\n",
    "\n",
    "hs2.append(ROOT.THStack('hs2', ''))\n",
    "for i in ls:\n",
    "    h.append(ROOT.TH1F(f'h2_{i}', '', 200, 0., 0.7))\n",
    "    file[i].outtree.Project(f'h2_{i}', f'pad_charge[][1] / pad_charge[][0]', f'multiplicity > 1')\n",
    "    h[-1].Scale(1./h[-1].Integral())\n",
    "    h[-1].SetTitle(title[i])\n",
    "    h[-1].SetLineColor(color[i])\n",
    "    hs2[-1].Add(h[-1])\n",
    "cw3.cd(2)\n",
    "hs2[-1].Draw('histo nostack')\n",
    "hs2[-1].GetXaxis().SetTitle('Q_{2}/Q_{1}')\n",
    "hs2[-1].SetTitle(f'Charge spreading')\n",
    "# ROOT.gPad.BuildLegend()\n",
    "\n",
    "hs3.append(ROOT.THStack('hs3', ''))\n",
    "for i in ls:\n",
    "    h.append(ROOT.TH1F(f'h3_{i}', '', 200, 0., 0.2))\n",
    "    file[i].outtree.Project(f'h3_{i}', f'pad_charge[][2] / pad_charge[][0]', f'multiplicity > 2')\n",
    "    h[-1].Scale(1./h[-1].Integral())\n",
    "    h[-1].SetTitle(title[i])\n",
    "    h[-1].SetLineColor(color[i])\n",
    "    hs3[-1].Add(h[-1])\n",
    "cw3.cd(3)\n",
    "hs3[-1].Draw('histo nostack')\n",
    "hs3[-1].GetXaxis().SetTitle('Q_{3}/Q_{1}')\n",
    "hs3[-1].SetTitle(f'Charge spreading')\n",
    "ROOT.gPad.BuildLegend()\n",
    "\n",
    "cw3.Draw() "
   ]
  },
  {
   "cell_type": "markdown",
   "metadata": {},
   "source": [
    "### vs the column"
   ]
  },
  {
   "cell_type": "code",
   "execution_count": null,
   "metadata": {
    "tags": []
   },
   "outputs": [],
   "source": [
    "cw3.Clear()\n",
    "cw3.Divide(3)\n",
    "\n",
    "file_id = 0\n",
    "\n",
    "h = []\n",
    "\n",
    "h.append(ROOT.TH2F('h', '', 36, 0., 36., 200, 0., 4000.))\n",
    "t = file[file_id].outtree.Project('h', f'pad_charge[][0]:pad_x[][]', f'multiplicity > 0')\n",
    "h[-1].Scale(1./h[-1].Integral())\n",
    "# h[-1].SetTitle(title[i])\n",
    "# hs[-1].Add(h[-1])\n",
    "cw3.cd(1)\n",
    "h[-1].Draw('colz')\n",
    "h[-1].GetYaxis().SetTitle('Q_{1}')\n",
    "h[-1].GetXaxis().SetTitle('Column')\n",
    "h[-1].SetTitle(f'Charge in the leding')\n",
    "\n",
    "h.append(ROOT.TH2F('h', '', 36, 0., 36., 200, 0., 0.7))\n",
    "file[file_id].outtree.Project('h', f'pad_charge[][1] / pad_charge[][0]:pad_x[][]', f'multiplicity > 1')\n",
    "h[-1].Scale(1./h[-1].Integral())\n",
    "# h[-1].SetTitle(title[i])\n",
    "cw3.cd(2)\n",
    "h[-1].Draw('colz')\n",
    "h[-1].GetYaxis().SetTitle('Q_{2}/Q_{1}')\n",
    "h[-1].GetXaxis().SetTitle('Column')\n",
    "h[-1].SetTitle(f'Charge spreading')\n",
    "\n",
    "h.append(ROOT.TH2F('h', '', 36, 0., 36., 200, 0., 0.2))\n",
    "file[file_id].outtree.Project('h', f'pad_charge[][2] / pad_charge[][0]:pad_x[][]', f'multiplicity > 2')\n",
    "h[-1].Scale(1./h[-1].Integral())\n",
    "# h[-1].SetTitle(title[i])\n",
    "cw3.cd(3)\n",
    "h[-1].Draw('colz')\n",
    "h[-1].GetYaxis().SetTitle('Q_{3}/Q_{1}')\n",
    "h[-1].GetXaxis().SetTitle('Column')\n",
    "h[-1].SetTitle(f'Charge spreading')\n",
    "\n",
    "cw3.Draw() "
   ]
  },
  {
   "cell_type": "markdown",
   "metadata": {},
   "source": [
    "## Time delays"
   ]
  },
  {
   "cell_type": "code",
   "execution_count": null,
   "metadata": {
    "tags": []
   },
   "outputs": [],
   "source": [
    "cw3.Clear()\n",
    "cw3.Divide(3)\n",
    "\n",
    "file_id = 8\n",
    "\n",
    "h = []\n",
    "\n",
    "h.append(ROOT.TH2F('h', '', 36, 0., 36., 200, 0., 4000.))\n",
    "t = file[file_id].outtree.Project('h', f'pad_charge[][0]:pad_x[][]', f'multiplicity > 0')\n",
    "h[-1].Scale(1./h[-1].Integral())\n",
    "cw3.cd(1)\n",
    "h[-1].Draw('colz')\n",
    "h[-1].GetYaxis().SetTitle('Q_{1}')\n",
    "h[-1].GetXaxis().SetTitle('Column')\n",
    "h[-1].SetTitle(f'Charge in the leding')\n",
    "\n",
    "h.append(ROOT.TH2F('h', '', 36, 0., 36., 120, -20., 100))\n",
    "file[file_id].outtree.Project('h', f'time[][1] - time[][0]:pad_x[][]', f'multiplicity > 1')\n",
    "h[-1].Scale(1./h[-1].Integral())\n",
    "cw3.cd(2)\n",
    "h[-1].Draw('colz')\n",
    "h[-1].GetYaxis().SetTitle('T_{2} - T_{1}')\n",
    "h[-1].GetXaxis().SetTitle('Column')\n",
    "h[-1].SetTitle(f'Charge spreading')\n",
    "\n",
    "h.append(ROOT.TH2F('h', '', 36, 0., 36., 120, -20., 100))\n",
    "file[file_id].outtree.Project('h', f'time[][2] - time[][0]:pad_x[][]', f'multiplicity > 2')\n",
    "h[-1].Scale(1./h[-1].Integral())\n",
    "cw3.cd(3)\n",
    "h[-1].Draw('colz')\n",
    "h[-1].GetYaxis().SetTitle('T_{3} - T_{1}')\n",
    "h[-1].GetXaxis().SetTitle('Column')\n",
    "h[-1].SetTitle(f'Charge spreading')\n",
    "\n",
    "cw3.Draw() "
   ]
  },
  {
   "cell_type": "markdown",
   "metadata": {},
   "source": [
    "# dE/dx"
   ]
  },
  {
   "cell_type": "markdown",
   "metadata": {},
   "source": [
    "### Charge per column"
   ]
  },
  {
   "cell_type": "code",
   "execution_count": null,
   "metadata": {
    "tags": []
   },
   "outputs": [],
   "source": [
    "%jsroot on\n",
    "cw3.Clear()\n",
    "cw3.Divide(3)\n",
    "cw3.cd(1)\n",
    "file_id = 2\n",
    "f = file[file_id]\n",
    "h = ROOT.TH2F('h', '', 36, 0., 36., 200, 0., 6000.)\n",
    "f.outtree.Project('h', 'charge[]:pad_x[][0]', '')\n",
    "h.GetYaxis().SetTitle('Cluster charge')\n",
    "h.Draw('colz')\n",
    "\n",
    "cw3.cd(2)\n",
    "h2 = ROOT.TH2F('h2', '', 36, 0., 36., 10, 0., 10.)\n",
    "f.outtree.Project('h2', 'multiplicity[]:pad_x[][0]', '')\n",
    "h2.GetYaxis().SetTitle('Multiplicity')\n",
    "h2.Draw('colz')\n",
    "\n",
    "cw3.cd(3)\n",
    "h3 = ROOT.TH1F('h2', '', 36, 0., 36.)\n",
    "f.outtree.Project('h2', 'pad_x[][0]', '')\n",
    "h3.GetYaxis().SetTitle('#leading pads')\n",
    "h3.Draw('')\n",
    "\n",
    "cw3.Draw()"
   ]
  },
  {
   "cell_type": "markdown",
   "metadata": {},
   "source": [
    "## Multiplicity"
   ]
  },
  {
   "cell_type": "code",
   "execution_count": null,
   "metadata": {
    "tags": []
   },
   "outputs": [],
   "source": [
    "%jsroot on\n",
    "c.cd()\n",
    "\n",
    "hs = ROOT.THStack()\n",
    "mult = []\n",
    "\n",
    "for file_id in range(len(file)):\n",
    "#     print(file_id)\n",
    "    mult.append(ROOT.TH1F(f'h_{title[file_id]}', '', 10, 0., 10.))\n",
    "    for entry in file[file_id].outtree:\n",
    "        for i in range (70):\n",
    "            if entry.multiplicity[i] > 0:\n",
    "                mult[-1].Fill(entry.multiplicity[i])\n",
    "    mult[-1].Scale(1./mult[-1].Integral())\n",
    "    mult[-1].SetTitle(title[file_id])\n",
    "    mult[-1].SetLineColor(color[file_id])\n",
    "    hs.Add(mult[-1])\n",
    "\n",
    "hs.Draw('nostack histo')\n",
    "hs.GetXaxis().SetTitle('Multiplicity')\n",
    "c.Draw()        \n",
    "c.BuildLegend()"
   ]
  },
  {
   "cell_type": "markdown",
   "metadata": {},
   "source": [
    "Mean amd max multiplicity for track"
   ]
  },
  {
   "cell_type": "code",
   "execution_count": null,
   "metadata": {
    "tags": []
   },
   "outputs": [],
   "source": [
    "%jsroot on\n",
    "c.cd()\n",
    "\n",
    "hs = ROOT.THStack()\n",
    "mult = []\n",
    "\n",
    "hsm = ROOT.THStack()\n",
    "multm = []\n",
    "\n",
    "for file_id in range(len(file)):\n",
    "    mult.append(ROOT.TH1F(f'h_{title[file_id]}', '', 100, 0., 10.))\n",
    "    multm.append(ROOT.TH1F(f'hm_{title[file_id]}', '', 10, 0., 10.))\n",
    "    for entry in file[file_id].outtree:\n",
    "        n = 0\n",
    "        mean_mult = 0\n",
    "        max_mult = -1\n",
    "        for i in range (70):\n",
    "            if entry.multiplicity[i] > 0:\n",
    "                mean_mult += entry.multiplicity[i]\n",
    "                if entry.multiplicity[i] > max_mult:\n",
    "                    max_mult = entry.multiplicity[i]\n",
    "                n += 1\n",
    "        mean_mult /= n\n",
    "        mult[-1].Fill(mean_mult)\n",
    "        multm[-1].Fill(max_mult)\n",
    "    mult[-1].Scale(1./mult[-1].Integral())\n",
    "    mult[-1].SetTitle(title[file_id])\n",
    "    mult[-1].SetLineColor(color[file_id])\n",
    "    multm[-1].Scale(1./mult[-1].Integral())\n",
    "    multm[-1].SetTitle(title[file_id])\n",
    "    multm[-1].SetLineColor(color[file_id])\n",
    "    hs.Add(mult[-1])\n",
    "    hsm.Add(multm[-1])\n",
    "\n",
    "hs.Draw('nostack histo')\n",
    "hs.GetXaxis().SetTitle('Mean multiplicity')\n",
    "c.Draw()        \n",
    "c.BuildLegend()\n",
    "\n",
    "cc.cd()\n",
    "hsm.Draw('nostack histo')\n",
    "hsm.GetXaxis().SetTitle('Max multiplicity')\n",
    "cc.BuildLegend()\n",
    "cc.Draw()"
   ]
  },
  {
   "cell_type": "code",
   "execution_count": null,
   "metadata": {
    "tags": []
   },
   "outputs": [],
   "source": [
    "c.Draw()\n",
    "cc.Draw()"
   ]
  },
  {
   "cell_type": "markdown",
   "metadata": {},
   "source": [
    "Charge vs multiplicity"
   ]
  },
  {
   "cell_type": "code",
   "execution_count": null,
   "metadata": {
    "tags": []
   },
   "outputs": [],
   "source": [
    "c.cd()\n",
    "h = ROOT.TH2F('h', '', 10, 0., 10., 100, 0., 6000)\n",
    "file_id = 0\n",
    "file[file_id].outtree.Project('h', 'charge[]:multiplicity[]', 'charge > 0')\n",
    "h.SetTitle(';Cluster mult; Charge [a.u.]')\n",
    "h.Draw('colz')\n",
    "c.Draw()\n",
    "\n",
    "h2 = ROOT.TH2F('h2', ';Mean mult;Mean charge', 100, 0., 10., 100, 0., 5000)\n",
    "h3 = ROOT.TH2F('h2', ';Mean mult;Max mult', 100, 0., 10., 10, 0., 10)\n",
    "\n",
    "file_id = 0\n",
    "for entry in file[file_id].outtree:\n",
    "    n = 0\n",
    "    mean_mult = 0\n",
    "    mean_charge = 0\n",
    "    max_mult = -1\n",
    "    for i in range (70):\n",
    "        if entry.multiplicity[i] > 0:\n",
    "            mean_mult += entry.multiplicity[i]\n",
    "            mean_charge += entry.charge[i]\n",
    "            if entry.multiplicity[i] > max_mult:\n",
    "                max_mult = entry.multiplicity[i]\n",
    "            n += 1\n",
    "    mean_mult /= n\n",
    "    mean_charge /= n\n",
    "    h2.Fill(mean_mult, mean_charge)\n",
    "    h3.Fill(mean_mult, max_mult)\n",
    "cc.cd()\n",
    "h2.Draw('colz')\n",
    "cc.Draw()\n",
    "ccc.cd()\n",
    "h3.Draw('colz')\n",
    "ccc.Draw()"
   ]
  },
  {
   "cell_type": "code",
   "execution_count": null,
   "metadata": {
    "tags": []
   },
   "outputs": [],
   "source": [
    "path = '/eos/experiment/neutplatform/np07/HAT/DESY_2021/ana_output/z_scan/'\n",
    "volt = '275'\n",
    "time = '200'\n",
    "niter = '0'\n",
    "file_name = [path + f'/z_{200}ns_{volt}V_360',\n",
    "             path + f'/z_{412}ns_{volt}V_360'\n",
    "            ]\n",
    "title = ['200 ns', '412 ns']\n",
    "file  = [ROOT.TFile(fn + f'_iter{niter}.root') for fn in file_name]"
   ]
  },
  {
   "cell_type": "markdown",
   "metadata": {},
   "source": [
    "## $T_{0}$ with Z scan"
   ]
  },
  {
   "cell_type": "code",
   "execution_count": null,
   "metadata": {},
   "outputs": [],
   "source": [
    "%jsroot on\n",
    "c.cd()\n",
    "\n",
    "ns_bin = 50\n",
    "\n",
    "hs = ROOT.THStack()\n",
    "mult = []\n",
    "\n",
    "h = ROOT.TH1F('h', '', 510, 0., 510.)\n",
    "gr = ROOT.TGraph()\n",
    "gr2 = ROOT.TGraph()\n",
    "\n",
    "for file_id in range(len(file)):\n",
    "#     print(file_id)\n",
    "    h.Reset()\n",
    "    for entry in file[file_id].outtree:\n",
    "        for i in range (36):\n",
    "            if entry.pad_charge[i*10] > 0:\n",
    "                h.Fill(entry.pad_time[i*10])\n",
    "    gr.SetPoint(gr.GetN(), value[file_id], h.GetBinCenter(h.GetMaximumBin()))\n",
    "#     thr = h.GetMaximum() / 2.\n",
    "#     for i in range(h.GetNbinsX()):\n",
    "#         content = h.GetBinContent(i)\n",
    "#         if content > thr:\n",
    "#             gr.SetPoint(gr.GetN(), value[file_id], h.GetBinCenter(i))\n",
    "#             break\n",
    "             \n",
    "for file_id in range(len(file2)):\n",
    "#     print(file_id)\n",
    "    h.Reset()\n",
    "#     if value[file_id] == 660 or value[file_id] == 360:\n",
    "#         continue\n",
    "    for entry in file2[file_id].outtree:\n",
    "        for i in range (36):\n",
    "            if entry.pad_charge[i*10] > 0:\n",
    "                h.Fill(entry.pad_time[i*10])\n",
    "    gr2.SetPoint(gr2.GetN(), value[file_id], h.GetBinCenter(h.GetMaximumBin()))\n",
    "#     thr = h.GetMaximum() / 2.\n",
    "#     for i in range(h.GetNbinsX()):\n",
    "#         content = h.GetBinContent(i)\n",
    "#         if content > thr:\n",
    "#             gr2.SetPoint(gr2.GetN(), value[file_id], h.GetBinCenter(i))\n",
    "#             break\n",
    "\n",
    "\n",
    "h2 = ROOT.TH1F('h2', '', 100, -200, 1000)\n",
    "h2.GetXaxis().SetTitle('Z pos [mm]')\n",
    "h2.GetYaxis().SetTitle('Mean time [bins]')\n",
    "h2.SetMaximum(500)\n",
    "h2.Draw()\n",
    "\n",
    "gr.Fit('pol1', '', '', -100, 1000)\n",
    "gr.GetXaxis().SetRangeUser(-200., 1000.)\n",
    "gr.Draw('same p')\n",
    "gr.GetXaxis().SetRangeUser(-200., 1000.)\n",
    "gr2.SetMarkerColor(ROOT.kRed)\n",
    "\n",
    "gr2.Fit('pol1', '', '', -100, 1000)\n",
    "gr2.Draw('same p')\n",
    "c.Draw()    \n",
    "print('Drift velocity')\n",
    "print(0.1 / (gr.GetFunction('pol1').GetParameter(1) * ns_bin / 1000), 'sm/us')\n",
    "print(0.1 / (gr2.GetFunction('pol1').GetParameter(1) * ns_bin / 1000), 'sm/us')\n",
    "print('MM position', (gr.GetFunction('pol1').GetParameter(0) - gr2.GetFunction('pol1').GetParameter(0)) / (gr2.GetFunction('pol1').GetParameter(1) - gr.GetFunction('pol1').GetParameter(1)), 'mm')"
   ]
  },
  {
   "cell_type": "code",
   "execution_count": null,
   "metadata": {},
   "outputs": [],
   "source": [
    "c.cd()\n",
    "h.Draw()\n",
    "h.GetXaxis().SetTitle('Time bins [50 ns]')\n",
    "c.Draw()"
   ]
  },
  {
   "cell_type": "code",
   "execution_count": null,
   "metadata": {},
   "outputs": [],
   "source": []
  }
 ],
 "metadata": {
  "kernelspec": {
   "display_name": "Python 3",
   "language": "python",
   "name": "python3"
  },
  "language_info": {
   "codemirror_mode": {
    "name": "ipython",
    "version": 3
   },
   "file_extension": ".py",
   "mimetype": "text/x-python",
   "name": "python",
   "nbconvert_exporter": "python",
   "pygments_lexer": "ipython3",
   "version": "3.9.8"
  }
 },
 "nbformat": 4,
 "nbformat_minor": 4
}
