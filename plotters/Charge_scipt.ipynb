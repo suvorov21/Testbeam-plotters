{
 "cells": [
  {
   "cell_type": "code",
   "execution_count": null,
   "metadata": {
    "tags": []
   },
   "outputs": [],
   "source": [
    "import ROOT\n",
    "from T2KStyle.T2KStyle import GetT2K\n",
    "style = GetT2K(3)\n",
    "ROOT.gROOT.SetStyle(\"T2K\")\n",
    "c = ROOT.TCanvas('c', '', 800, 600)\n",
    "cl = ROOT.TCanvas('cl', '', 1600, 1200)\n",
    "cw = ROOT.TCanvas('c2', '', 1600, 600)\n",
    "cw3 = ROOT.TCanvas('c3', '', 2400, 600)"
   ]
  },
  {
   "cell_type": "code",
   "execution_count": null,
   "metadata": {
    "tags": []
   },
   "outputs": [],
   "source": [
    "path = '~/LXPLUS/DESY_testbeam/tree_v3/'\n",
    "file = [ROOT.TFile(path + 'mm1_360_iter0.root'),\n",
    "     ROOT.TFile(path + 'mm1_370_iter0.root'),\n",
    "     ROOT.TFile(path + 'mm1_380.root')]\n",
    "\n",
    "name = ['MM1 November 360V', 'MM1 November 370V', 'MM1 November 380V']\n",
    "color = [ROOT.kCyan, ROOT.kMagenta, ROOT.kYellow]"
   ]
  },
  {
   "cell_type": "code",
   "execution_count": null,
   "metadata": {},
   "outputs": [],
   "source": [
    "# path = '~/LXPLUS/DESY_testbeam/hs_para3/'\n",
    "path = '~/DATA/hs_para3/'\n",
    "\n",
    "file = [ROOT.TFile(path + 's_200_430_02T_iter9.root'),\n",
    "        ROOT.TFile(path + 's_200_480_02T_iter9.root'),\n",
    "        ROOT.TFile(path + 's_412_430_02T_iter9.root'),\n",
    "        ROOT.TFile(path + 's_412_480_02T_iter9.root')\n",
    "       ]\n",
    "\n",
    "title = ['200 ns 430 mm', '200 ns 480 mm', '412 ns 430 mm', '412 ns 480 mm']"
   ]
  },
  {
   "cell_type": "code",
   "execution_count": null,
   "metadata": {},
   "outputs": [],
   "source": [
    "%jsroot on\n",
    "path = '~/LXPLUS/DESY_testbeam/time_para/'\n",
    "dist = '430'\n",
    "file      = [ROOT.TFile(path + f'/p_116_{dist}_iter9.root'),    # 0\n",
    "             ROOT.TFile(path + f'/p_200_{dist}_iter9.root'),    # 1\n",
    "             ROOT.TFile(path + f'/p_412_{dist}_iter9.root'),    # 2\n",
    "             ROOT.TFile(path + f'/p_505_{dist}_iter9.root'),    # 3\n",
    "             ROOT.TFile(path + f'/p_610_{dist}_iter8.root')]    # 4\n",
    "name = ['116 ns', '200 ns', '412 ns', '505 ns', '610 ns']\n",
    "color = [ROOT.kRed, ROOT.kGreen, ROOT.kBlack, ROOT.kBlue, ROOT.kViolet, ROOT.kYellow, ROOT.kCyan, ROOT.kOrange, ROOT.kSpring, ROOT.kAzure]"
   ]
  },
  {
   "cell_type": "markdown",
   "metadata": {},
   "source": [
    "Coarse scan"
   ]
  },
  {
   "cell_type": "code",
   "execution_count": null,
   "metadata": {
    "tags": []
   },
   "outputs": [],
   "source": [
    "path = '~/LXPLUS/DESY_testbeam2021/coarse/'\n",
    "volt = '275'\n",
    "time = '412'\n",
    "file = [ROOT.TFile(path + f'/z_{time}ns_{volt}V_860_iter9.root'),\n",
    "        ROOT.TFile(path + f'/z_{time}ns_{volt}V_660_iter9.root'),\n",
    "        ROOT.TFile(path + f'/z_{time}ns_{volt}V_460_iter9.root'),\n",
    "        ROOT.TFile(path + f'/z_{time}ns_{volt}V_260_iter9.root'),\n",
    "        ROOT.TFile(path + f'/z_{time}ns_{volt}V_60_iter9.root')\n",
    "       ]\n",
    "name = ['860 mm', '660 mm', '460 mm', '260 mm', '60 mm']\n",
    "color = [ROOT.kRed, ROOT.kGreen, ROOT.kBlack, ROOT.kBlue, ROOT.kViolet, ROOT.kYellow, ROOT.kCyan, ROOT.kOrange, ROOT.kSpring, ROOT.kAzure]"
   ]
  },
  {
   "cell_type": "markdown",
   "metadata": {},
   "source": [
    "Gain scan"
   ]
  },
  {
   "cell_type": "code",
   "execution_count": null,
   "metadata": {},
   "outputs": [],
   "source": [
    "path = '~/LXPLUS/DESY_testbeam2021/coarse/'\n",
    "volt = '275'\n",
    "time = '412'\n",
    "file = [ROOT.TFile(path + f'/g_350_iter9.root'),\n",
    "        ROOT.TFile(path + f'/g_330_iter9.root'),\n",
    "        ROOT.TFile(path + f'/g_340_iter9.root'),\n",
    "        ROOT.TFile(path + f'/g_360_iter9.root'),\n",
    "        ROOT.TFile(path + f'/g_370_iter9.root')\n",
    "       ]\n",
    "name = ['350', '330', '340', '360', '370']\n",
    "color = [ROOT.kRed, ROOT.kGreen, ROOT.kBlack, ROOT.kBlue, ROOT.kViolet, ROOT.kYellow, ROOT.kCyan, ROOT.kOrange, ROOT.kSpring, ROOT.kAzure]"
   ]
  },
  {
   "cell_type": "code",
   "execution_count": null,
   "metadata": {
    "tags": []
   },
   "outputs": [],
   "source": [
    "%jsroot on\n",
    "c.cd()\n",
    "# dedx = ROOT.TH1F('h', '', 100, 0., 3000.)\n",
    "trunc = 0.7\n",
    "\n",
    "hs = ROOT.THStack()\n",
    "dedx = []\n",
    "\n",
    "for file_id in [0, 1, 2, 3, 4]:\n",
    "    dedx.append(ROOT.TH1F('h', '', 200, 0., 2000.))\n",
    "    for entry in file[file_id].outtree:\n",
    "        dedx_track = []\n",
    "        for i in range(len(entry.charge)):\n",
    "            if entry.charge[i] <= 0:\n",
    "                continue\n",
    "            dedx_track.append(entry.charge[i])\n",
    "        dedx_track.sort()\n",
    "        av = 0\n",
    "        for i in range(int(trunc*len(dedx_track))):\n",
    "            av += dedx_track[i] / int(trunc*len(dedx_track))\n",
    "        if av != 0:\n",
    "            dedx[-1].Fill(av)\n",
    "    dedx[-1].SetTitle(name[file_id])\n",
    "    dedx[-1].SetLineColor(color[file_id])\n",
    "    dedx[-1].Fit('gaus', '', 400, 1000)\n",
    "    print(dedx[-1].GetFunction('gaus').GetParameter(2) / dedx[-1].GetFunction('gaus').GetParameter(1) * 100)\n",
    "    hs.Add(dedx[-1])\n",
    "\n",
    "hs.Draw('nostack')\n",
    "hs.GetXaxis().SetTitle('dE/dx')\n",
    "c.Draw()        \n",
    "c.BuildLegend()"
   ]
  },
  {
   "cell_type": "markdown",
   "metadata": {},
   "source": [
    "## Charge spreading"
   ]
  },
  {
   "cell_type": "markdown",
   "metadata": {},
   "source": [
    "### 1D distro"
   ]
  },
  {
   "cell_type": "code",
   "execution_count": null,
   "metadata": {
    "tags": []
   },
   "outputs": [],
   "source": [
    "cw3.Clear()\n",
    "cw3.Divide(3)\n",
    "\n",
    "h = []\n",
    "hs = []\n",
    "hs.append(ROOT.THStack('hs', ''))\n",
    "ls = [0, 1, 2]\n",
    "\n",
    "for i in ls:\n",
    "    h.append(ROOT.TH1F('h', '', 200, 0., 4000.))\n",
    "    t = file[i].outtree.Project('h', f'pad_charge[][0]', f'multiplicity > 0')\n",
    "    h[-1].Scale(1./h[-1].Integral())\n",
    "    h[-1].SetTitle(name[i])\n",
    "    h[-1].SetLineColor(color[i])\n",
    "    hs[-1].Add(h[-1])\n",
    "cw3.cd(1)\n",
    "hs[-1].Draw('histo nostack')\n",
    "hs[-1].GetXaxis().SetTitle('Q_{1}')\n",
    "hs[-1].SetTitle(f'Charge in the leding')\n",
    "# ROOT.gPad.BuildLegend()\n",
    "\n",
    "hs.append(ROOT.THStack('hs', ''))\n",
    "for i in ls:\n",
    "    h.append(ROOT.TH1F('h', '', 200, 0., 0.7))\n",
    "    file[i].outtree.Project('h', f'pad_charge[][1] / pad_charge[][0]', f'multiplicity > 1')\n",
    "    h[-1].Scale(1./h[-1].Integral())\n",
    "    h[-1].SetTitle(name[i])\n",
    "    h[-1].SetLineColor(color[i])\n",
    "    hs[-1].Add(h[-1])\n",
    "cw3.cd(2)\n",
    "hs[-1].Draw('histo nostack')\n",
    "hs[-1].GetXaxis().SetTitle('Q_{2}/Q_{1}')\n",
    "hs[-1].SetTitle(f'Charge spreading')\n",
    "# ROOT.gPad.BuildLegend()\n",
    "\n",
    "hs.append(ROOT.THStack('hs', ''))\n",
    "for i in ls:\n",
    "    h.append(ROOT.TH1F('h', '', 200, 0., 0.2))\n",
    "    file[i].outtree.Project('h', f'pad_charge[][2] / pad_charge[][0]', f'multiplicity > 2')\n",
    "    h[-1].Scale(1./h[-1].Integral())\n",
    "    h[-1].SetTitle(name[i])\n",
    "    h[-1].SetLineColor(color[i])\n",
    "    hs[-1].Add(h[-1])\n",
    "cw3.cd(3)\n",
    "hs[-1].Draw('histo nostack')\n",
    "hs[-1].GetXaxis().SetTitle('Q_{3}/Q_{1}')\n",
    "hs[-1].SetTitle(f'Charge spreading')\n",
    "ROOT.gPad.BuildLegend()\n",
    "\n",
    "cw3.Draw() "
   ]
  },
  {
   "cell_type": "markdown",
   "metadata": {},
   "source": [
    "### vs the column"
   ]
  },
  {
   "cell_type": "code",
   "execution_count": null,
   "metadata": {
    "tags": []
   },
   "outputs": [],
   "source": [
    "cw3.Clear()\n",
    "cw3.Divide(3)\n",
    "\n",
    "# file = [ROOT.TFile('~/LXPLUS/DESY_testbeam/test2.iter0.root')]\n",
    "file_id = 0\n",
    "\n",
    "h = []\n",
    "\n",
    "h.append(ROOT.TH2F('h', '', 36, 0., 36., 200, 0., 4000.))\n",
    "t = file[file_id].outtree.Project('h', f'pad_charge[][0]:pad_x[][]', f'multiplicity > 0')\n",
    "h[-1].Scale(1./h[-1].Integral())\n",
    "# h[-1].SetTitle(name[i])\n",
    "hs[-1].Add(h[-1])\n",
    "cw3.cd(1)\n",
    "h[-1].Draw('colz')\n",
    "h[-1].GetYaxis().SetTitle('Q_{1}')\n",
    "h[-1].GetXaxis().SetTitle('Column')\n",
    "h[-1].SetTitle(f'Charge in the leding')\n",
    "\n",
    "h.append(ROOT.TH2F('h', '', 36, 0., 36., 200, 0., 0.7))\n",
    "file[file_id].outtree.Project('h', f'pad_charge[][1] / pad_charge[][0]:pad_x[][]', f'multiplicity > 1')\n",
    "h[-1].Scale(1./h[-1].Integral())\n",
    "# h[-1].SetTitle(name[i])\n",
    "cw3.cd(2)\n",
    "h[-1].Draw('colz')\n",
    "h[-1].GetYaxis().SetTitle('Q_{2}/Q_{1}')\n",
    "h[-1].GetXaxis().SetTitle('Column')\n",
    "h[-1].SetTitle(f'Charge spreading')\n",
    "\n",
    "h.append(ROOT.TH2F('h', '', 36, 0., 36., 200, 0., 0.2))\n",
    "file[file_id].outtree.Project('h', f'pad_charge[][2] / pad_charge[][0]:pad_x[][]', f'multiplicity > 2')\n",
    "h[-1].Scale(1./h[-1].Integral())\n",
    "# h[-1].SetTitle(name[i])\n",
    "cw3.cd(3)\n",
    "h[-1].Draw('colz')\n",
    "h[-1].GetYaxis().SetTitle('Q_{3}/Q_{1}')\n",
    "h[-1].GetXaxis().SetTitle('Column')\n",
    "h[-1].SetTitle(f'Charge spreading')\n",
    "\n",
    "cw3.Draw() "
   ]
  },
  {
   "cell_type": "code",
   "execution_count": null,
   "metadata": {
    "tags": []
   },
   "outputs": [],
   "source": [
    "cw3.Clear()\n",
    "cw3.Divide(3)\n",
    "\n",
    "# file = [ROOT.TFile('~/LXPLUS/DESY_testbeam/test2.iter0.root')]\n",
    "file_id = 2\n",
    "\n",
    "h = []\n",
    "\n",
    "h.append(ROOT.TH2F('h', '', 36, 0., 36., 200, 0., 4000.))\n",
    "t = file[file_id].outtree.Project('h', f'pad_charge[][0]:pad_x[][]', f'multiplicity > 0')\n",
    "h[-1].Scale(1./h[-1].Integral())\n",
    "# h[-1].SetTitle(name[i])\n",
    "hs[-1].Add(h[-1])\n",
    "cw3.cd(1)\n",
    "h[-1].Draw('colz')\n",
    "h[-1].GetYaxis().SetTitle('Q_{1}')\n",
    "h[-1].GetXaxis().SetTitle('Column')\n",
    "h[-1].SetTitle(f'Charge in the leding')\n",
    "\n",
    "h.append(ROOT.TH2F('h', '', 36, 0., 36., 120, -20., 100))\n",
    "file[file_id].outtree.Project('h', f'time[][1] - time[][0]:pad_x[][]', f'multiplicity > 1')\n",
    "h[-1].Scale(1./h[-1].Integral())\n",
    "# h[-1].SetTitle(name[i])\n",
    "cw3.cd(2)\n",
    "h[-1].Draw('colz')\n",
    "h[-1].GetYaxis().SetTitle('T_{2} - T_{1}')\n",
    "h[-1].GetXaxis().SetTitle('Column')\n",
    "h[-1].SetTitle(f'Charge spreading')\n",
    "\n",
    "h.append(ROOT.TH2F('h', '', 36, 0., 36., 120, -20., 100))\n",
    "file[file_id].outtree.Project('h', f'time[][2] - time[][0]:pad_x[][]', f'multiplicity > 2')\n",
    "h[-1].Scale(1./h[-1].Integral())\n",
    "# h[-1].SetTitle(name[i])\n",
    "cw3.cd(3)\n",
    "h[-1].Draw('colz')\n",
    "h[-1].GetYaxis().SetTitle('T_{3} - T_{1}')\n",
    "h[-1].GetXaxis().SetTitle('Column')\n",
    "h[-1].SetTitle(f'Charge spreading')\n",
    "\n",
    "cw3.Draw() "
   ]
  },
  {
   "cell_type": "markdown",
   "metadata": {},
   "source": [
    "# dE/dx"
   ]
  },
  {
   "cell_type": "markdown",
   "metadata": {},
   "source": [
    "### Charge per column"
   ]
  },
  {
   "cell_type": "code",
   "execution_count": null,
   "metadata": {},
   "outputs": [],
   "source": [
    "%jsroot on\n",
    "cw3.Clear()\n",
    "cw3.Divide(3)\n",
    "cw3.cd(1)\n",
    "file = ROOT.TFile('~/LXPLUS/DESY_testbeam/test.iter0.root')\n",
    "h = ROOT.TH2F('h', '', 36, 0., 36., 200, 0., 6000.)\n",
    "file.outtree.Project('h', 'charge[]:pad_x[][0]', '')\n",
    "h.Draw('colz')\n",
    "\n",
    "cw3.cd(2)\n",
    "h2 = ROOT.TH2F('h2', '', 36, 0., 36., 10, 0., 10.)\n",
    "file.outtree.Project('h2', 'multiplicity[]:pad_x[][0]', '')\n",
    "h2.Draw('colz')\n",
    "\n",
    "cw3.cd(3)\n",
    "h3 = ROOT.TH1F('h2', '', 36, 0., 36.)\n",
    "file.outtree.Project('h2', 'pad_x[][0]', '')\n",
    "h3.Draw('')\n",
    "\n",
    "cw3.Draw()"
   ]
  },
  {
   "cell_type": "markdown",
   "metadata": {},
   "source": [
    "## Multiplicity"
   ]
  },
  {
   "cell_type": "code",
   "execution_count": null,
   "metadata": {
    "tags": []
   },
   "outputs": [],
   "source": [
    "peacking = '400'\n",
    "path = '~/LXPLUS/DESY_testbeam/cosmic_review/'\n",
    "file_name1 = [path + f'/er2_feb_{peacking}ns_360V',    # 0\n",
    "             path + f'/er2_feb_{peacking}ns_340V',    # 1\n",
    "             path + f'/er2_feb_{peacking}ns_330V',    # 2\n",
    "             path + f'/er2_feb_{peacking}ns_365V',    # 3\n",
    "             path + f'/er2_feb_{peacking}ns_345V']    # 4\n",
    "x_axis1 = [360, 340, 330, 365, 345]\n",
    "peacking = '200'\n",
    "path = '~/LXPLUS/DESY_testbeam/cosmic_review/'\n",
    "file_name2 = [path + f'/er2_feb_{peacking}ns_360V',    # 0\n",
    "             path + f'/er2_feb_{peacking}ns_350V',    # 1\n",
    "             path + f'/er2_feb_{peacking}ns_355V',    # 2\n",
    "             path + f'/er2_feb_{peacking}ns_365V']    # 3\n",
    "x_axis2 = [360, 340, 355, 365]\n",
    "\n",
    "peacking = '505'\n",
    "file_name3 = [path + f'er2_feb_{peacking}ns_350V']\n",
    "peacking = '610'\n",
    "file_name4 = [path + f'er2_feb_{peacking}ns_350V']\n",
    "x_axis3 = [350]"
   ]
  },
  {
   "cell_type": "code",
   "execution_count": null,
   "metadata": {
    "tags": []
   },
   "outputs": [],
   "source": [
    "c.cd()\n",
    "\n",
    "file1 = ROOT.TFile(file_name2[1] + '_iter9.root')\n",
    "file2 = ROOT.TFile(file_name3[0] + '_iter9.root')\n",
    "file3 = ROOT.TFile(file_name4[0] + '_iter9.root')\n",
    "\n",
    "hs = ROOT.THStack()\n",
    "h1 = ROOT.TH1F('h1', '200 ns', 100, 0., 1500.)\n",
    "h2 = ROOT.TH1F('h2', '505 ns', 100, 0., 1500.)\n",
    "h3 = ROOT.TH1F('h3', '610 ns', 100, 0., 1500.)\n",
    "h1.SetLineColor(ROOT.kRed)\n",
    "h2.SetLineColor(ROOT.kBlue)\n",
    "h3.SetLineColor(ROOT.kGreen)\n",
    "\n",
    "file1.outtree.Project('h1', 'dEdx', '')\n",
    "file2.outtree.Project('h2', 'dEdx', '')\n",
    "file3.outtree.Project('h3', 'dEdx', '')\n",
    "\n",
    "h1.Scale(1./h1.Integral())\n",
    "h2.Scale(1./h2.Integral())\n",
    "h3.Scale(1./h3.Integral())\n",
    "\n",
    "hs.Add(h1)\n",
    "hs.Add(h2)\n",
    "hs.Add(h3)\n",
    "hs.Draw('hist nostack')\n",
    "hs.GetXaxis().SetTitle('dE/dx')\n",
    "# h.Draw()\n",
    "c.BuildLegend()\n",
    "c.Draw()"
   ]
  },
  {
   "cell_type": "code",
   "execution_count": null,
   "metadata": {
    "tags": []
   },
   "outputs": [],
   "source": [
    "%jsroot on\n",
    "c.cd()\n",
    "\n",
    "hs = ROOT.THStack()\n",
    "mult = []\n",
    "\n",
    "for file_id in [0, 1, 2, 3, 4]:\n",
    "    print(file_id)\n",
    "    mult.append(ROOT.TH1F('h', '', 10, 0., 10.))\n",
    "    for entry in file[file_id].outtree:\n",
    "        for i in range (70):\n",
    "            if entry.multiplicity[i] > 0:\n",
    "                mult[-1].Fill(entry.multiplicity[i])\n",
    "    mult[-1].Scale(1./mult[-1].Integral())\n",
    "    mult[-1].SetTitle(name[file_id])\n",
    "    mult[-1].SetLineColor(color[file_id])\n",
    "    hs.Add(mult[-1])\n",
    "\n",
    "hs.Draw('nostack histo')\n",
    "hs.GetXaxis().SetTitle('Multiplicity')\n",
    "c.Draw()        \n",
    "c.BuildLegend()"
   ]
  },
  {
   "cell_type": "code",
   "execution_count": null,
   "metadata": {},
   "outputs": [],
   "source": []
  }
 ],
 "metadata": {
  "kernelspec": {
   "display_name": "Python 3",
   "language": "python",
   "name": "python3"
  },
  "language_info": {
   "codemirror_mode": {
    "name": "ipython",
    "version": 3
   },
   "file_extension": ".py",
   "mimetype": "text/x-python",
   "name": "python",
   "nbconvert_exporter": "python",
   "pygments_lexer": "ipython3",
   "version": "3.9.6"
  }
 },
 "nbformat": 4,
 "nbformat_minor": 4
}
