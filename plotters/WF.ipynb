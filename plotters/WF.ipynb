{
 "cells": [
  {
   "cell_type": "code",
   "execution_count": null,
   "metadata": {},
   "outputs": [],
   "source": [
    "import ROOT\n",
    "# from T2KStyle import T2KStyle\n",
    "c = ROOT.TCanvas('c', '', 800, 600)\n",
    "cl = ROOT.TCanvas('cl', '', 1600, 1200)\n",
    "cw = ROOT.TCanvas('c2', '', 1600, 600)"
   ]
  },
  {
   "cell_type": "code",
   "execution_count": null,
   "metadata": {},
   "outputs": [],
   "source": [
    "# 0 - desy\n",
    "# 1 - mm1\n",
    "# 2 - er2\n",
    "# 3 - er3\n",
    "\n",
    "# 4 - DESY cosmic\n",
    "\n",
    "# path = '~/LXPLUS/DESY_testbeam/tree/'\n",
    "path = '/eos/user/s/ssuvorov/DESY_testbeam/tree/'\n",
    "voltage = '360'\n",
    "\n",
    "file = [ROOT.TFile(path + '/g_360_200_dedx.root')]\n",
    "file.append(ROOT.TFile(path + '/mm1_' + voltage + 'V_200ns_dedx.root'))\n",
    "file.append(ROOT.TFile(path + '/er2_' + voltage + 'V_dedx.root'))\n",
    "file.append(ROOT.TFile(path + '/er3_' + voltage + 'V_dedx.root'))\n",
    "\n",
    "# file.append(ROOT.TFile('~/LXPLUS/DESY_testbeam/multi_pad/c_0d_0p2T_200ns_50Mhz_dedx.root'))\n",
    "file.append(ROOT.TFile(path + '/c_0d_0T_200ns_25Mhz_dedx.root'))\n",
    "\n",
    "name = ['DESY beam', 'MM1', 'ERAM2', 'ERAM3', 'DESY_cosmic', 'DESY_cosmic 2']\n",
    "color = [ROOT.kBlack, ROOT.kRed, ROOT.kGreen, ROOT.kBlue, ROOT.kViolet, ROOT.kCyan]"
   ]
  },
  {
   "cell_type": "code",
   "execution_count": null,
   "metadata": {},
   "outputs": [],
   "source": [
    "%jsroot on\n",
    "cw.Clear()\n",
    "cw.Divide(2)\n",
    "cw.cd(1)\n",
    "\n",
    "title = ['1st pad', '2nd pad', '3rd pad', '4th pad', '5th pad']\n",
    "\n",
    "var = ['wf_width', 'wf_fwhm']\n",
    "cut = ['wf_width != 0', 'wf_fwhm != 0']\n",
    "axs = ['WF width [bins]', 'WF FWHM [bins]']\n",
    "file_id = 3\n",
    "\n",
    "# hs = [ROOT.THStack(\"hs\", \"\"), ROOT.THStack(\"hs\", \"\")]\n",
    "h = []\n",
    "hs = []\n",
    "for plot in range(2):\n",
    "    cw.cd(plot+1)\n",
    "    hs.append(ROOT.THStack('hs', ''))\n",
    "    for i in range (0, 5):\n",
    "        h.append(ROOT.TH1F('h', '', 80, 0., 80.))\n",
    "        file[file_id].outtree.Project('h', var[plot] + f'[{i}][]', f'{var[plot]}[{i}][] != 0', '')\n",
    "        h[-1].SetLineColor(color[i])\n",
    "        h[-1].SetTitle(title[i])\n",
    "        hs[plot].Add(h[-1])\n",
    "        \n",
    "    hs[plot].Draw(\"histo nostack\")\n",
    "    hs[plot].GetXaxis().SetTitle(f'{axs[plot]}')\n",
    "    hs[plot].SetMinimum(1.)\n",
    "    ROOT.gPad.SetLogy()\n",
    "    ROOT.gPad.BuildLegend()\n",
    "\n",
    "cw.Draw()"
   ]
  },
  {
   "cell_type": "code",
   "execution_count": null,
   "metadata": {},
   "outputs": [],
   "source": [
    "%jsroot on\n",
    "c.Clear()\n",
    "c.cd()\n",
    "file_id = 1\n",
    "\n",
    "title = ['2st pad', '3rd pad', '3rd pad dt < 5', '3rd pad dt > 5']\n",
    "var = ['wf_fwhm[1][]', 'wf_fwhm[2][]', 'wf_fwhm[2][]', 'wf_fwhm[2][]']\n",
    "cut = ['multiplicity[] > 2', 'multiplicity[] > 2', 'multiplicity[] > 2 && pad_time[2][] - pad_time[0][] < 5', 'multiplicity[] > 2 && pad_time[2][] - pad_time[0][] > 5']\n",
    "\n",
    "hs = ROOT.THStack(\"hs\", \"\")\n",
    "for i in range (0, 4):\n",
    "    h = ROOT.TH1F('h', '', 80, 0., 80.)\n",
    "    file[file_id].outtree.Project('h', var[i], cut[i], '')\n",
    "    h.SetLineColor(color[i])\n",
    "    h.SetTitle(title[i])\n",
    "    hs.Add(h)\n",
    "    \n",
    "hs.Draw('histo nostack')\n",
    "hs.GetXaxis().SetTitle('WF width [bins]')\n",
    "c.Draw()\n",
    "c.BuildLegend()"
   ]
  },
  {
   "cell_type": "code",
   "execution_count": null,
   "metadata": {},
   "outputs": [],
   "source": [
    "%jsroot on\n",
    "c.Clear()\n",
    "\n",
    "file_id = 3\n",
    "\n",
    "h = ROOT.TH2F('h', '', 80, 0., 80., 100, -40, 60.)\n",
    "file[file_id].outtree.Project('h', 'pad_time[2][] - pad_time[0][]:wf_width[2]', 'multiplicity[] > 2')\n",
    "h.GetYaxis().SetTitle('t_{3} - t_{1} [bins]')\n",
    "h.GetXaxis().SetTitle('WF width [bins]')\n",
    "h.SetTitle(name[file_id])\n",
    "ROOT.gStyle.SetOptTitle(1)\n",
    "h.Draw('colz')\n",
    "c.Draw()"
   ]
  },
  {
   "cell_type": "code",
   "execution_count": null,
   "metadata": {},
   "outputs": [],
   "source": [
    "%jsroot on\n",
    "c.Clear()\n",
    "\n",
    "file_id = 3\n",
    "\n",
    "h = ROOT.TH2F('h', '', 140, 0., 140., 100, 0., 300.)\n",
    "file[file_id].outtree.Project('h', 'pad_charge[2][]:wf_width[2]', 'multiplicity[] > 2')\n",
    "h.GetYaxis().SetTitle('Q_{3}')\n",
    "h.GetXaxis().SetTitle('WF width [bins]')\n",
    "h.SetTitle(name[file_id])\n",
    "ROOT.gStyle.SetOptTitle(1)\n",
    "h.Draw('colz')\n",
    "c.Draw()"
   ]
  },
  {
   "cell_type": "code",
   "execution_count": null,
   "metadata": {},
   "outputs": [],
   "source": [
    "cl.Clear()\n",
    "cl.cd()\n",
    "cl.Divide(2, 2)\n",
    "file_id = 0\n",
    "\n",
    "h = []\n",
    "for i in range(5):\n",
    "    cl.cd(i+1)\n",
    "    h.append(ROOT.TH2F('h', '', 80, 0., 80., 80, 0., 80.))\n",
    "    pad_id = i\n",
    "    cut = f'wf_width[{pad_id}][] > 0'\n",
    "    file[file_id].outtree.Project('h', f'wf_fwhm[{pad_id}][]:wf_width[{pad_id}][]', cut)\n",
    "    h[i].GetXaxis().SetTitle('WF width [bins]')\n",
    "    h[i].GetYaxis().SetTitle('WF FWHM [bins]')\n",
    "    h[i].Draw('colz')\n",
    "\n",
    "cl.Draw()"
   ]
  },
  {
   "cell_type": "code",
   "execution_count": null,
   "metadata": {},
   "outputs": [],
   "source": [
    "c.Clear()\n",
    "c.cd()\n",
    "\n",
    "file_id = 1\n",
    "h = ROOT.TH1F('h', '', 80, 0., 80.)\n",
    "file[file_id].outtree.Project('h', 'wf_width[2][]', 'multiplicity[] > 3')\n",
    "h.GetXaxis().SetTitle('WF width [bins]')\n",
    "h.Draw()\n",
    "c.Draw()"
   ]
  },
  {
   "cell_type": "code",
   "execution_count": null,
   "metadata": {},
   "outputs": [],
   "source": []
  }
 ],
 "metadata": {
  "kernelspec": {
   "display_name": "Python 3",
   "language": "python",
   "name": "python3"
  },
  "language_info": {
   "codemirror_mode": {
    "name": "ipython",
    "version": 3
   },
   "file_extension": ".py",
   "mimetype": "text/x-python",
   "name": "python",
   "nbconvert_exporter": "python",
   "pygments_lexer": "ipython3",
   "version": "3.9.0"
  }
 },
 "nbformat": 4,
 "nbformat_minor": 4
}
