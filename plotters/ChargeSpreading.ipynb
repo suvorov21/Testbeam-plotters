{
 "cells": [
  {
   "cell_type": "code",
   "execution_count": null,
   "metadata": {},
   "outputs": [],
   "source": [
    "import ROOT\n",
    "from T2KStyle import T2KStyle\n",
    "c = ROOT.TCanvas('c', '', 800, 600)\n",
    "cl = ROOT.TCanvas('cl', '', 1600, 1200)\n",
    "cl3 = ROOT.TCanvas('cl3', '', 1600, 1800)\n",
    "cw = ROOT.TCanvas('c2', '', 1600, 600)\n",
    "cw3 = ROOT.TCanvas('c3', '', 2400, 600)"
   ]
  },
  {
   "cell_type": "code",
   "execution_count": null,
   "metadata": {},
   "outputs": [],
   "source": [
    "path_loc = '~/DATA/'\n",
    "path = '~/LXPLUS/DESY_testbeam/tree_v3/'\n",
    "path_d = '~/LXPLUS/DESY_testbeam/tree_v7/'\n",
    "path_c = '~/LXPLUS/DESY_testbeam/tree_v9/'\n",
    "path_cos = '~/LXPLUS/DESY_testbeam/xtalk_ref/'\n",
    "path_hs = '~/LXPLUS/DESY_testbeam/hs/'\n",
    "\n",
    "file_name = path_cos + '/mm1_nov_360_iter9.root'\n",
    "file_name2 = path_cos + '/c_0d_0T_200ns_25Mhz_iter9.root'\n",
    "N_iter = 9\n",
    "color = [ROOT.kRed, ROOT.kGreen, ROOT.kBlack, ROOT.kBlue, ROOT.kViolet, ROOT.kYellow, ROOT.kCyan, ROOT.kOrange, ROOT.kMagenta, ROOT.kAzure]"
   ]
  },
  {
   "cell_type": "code",
   "execution_count": null,
   "metadata": {},
   "outputs": [],
   "source": [
    "file = ROOT.TFile(file_name)\n",
    "#        ROOT.TFile(file_name2)]\n",
    "# title = ['MM1', 'DESY']\n",
    "it = 9\n",
    "# file = ROOT.TFile(file_name2 + f's_412_430_02T_iter{it}.root')"
   ]
  },
  {
   "cell_type": "markdown",
   "metadata": {},
   "source": [
    "## Hit map"
   ]
  },
  {
   "cell_type": "code",
   "execution_count": null,
   "metadata": {},
   "outputs": [],
   "source": [
    "%jsroot on\n",
    "c.cd()\n",
    "h = ROOT.TH2F('h', '', 40, 0, 40, 40, 0., 40.)\n",
    "file.outtree.Project('h', 'pad_y[][0]:pad_x[][0]')\n",
    "h.GetXaxis().SetTitle('Column')\n",
    "h.GetYaxis().SetTitle('Row')\n",
    "h.Draw('colz')\n",
    "c.Draw()"
   ]
  },
  {
   "cell_type": "code",
   "execution_count": null,
   "metadata": {},
   "outputs": [],
   "source": [
    "%jsroot on\n",
    "cl.Clear()\n",
    "cl.Divide(2, 2)\n",
    "\n",
    "pad = 1\n",
    "\n",
    "cl.cd(1)\n",
    "h = ROOT.TH2F('h', '', 36, 0, 36, 100, 0., 4000)\n",
    "file.outtree.Project('h', f'pad_charge[][0]:pad_x[][0]')\n",
    "h.Draw('colz')\n",
    "h.GetXaxis().SetTitle('Row')\n",
    "h.GetYaxis().SetTitle('Q_{leading}')\n",
    "\n",
    "cl.cd(2)\n",
    "h2 = ROOT.TH2F('h2', '', 36, 0, 36, 40, 0., 0.3)\n",
    "file.outtree.Project('h2', f'pad_charge[][{1}] / pad_charge[][0]:pad_x[][0]')\n",
    "h2.Draw('colz')\n",
    "h2.GetXaxis().SetTitle('Row')\n",
    "h2.GetYaxis().SetTitle('Q_{second}/Q_{leading}')\n",
    "\n",
    "cl.Draw()\n",
    "cl.Print('charge_vs_column.pdf')"
   ]
  },
  {
   "cell_type": "code",
   "execution_count": null,
   "metadata": {},
   "outputs": [],
   "source": [
    "%jsroot on\n",
    "cw.Clear()\n",
    "cw.Divide(2)\n",
    "\n",
    "cw.cd(1)\n",
    "h = ROOT.TH2F('h', '', 40, 0, 40, 100, -20., 80.)\n",
    "file.outtree.Project('h', 'pad_time[][1] - pad_time[][0]:pad_y[][0]')\n",
    "h.Draw('colz')\n",
    "h.GetXaxis().SetTitle('Row')\n",
    "h.GetYaxis().SetTitle('T_{2}-T_{1}')\n",
    "\n",
    "cw.cd(2)\n",
    "h2 = ROOT.TH2F('h2', '', 40, 0, 40, 100, -20., 80.)\n",
    "file.outtree.Project('h2', 'pad_time[][1] - pad_time[][0]:pad_x[][0]')\n",
    "h2.Draw('colz')\n",
    "h2.GetXaxis().SetTitle('Column')\n",
    "h2.GetYaxis().SetTitle('T_{2}-T_{1}')\n",
    "\n",
    "cw.Draw()"
   ]
  },
  {
   "cell_type": "code",
   "execution_count": null,
   "metadata": {},
   "outputs": [],
   "source": [
    "%jsroot on\n",
    "cw.Clear()\n",
    "cw.Divide(2)\n",
    "\n",
    "cw.cd(1)\n",
    "h = ROOT.TH2F('h', '', 100, -50, 50, 100, 0., 0.3)\n",
    "file.outtree.Project('h', 'pad_charge[][1] / pad_charge[][0]:pad_y[][0]-pad_x[][0]')\n",
    "h.Draw('colz')\n",
    "h.GetXaxis().SetTitle('row - column')\n",
    "h.GetYaxis().SetTitle('Q_{2}/Q_{1}')\n",
    "\n",
    "cw.cd(2)\n",
    "h2 = ROOT.TH2F('h2', '', 100, -50, 50, 100, -20., 80)\n",
    "file.outtree.Project('h2', 'pad_time[][1] - pad_time[][0]:pad_y[][0]-pad_x[][0]', 'pad_time[][0] != -999')\n",
    "h2.Draw('colz')\n",
    "h2.GetXaxis().SetTitle('row - column')\n",
    "h2.GetYaxis().SetTitle('T_{2}-T_{1}')\n",
    "\n",
    "cw.Draw()"
   ]
  },
  {
   "cell_type": "code",
   "execution_count": null,
   "metadata": {},
   "outputs": [],
   "source": [
    "cw3.Clear()\n",
    "cw3.Divide(3)\n",
    "\n",
    "h = []\n",
    "hs = []\n",
    "high = [2000, 600, 200]\n",
    "for pad in range(0, 3):\n",
    "    cw3.cd(pad+1)\n",
    "    hs.append(ROOT.THStack())\n",
    "    for num, f in enumerate(file):\n",
    "        h.append(ROOT.TH1F('h', '', 100, 0., high[pad]))\n",
    "        f.outtree.Project('h', f'pad_charge[][{pad}]', 'pad_y[][0] < 10')\n",
    "        h[-1].Scale(1./h[-1].Integral())\n",
    "        h[-1].SetTitle(title[num])\n",
    "        h[-1].SetLineColor(ROOT.kBlack+num)\n",
    "        hs[-1].Add(h[-1])\n",
    "    hs[-1].Draw('histo nostack')\n",
    "    ROOT.gPad.BuildLegend()\n",
    "    \n",
    "cw3.Draw()"
   ]
  },
  {
   "cell_type": "code",
   "execution_count": null,
   "metadata": {},
   "outputs": [],
   "source": [
    "\n"
   ]
  }
 ],
 "metadata": {
  "kernelspec": {
   "display_name": "Python 3",
   "language": "python",
   "name": "python3"
  },
  "language_info": {
   "codemirror_mode": {
    "name": "ipython",
    "version": 3
   },
   "file_extension": ".py",
   "mimetype": "text/x-python",
   "name": "python",
   "nbconvert_exporter": "python",
   "pygments_lexer": "ipython3",
   "version": "3.9.2"
  }
 },
 "nbformat": 4,
 "nbformat_minor": 4
}
