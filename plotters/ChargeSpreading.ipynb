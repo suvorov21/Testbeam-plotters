{
 "cells": [
  {
   "cell_type": "code",
   "execution_count": null,
   "metadata": {
    "tags": []
   },
   "outputs": [],
   "source": [
    "import ROOT\n",
    "from T2KStyle.T2KStyle import GetT2K\n",
    "style = GetT2K(3)\n",
    "ROOT.gROOT.SetStyle(\"T2K\")\n",
    "c = ROOT.TCanvas('c', '', 800, 600)\n",
    "cl = ROOT.TCanvas('cl', '', 1600, 1200)\n",
    "cl3 = ROOT.TCanvas('cl3', '', 1600, 1800)\n",
    "cw = ROOT.TCanvas('c2', '', 1600, 600)\n",
    "cw3 = ROOT.TCanvas('c3', '', 2400, 600)"
   ]
  },
  {
   "cell_type": "code",
   "execution_count": null,
   "metadata": {
    "jupyter": {
     "source_hidden": true
    },
    "tags": []
   },
   "outputs": [],
   "source": [
    "path_loc = '~/DATA/'\n",
    "path = '~/LXPLUS/DESY_testbeam/tree_v3/'\n",
    "path_d = '~/LXPLUS/DESY_testbeam/tree_v7/'\n",
    "path_c = '~/LXPLUS/DESY_testbeam/tree_v9/'\n",
    "path_cos = '~/LXPLUS/DESY_testbeam/xtalk_ref/'\n",
    "path_hs = '~/LXPLUS/DESY_testbeam/hs/'\n",
    "\n",
    "file_name = path_cos + '/mm1_nov_360_iter9.root'\n",
    "file_name2 = path_cos + '/c_0d_0T_200ns_25Mhz_iter9.root'\n",
    "N_iter = 9\n",
    "color = [ROOT.kRed, ROOT.kGreen, ROOT.kBlack, ROOT.kBlue, ROOT.kViolet, ROOT.kYellow, ROOT.kCyan, ROOT.kOrange, ROOT.kMagenta, ROOT.kAzure]"
   ]
  },
  {
   "cell_type": "code",
   "execution_count": null,
   "metadata": {
    "jupyter": {
     "source_hidden": true
    },
    "tags": []
   },
   "outputs": [],
   "source": [
    "# file = ROOT.TFile(file_name)\n",
    "#        ROOT.TFile(file_name2)]\n",
    "# title = ['MM1', 'DESY']\n",
    "it = 9\n",
    "file = ROOT.TFile(path_hs + f's_412_430_02T_iter{it}.root')"
   ]
  },
  {
   "cell_type": "code",
   "execution_count": null,
   "metadata": {
    "jupyter": {
     "source_hidden": true
    },
    "tags": []
   },
   "outputs": [],
   "source": [
    "path = '~/LXPLUS/DESY_testbeam2021/coarse/'\n",
    "path = '/eos/user/s/ssuvorov/DESY_testbeam2021/coarse/'\n",
    "volt = '275'\n",
    "time = '412'\n",
    "file = ROOT.TFile(path + f'/z_{time}ns_{volt}V_860_iter9.root')\n",
    "#         ROOT.TFile(path + f'/z_{time}ns_{volt}V_660_iter9.root'),\n",
    "#         ROOT.TFile(path + f'/z_{time}ns_{volt}V_460_iter9.root'),\n",
    "#         ROOT.TFile(path + f'/z_{time}ns_{volt}V_260_iter9.root'),\n",
    "#         ROOT.TFile(path + f'/z_{time}ns_{volt}V_60_iter9.root')\n",
    "#        ]\n",
    "name = ['860 mm', '660 mm', '460 mm', '260 mm', '60 mm']\n",
    "color = [ROOT.kRed, ROOT.kGreen, ROOT.kBlack, ROOT.kBlue, ROOT.kViolet, ROOT.kYellow, ROOT.kCyan, ROOT.kOrange, ROOT.kSpring, ROOT.kAzure]"
   ]
  },
  {
   "cell_type": "markdown",
   "metadata": {},
   "source": [
    "Y scan"
   ]
  },
  {
   "cell_type": "code",
   "execution_count": null,
   "metadata": {
    "tags": []
   },
   "outputs": [],
   "source": [
    "path = '/eos/experiment/neutplatform/np07/HAT/DESY_2021/ana_output/y_scan2/'\n",
    "volt = '275'\n",
    "time = '412'\n",
    "file_name = [path + f'/y_0', # 0\n",
    "             path + f'/y_40',\n",
    "             path + f'/y_20',\n",
    "             path + f'/y_60',\n",
    "             path + f'/y_80',\n",
    "             path + f'/y_100',\n",
    "             path + f'/y_m20',\n",
    "             path + f'/y_m40',\n",
    "             path + f'/y_m60',\n",
    "             path + f'/y_m80',\n",
    "             path + f'/y_m100',\n",
    "             path + f'/y_m120',\n",
    "             path + f'/y_m140',\n",
    "             path + f'/y_m150',\n",
    "             path + f'/y_m170' # 14\n",
    "            ]\n",
    "\n",
    "title = ['0 mm', '40 mm', '20 mm', '60 mm', '80 mm', '100 mm', '-20 mm', '-40 mm', '-60 mm', '-80 mm', '-100 mm', '-120 mm', '-140 mm', '-150 mm', '-170 mm']\n",
    "value = [0, 40, 20, 60, 80, 100, -20, -40, -60, -80, -100, -120, -140, -150, -170]\n",
    "\n",
    "# initialise files\n",
    "niter = '9'\n",
    "file  = [ROOT.TFile(fn + f'_iter{niter}.root') for fn in file_name]\n",
    "\n",
    "color = [ROOT.kRed, ROOT.kGreen, ROOT.kBlack, ROOT.kBlue, ROOT.kViolet, ROOT.kYellow, ROOT.kCyan, ROOT.kOrange, ROOT.kSpring, ROOT.kAzure, ROOT.kRed, ROOT.kGreen, ROOT.kBlack, ROOT.kBlue, ROOT.kViolet]\n",
    "\n",
    "if (len(file_name) != len(value) or len(color) < len(value) or len(title) != len(value)):\n",
    "    print('Check length!!!')"
   ]
  },
  {
   "cell_type": "markdown",
   "metadata": {},
   "source": [
    "## Hit map"
   ]
  },
  {
   "cell_type": "code",
   "execution_count": null,
   "metadata": {
    "tags": []
   },
   "outputs": [],
   "source": [
    "%jsroot on\n",
    "c.cd()\n",
    "h = ROOT.TH2F('h', '', 40, 0, 40, 40, 0., 40.)\n",
    "h2 = ROOT.TH2F('h', '', 40, 0, 40, 40, 0., 40.)\n",
    "ROOT.gStyle.SetPalette(ROOT.kBird)\n",
    "# file.outtree.Project('h', 'pad_y[][0]:pad_x[][0]')\n",
    "for f in file:\n",
    "    print(f.GetName())\n",
    "    for entry in f.outtree:\n",
    "        for i in range(36):\n",
    "            if (entry.pad_charge[i*10] > 0):\n",
    "                h.Fill(entry.pad_x[i*10], entry.pad_y[i*10], entry.pad_charge[i*10])\n",
    "                h2.Fill(entry.pad_x[i*10], entry.pad_y[i*10])\n",
    "h.Divide(h2)\n",
    "h.GetXaxis().SetTitle('Column')\n",
    "h.GetYaxis().SetTitle('Row')\n",
    "h.Draw('colz')\n",
    "c.Draw()"
   ]
  },
  {
   "cell_type": "code",
   "execution_count": null,
   "metadata": {
    "tags": []
   },
   "outputs": [],
   "source": [
    "c.cd()\n",
    "ROOT.gStyle.SetPalette(ROOT.kBird)\n",
    "h.Draw('colz')\n",
    "c.Draw()"
   ]
  },
  {
   "cell_type": "code",
   "execution_count": null,
   "metadata": {
    "tags": []
   },
   "outputs": [],
   "source": [
    "%jsroot off\n",
    "cw.Clear()\n",
    "cw.Divide(2)\n",
    "\n",
    "pad = 1\n",
    "\n",
    "cw.cd(1)\n",
    "h = ROOT.TH2F('h', '', 36, 0, 36, 100, 0., 4000)\n",
    "file.outtree.Project('h', f'pad_charge[][0]:pad_x[][0]')\n",
    "h.Draw('colz')\n",
    "h.GetXaxis().SetTitle('x_{pad}')\n",
    "h.GetYaxis().SetTitle('Q_{leading}')\n",
    "\n",
    "cw.cd(2)\n",
    "h2 = ROOT.TH2F('h2', '', 36, 0, 36, 40, 0., 0.3)\n",
    "file.outtree.Project('h2', f'pad_charge[][{1}] / pad_charge[][0]:pad_x[][0]')\n",
    "h2.Draw('colz')\n",
    "h2.GetXaxis().SetTitle('x_{pad}')\n",
    "h2.GetYaxis().SetTitle('Q_{second}/Q_{leading}')\n",
    "\n",
    "cw.Draw()\n",
    "cw.Print('charge_vs_column.pdf')"
   ]
  },
  {
   "cell_type": "code",
   "execution_count": null,
   "metadata": {},
   "outputs": [],
   "source": [
    "%jsroot on\n",
    "cw.Clear()\n",
    "cw.Divide(2)\n",
    "\n",
    "cw.cd(1)\n",
    "h = ROOT.TH2F('h', '', 40, 0, 40, 100, -20., 80.)\n",
    "file.outtree.Project('h', 'pad_time[][1] - pad_time[][0]:pad_y[][0]')\n",
    "h.Draw('colz')\n",
    "h.GetXaxis().SetTitle('Row')\n",
    "h.GetYaxis().SetTitle('T_{2}-T_{1}')\n",
    "\n",
    "cw.cd(2)\n",
    "h2 = ROOT.TH2F('h2', '', 40, 0, 40, 100, -20., 80.)\n",
    "file.outtree.Project('h2', 'pad_time[][1] - pad_time[][0]:pad_x[][0]')\n",
    "h2.Draw('colz')\n",
    "h2.GetXaxis().SetTitle('Column')\n",
    "h2.GetYaxis().SetTitle('T_{2}-T_{1}')\n",
    "\n",
    "cw.Draw()"
   ]
  },
  {
   "cell_type": "code",
   "execution_count": null,
   "metadata": {},
   "outputs": [],
   "source": [
    "%jsroot on\n",
    "cw.Clear()\n",
    "cw.Divide(2)\n",
    "\n",
    "cw.cd(1)\n",
    "h = ROOT.TH2F('h', '', 100, -50, 50, 100, 0., 0.3)\n",
    "file.outtree.Project('h', 'pad_charge[][1] / pad_charge[][0]:pad_y[][0]-pad_x[][0]')\n",
    "h.Draw('colz')\n",
    "h.GetXaxis().SetTitle('row - column')\n",
    "h.GetYaxis().SetTitle('Q_{2}/Q_{1}')\n",
    "\n",
    "cw.cd(2)\n",
    "h2 = ROOT.TH2F('h2', '', 100, -50, 50, 100, -20., 80)\n",
    "file.outtree.Project('h2', 'pad_time[][1] - pad_time[][0]:pad_y[][0]-pad_x[][0]', 'pad_time[][0] != -999')\n",
    "h2.Draw('colz')\n",
    "h2.GetXaxis().SetTitle('row - column')\n",
    "h2.GetYaxis().SetTitle('T_{2}-T_{1}')\n",
    "\n",
    "cw.Draw()"
   ]
  },
  {
   "cell_type": "code",
   "execution_count": null,
   "metadata": {},
   "outputs": [],
   "source": [
    "cw3.Clear()\n",
    "cw3.Divide(3)\n",
    "\n",
    "h = []\n",
    "hs = []\n",
    "high = [2000, 600, 200]\n",
    "for pad in range(0, 3):\n",
    "    cw3.cd(pad+1)\n",
    "    hs.append(ROOT.THStack())\n",
    "    for num, f in enumerate(file):\n",
    "        h.append(ROOT.TH1F('h', '', 100, 0., high[pad]))\n",
    "        f.outtree.Project('h', f'pad_charge[][{pad}]', 'pad_y[][0] < 10')\n",
    "        h[-1].Scale(1./h[-1].Integral())\n",
    "        h[-1].SetTitle(title[num])\n",
    "        h[-1].SetLineColor(ROOT.kBlack+num)\n",
    "        hs[-1].Add(h[-1])\n",
    "    hs[-1].Draw('histo nostack')\n",
    "    ROOT.gPad.BuildLegend()\n",
    "    \n",
    "cw3.Draw()"
   ]
  },
  {
   "cell_type": "code",
   "execution_count": null,
   "metadata": {},
   "outputs": [],
   "source": [
    "\n"
   ]
  }
 ],
 "metadata": {
  "kernelspec": {
   "display_name": "Python 3",
   "language": "python",
   "name": "python3"
  },
  "language_info": {
   "codemirror_mode": {
    "name": "ipython",
    "version": 3
   },
   "file_extension": ".py",
   "mimetype": "text/x-python",
   "name": "python",
   "nbconvert_exporter": "python",
   "pygments_lexer": "ipython3",
   "version": "3.9.8"
  }
 },
 "nbformat": 4,
 "nbformat_minor": 4
}
