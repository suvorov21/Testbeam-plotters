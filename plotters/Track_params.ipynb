{
 "cells": [
  {
   "cell_type": "code",
   "execution_count": null,
   "metadata": {},
   "outputs": [],
   "source": [
    "import ROOT\n",
    "from T2KStyle import T2KStyle\n",
    "c = ROOT.TCanvas('c', '', 800, 600)\n",
    "cl = ROOT.TCanvas('cl', '', 1600, 1200)\n",
    "cl3 = ROOT.TCanvas('cl3', '', 1600, 1800)\n",
    "cw = ROOT.TCanvas('c2', '', 1600, 600)\n",
    "cw3 = ROOT.TCanvas('c3', '', 2400, 600)"
   ]
  },
  {
   "cell_type": "code",
   "execution_count": null,
   "metadata": {},
   "outputs": [],
   "source": [
    "path = '~/LXPLUS/DESY_testbeam/hs/'\n",
    "# path = '~/DATA/hs_para3/'\n",
    "it = '9'\n",
    "\n",
    "file = [ROOT.TFile(path + f's_200_430_02T_iter{it}.root'),\n",
    "        ROOT.TFile(path + f's_200_480_02T_iter{it}.root'),\n",
    "        ROOT.TFile(path + f's_412_430_02T_iter{it}.root'),\n",
    "        ROOT.TFile(path + f's_412_480_02T_iter{it}.root')\n",
    "       ]\n",
    "\n",
    "title = ['200 ns 430 mm', '200 ns 480 mm', '412 ns 430 mm', '412 ns 480 mm']"
   ]
  },
  {
   "cell_type": "code",
   "execution_count": null,
   "metadata": {},
   "outputs": [],
   "source": [
    "path = '~/LXPLUS/DESY_testbeam/mom_para/'\n",
    "# path = '~/DATA/hs/'\n",
    "peaking = '412'\n",
    "\n",
    "file = [ROOT.TFile(path + f'm_1_{peaking}_iter9.root'),\n",
    "        ROOT.TFile(path + f'm_2_{peaking}_iter9.root'),\n",
    "        ROOT.TFile(path + f'm_3_{peaking}_iter9.root'),\n",
    "        ROOT.TFile(path + f'm_4_{peaking}_iter9.root'),\n",
    "        ROOT.TFile(path + f'm_5_{peaking}_iter9.root')\n",
    "       ]\n",
    "\n",
    "title = ['1 GeV/c', '2 GeV/c', '3 GeV/c', '4 GeV/c', '5 GeV/c']"
   ]
  },
  {
   "cell_type": "code",
   "execution_count": null,
   "metadata": {},
   "outputs": [],
   "source": [
    "path = '~/LXPLUS/DESY_testbeam/z_scan/'\n",
    "# path = '~/DATA/hs/'\n",
    "peaking = '200'\n",
    "\n",
    "file = [ROOT.TFile(path + f'z_360_275_{peaking}_02T_410_iter9.root'),\n",
    "#         ROOT.TFile(path + f'z_360_275_{peaking}_02T_430_iter9.root'),\n",
    "        ROOT.TFile(path + f'z_360_275_{peaking}_02T_450_iter9.root'),\n",
    "        ROOT.TFile(path + f'z_360_275_{peaking}_02T_470_iter9.root'),\n",
    "        ROOT.TFile(path + f'z_360_275_{peaking}_02T_490_iter9.root'),\n",
    "        ROOT.TFile(path + f'z_360_275_{peaking}_02T_510_iter9.root'),\n",
    "        ROOT.TFile(path + f'z_360_275_{peaking}_02T_530_iter9.root')\n",
    "       ]\n",
    "\n",
    "title = ['410 mm', '450 mm', '470 mm', '490 mm', '510 mm', '530 mm']"
   ]
  },
  {
   "cell_type": "code",
   "execution_count": null,
   "metadata": {},
   "outputs": [],
   "source": [
    "path = '~/LXPLUS/DESY_testbeam/time_para/'\n",
    "# path = '~/DATA/hs/'\n",
    "dist = '430'\n",
    "\n",
    "file = [ROOT.TFile(path + f'p_116_{dist}_iter9.root'),\n",
    "        ROOT.TFile(path + f'p_200_{dist}_iter9.root'),\n",
    "        ROOT.TFile(path + f'p_412_{dist}_iter9.root'),\n",
    "        ROOT.TFile(path + f'p_505_{dist}_iter9.root'),\n",
    "        ROOT.TFile(path + f'p_610_{dist}_iter9.root')\n",
    "       ]\n",
    "\n",
    "title = ['116 ns', '200 ns', '412 ns', '505 ns', '610 ns']"
   ]
  },
  {
   "cell_type": "code",
   "execution_count": null,
   "metadata": {},
   "outputs": [],
   "source": [
    "path = '~/LXPLUS/DESY_testbeam/tree_v3/'\n",
    "# path = '~/DATA/phi_para/'\n",
    "peacking = '412'\n",
    "\n",
    "file = [ROOT.TFile(path + f'phi_{peacking}_10_iter9.root'),\n",
    "        ROOT.TFile(path + f'phi_{peacking}_20_iter9.root'),\n",
    "        ROOT.TFile(path + f'phi_{peacking}_30_iter9.root'),\n",
    "       ]\n",
    "\n",
    "title = ['10^{#circ}', '20^{#circ}', '30^{#circ}']"
   ]
  },
  {
   "cell_type": "markdown",
   "metadata": {},
   "source": [
    "## momentum/angle/offset/quality"
   ]
  },
  {
   "cell_type": "code",
   "execution_count": null,
   "metadata": {},
   "outputs": [],
   "source": [
    "%jsroot on\n",
    "file_id = 2\n",
    "\n",
    "cut = ''\n",
    "\n",
    "cl.Clear()\n",
    "cl.Divide(2, 2)\n",
    "cl.cd(1)\n",
    "mom = ROOT.TH1D('mom', '', 100, -15., 15.)\n",
    "mom.GetXaxis().SetTitle('Momentum [GeV/c]')\n",
    "file[file_id].outtree.Project('mom', 'mom', 'mom != -999 && quality < 6' + cut)\n",
    "mom.Draw()\n",
    "\n",
    "cl.cd(2)\n",
    "angle = ROOT.TH1D('angle', '', 100, -0.2, 0.2)\n",
    "angle.GetXaxis().SetTitle('sin(#alpha)')\n",
    "file[file_id].outtree.Project('angle', 'sina * sign(mom)', 'sina != -999' + cut)\n",
    "angle.Draw()\n",
    "\n",
    "cl.cd(3)\n",
    "offset = ROOT.TH1D('offset', '', 400, -0.1, 0.1)\n",
    "offset.GetXaxis().SetTitle('Offset [m]')\n",
    "file[file_id].outtree.Project('offset', 'offset', 'clust_pos[0] != -999' + cut)\n",
    "offset.Draw()\n",
    "\n",
    "cl.cd(4)\n",
    "offset2 = ROOT.TH2D('offset2', '', 400, -0.1, 0.1, 5, 0., 5.)\n",
    "offset2.GetXaxis().SetTitle('CoC pos column 1 [m]')\n",
    "offset2.GetYaxis().SetTitle('Multiplicity')\n",
    "file[file_id].outtree.Project('offset2', 'multiplicity[0]:clust_pos[0]', 'clust_pos[0] != -999' + cut)\n",
    "offset2.Draw('colz')\n",
    "\n",
    "cl.Draw()"
   ]
  },
  {
   "cell_type": "code",
   "execution_count": null,
   "metadata": {},
   "outputs": [],
   "source": [
    "%jsroot on\n",
    "file_id = 0\n",
    "\n",
    "cut = ' '\n",
    "\n",
    "cw3.Clear()\n",
    "cw3.Divide(3)\n",
    "cw3.cd(1)\n",
    "mom = ROOT.TH2D('mom', '', 100, -0.1, 0.1, 100, -10., 10.)\n",
    "mom.GetYaxis().SetTitle('Momentum [GeV/c]')\n",
    "mom.GetXaxis().SetTitle('sin(#alpha)')\n",
    "file[file_id].outtree.Project('mom', 'mom:sina', 'mom != -999' + cut)\n",
    "mom.Draw('colz')\n",
    "\n",
    "cw3.cd(2)\n",
    "angle = ROOT.TH2D('angle', '', 100, -0.1, 0.1, 100, -0.04, 0.04)\n",
    "angle.GetXaxis().SetTitle('sin(#alpha)')\n",
    "angle.GetYaxis().SetTitle('offset [m]')\n",
    "file[file_id].outtree.Project('angle', 'offset:sina*sign(mom)', 'sina != -999' + cut)\n",
    "angle.Draw('colz')\n",
    "\n",
    "cw3.cd(3)\n",
    "offset = ROOT.TH2D('offset', '', 100, -0.04, 0.04, 100, -10., 10.)\n",
    "offset.GetYaxis().SetTitle('Momentum [GeV/c]')\n",
    "offset.GetXaxis().SetTitle('Offset [m]')\n",
    "file[file_id].outtree.Project('offset', 'mom:offset', 'offset != -999' + cut)\n",
    "offset.Draw('colz')\n",
    "\n",
    "# cl.cd(4)\n",
    "# quality = ROOT.TH1D('quality', '', 100, 0., 10.)\n",
    "# file[file_id].outtree.Project('quality', 'quality', 'quality != -999' + cut)\n",
    "# quality.Draw()\n",
    "\n",
    "cw3.Draw()"
   ]
  },
  {
   "cell_type": "markdown",
   "metadata": {},
   "source": [
    "### Track position"
   ]
  },
  {
   "cell_type": "code",
   "execution_count": null,
   "metadata": {},
   "outputs": [],
   "source": [
    "%jsroot on\n",
    "c.Clear()\n",
    "col = 34\n",
    "\n",
    "hs = ROOT.THStack()\n",
    "h = []\n",
    "for f in range(len(file)):\n",
    "    print(f'file {f}')\n",
    "    h.append(ROOT.TH1F('h', '', 200, -3., 3.))\n",
    "    file[f].outtree.Project('h', f'100*track_pos[]', f'pad_x[][0] == {col}')\n",
    "    h[-1].Scale(1./h[-1].Integral())\n",
    "    h[-1].SetLineColor(f+1)\n",
    "    h[-1].SetTitle(title[f])\n",
    "    hs.Add(h[-1])\n",
    "hs.Draw('histo nostack')\n",
    "hs.GetXaxis().SetTitle(f'Track position column {col} [cm]')\n",
    "ROOT.gPad.BuildLegend()\n",
    "c.Draw()"
   ]
  },
  {
   "cell_type": "markdown",
   "metadata": {},
   "source": [
    "### Track position vs iterations"
   ]
  },
  {
   "cell_type": "code",
   "execution_count": null,
   "metadata": {},
   "outputs": [],
   "source": [
    "%jsroot on\n",
    "cl3.Clear()\n",
    "cl3.Divide(2, 3)\n",
    "col = 34\n",
    "\n",
    "hs = []\n",
    "h = []\n",
    "path = '~/LXPLUS/DESY_testbeam/hs/'\n",
    "# path = '~/DATA/hs_para3/'\n",
    "\n",
    "file = []\n",
    "\n",
    "title = ['200 ns 430 mm', '200 ns 480 mm', '412 ns 430 mm', '412 ns 480 mm']\n",
    "\n",
    "for it_int in range(6):\n",
    "    cl3.cd(it_int+1)\n",
    "    file.extend([ROOT.TFile(path + f's_200_430_02T_iter{str(it_int)}.root'),\n",
    "                ROOT.TFile(path + f's_200_480_02T_iter{str(it_int)}.root'),\n",
    "                ROOT.TFile(path + f's_412_430_02T_iter{str(it_int)}.root'),\n",
    "                ROOT.TFile(path + f's_412_480_02T_iter{str(it_int)}.root')\n",
    "               ]\n",
    "               )\n",
    "    hs.append(ROOT.THStack())\n",
    "    for f in range(4):\n",
    "#         print(f'file {f}')\n",
    "        h.append(ROOT.TH1F('h', '', 200, -3., 3.))\n",
    "        file[-4+f].outtree.Project('h', f'100*track_pos[]', f'pad_x[][0] == {col}')\n",
    "        h[-1].Scale(1./h[-1].Integral())\n",
    "        h[-1].SetLineColor(f+1)\n",
    "        h[-1].SetTitle(title[f])\n",
    "        hs[-1].Add(h[-1])\n",
    "    hs[-1].Draw('histo nostack')\n",
    "    hs[-1].GetXaxis().SetTitle(f'Track position column {col} [cm]')\n",
    "    ROOT.gPad.BuildLegend()\n",
    "cl3.Draw()"
   ]
  },
  {
   "cell_type": "markdown",
   "metadata": {},
   "source": [
    "## Track position vs column"
   ]
  },
  {
   "cell_type": "code",
   "execution_count": null,
   "metadata": {},
   "outputs": [],
   "source": [
    "%jsroot on\n",
    "cw.Clear()\n",
    "cw.Divide(2)\n",
    "f = 2\n",
    "\n",
    "cw.cd(1)\n",
    "h = ROOT.TH2F('h', '', 300, -3., 3., 10, 10., 20.)\n",
    "file[f].outtree.Project('h', f'pad_y[][0]:100*clust_pos[]', 'pad_x[][] == 34')\n",
    "h.SetTitle(title[f])\n",
    "h.Draw('colz')\n",
    "h.GetYaxis().SetTitle(f'Cluster position [cm]')\n",
    "h.GetXaxis().SetTitle(f'Column')\n",
    "\n",
    "cw.cd(2)\n",
    "h2 = ROOT.TH2F('h2', '', 36, 0., 36., 200, -1., 1.)\n",
    "file[f].outtree.Project('h2', f'1000*(clust_pos[]-track_pos[]):pad_x[][]', '')\n",
    "h2.SetTitle(title[f])\n",
    "h2.Draw('colz')\n",
    "h2.GetYaxis().SetTitle('x_{cluster} - x_{fit} [mm]')\n",
    "h2.GetXaxis().SetTitle(f'Column')\n",
    "\n",
    "cw.Draw()"
   ]
  },
  {
   "cell_type": "code",
   "execution_count": null,
   "metadata": {},
   "outputs": [],
   "source": [
    "%jsroot on\n",
    "cw.Clear()\n",
    "cw.Divide(2)\n",
    "f = 2\n",
    "\n",
    "cw.cd(1)\n",
    "h = ROOT.TH2F('h', '', 36, 0., 36., 300, -3., 3.,)\n",
    "file[f].outtree.Project('h', f'100*clust_pos[]:pad_x[]', '')\n",
    "h.SetTitle(title[f])\n",
    "h.Draw('colz')\n",
    "h.GetYaxis().SetTitle(f'Cluster position [cm]')\n",
    "h.GetXaxis().SetTitle(f'Column')\n",
    "\n",
    "cw.cd(2)\n",
    "# fi= ROOT.TFile(path + f's_412_430_02T_iter7.root')\n",
    "# h2 = ROOT.TH2F('h2', '', 36, 0., 36., 300, -3., 3.,)\n",
    "\n",
    "# fi.outtree.Project('h2', f'100*clust_pos[]:pad_x[]', '')\n",
    "# h2.SetTitle(title[f])\n",
    "# h2.Draw('colz')\n",
    "# h2.GetYaxis().SetTitle(f'Cluster position [cm]')\n",
    "# h2.GetXaxis().SetTitle(f'Column')\n",
    "\n",
    "# cw.cd(2)\n",
    "# h2 = ROOT.TH2F('h2', '', 36, 0., 36., 200, -1., 1.)\n",
    "# file[f].outtree.Project('h2', f'1000*(clust_pos[]-track_pos[]):pad_x[][]', '')\n",
    "# h2.SetTitle(title[f])\n",
    "# h2.Draw('colz')\n",
    "# h2.GetYaxis().SetTitle('x_{cluster} - x_{fit} [mm]')\n",
    "# h2.GetXaxis().SetTitle(f'Column')\n",
    "\n",
    "cw.Draw()"
   ]
  },
  {
   "cell_type": "markdown",
   "metadata": {},
   "source": [
    "## residuals & PRF"
   ]
  },
  {
   "cell_type": "code",
   "execution_count": null,
   "metadata": {},
   "outputs": [],
   "source": [
    "cw.Clear()\n",
    "cw.Divide(2)\n",
    "\n",
    "file_id = 0\n",
    "\n",
    "cut = '&& (pad_x[][] == 10)'\n",
    "# cut = ' && pad_x[][] == 7 && (abs(track_pos[] - 0.0005) < 0.0005 || abs(track_pos[] + 0.0005) < 0.0005)'\n",
    "\n",
    "cw.cd(1)\n",
    "h = ROOT.TH1D('res', '', 200, -2., 2.)\n",
    "file[file_id].outtree.Project('res', '1e3*residual', 'residual != -999' + cut)\n",
    "h.Fit('gaus', '', '')\n",
    "h.Draw()\n",
    "\n",
    "cw.cd(2)\n",
    "h2 = ROOT.TH2D('prf', '', 180, -0.027, 0.027, 100, 0., 1.)\n",
    "file[file_id].outtree.Project('prf', 'qfrac[][]:dx[][]', 'dx[][] != -999' + cut)\n",
    "ROOT.gPad.SetGrid()\n",
    "h2.Draw('colz')\n",
    "\n",
    "cw.Draw()"
   ]
  },
  {
   "cell_type": "code",
   "execution_count": null,
   "metadata": {},
   "outputs": [],
   "source": [
    "c.cd()\n",
    "file_id = 0\n",
    "h = ROOT.TH1F('h', '', 100,  -0.035, 0.015)\n",
    "file[file_id].outtree.Project('h', 'track_pos', 'abs(track_pos[4] - 0.01) < 0.0005')\n",
    "h.Draw()\n",
    "c.Draw()"
   ]
  },
  {
   "cell_type": "code",
   "execution_count": null,
   "metadata": {},
   "outputs": [],
   "source": [
    "%jsroot on\n",
    "cw.Clear()\n",
    "cw.Divide(2)\n",
    "cw.cd(1)\n",
    "\n",
    "hs = ROOT.THStack()\n",
    "h = []\n",
    "for f in range(len(file)):\n",
    "    h.append(ROOT.TH1F('h', '', 200, -3., 3.))\n",
    "    file[f].outtree.Project('h', '100*(- track_pos[0] + track_pos[33])', 'track_pos[0] != -999')\n",
    "    h[-1].Scale(1./h[-1].Integral())\n",
    "    h[-1].SetLineColor(f+1)\n",
    "    h[-1].SetTitle(title[f])\n",
    "    hs.Add(h[-1])\n",
    "hs.Draw('histo nostack')\n",
    "hs.GetXaxis().SetTitle('Y_{start} - Y_{end} [cm]')\n",
    "ROOT.gPad.BuildLegend()\n",
    "\n",
    "cw.cd(2)\n",
    "\n",
    "hs2 = ROOT.THStack()\n",
    "h2 = []\n",
    "for f in range(len(file)):\n",
    "    h2.append(ROOT.TH1F('h2', '', 100, -3., 3.))\n",
    "    # radius = mom*16.67\n",
    "    file[f].outtree.Project('h2', '1000*(abs(mom)*16.67-sqrt(TMath::Power(mom*16.67, 2) - 0.34*0.34/4))*sign(mom)', 'abs(mom) < 20')\n",
    "    h2[-1].Scale(1./h[-1].Integral())\n",
    "    h2[-1].SetLineColor(f+1)\n",
    "    h2[-1].SetTitle(title[f])\n",
    "    hs2.Add(h2[-1])\n",
    "hs2.Draw('histo nostack')\n",
    "hs2.GetXaxis().SetTitle('Track curvature sagitta [mm]')\n",
    "ROOT.gPad.BuildLegend()\n",
    "\n",
    "cw.Draw()"
   ]
  },
  {
   "cell_type": "code",
   "execution_count": null,
   "metadata": {},
   "outputs": [],
   "source": [
    "c.cd()\n",
    "f = 0\n",
    "h = ROOT.TH2F('h', '', 200, -2., 1., 100, -0., 3.)\n",
    "file[f].outtree.Project('h', '100*(- track_pos[0] + track_pos[33]):1000*(abs(mom)*16.67-sqrt(TMath::Power(mom*16.67, 2) - 0.34*0.34/4))*sign(mom)', 'track_pos[0] != -999')\n",
    "\n",
    "h.GetYaxis().SetTitle('Y_{start} - Y_{end} [cm]')\n",
    "h.GetXaxis().SetTitle('Track curvature sagitta [mm]')\n",
    "h.Draw('colz')\n",
    "c.Draw()"
   ]
  },
  {
   "cell_type": "code",
   "execution_count": null,
   "metadata": {},
   "outputs": [],
   "source": [
    "cw.Clear()\n",
    "cw.Divide(2)\n",
    "\n",
    "file_id = 1\n",
    "cw.cd(1)\n",
    "h = ROOT.TH2F('h', '', 200, -3., 3., 100, -0.1, 0.1)\n",
    "file[file_id].outtree.Project('h', 'sina*sign(mom):100*(- track_pos[0] + track_pos[33])', '')\n",
    "h.Draw('colz')\n",
    "h.GetYaxis().SetTitle('sin(#alpha)')\n",
    "h.GetXaxis().SetTitle('Y_{start} - Y_{end} [cm]')\n",
    "\n",
    "cw.cd(2)\n",
    "h2 = ROOT.TH2F('h2', '', 200, -3., 3., 100, -20, 20)\n",
    "file[file_id].outtree.Project('h2', 'mom:100*(- track_pos[0] + track_pos[33])', '')\n",
    "h2.Draw('colz')\n",
    "\n",
    "cw.Draw()"
   ]
  },
  {
   "cell_type": "code",
   "execution_count": null,
   "metadata": {
    "scrolled": true
   },
   "outputs": [],
   "source": [
    "for entry in file[1].outtree:\n",
    "    if entry.sina > 0.02:\n",
    "        print(entry.ev)"
   ]
  },
  {
   "cell_type": "code",
   "execution_count": null,
   "metadata": {},
   "outputs": [],
   "source": [
    "path = '~/DATA/hs_para/'\n",
    "\n",
    "f = ROOT.TFile(path + 's_200_480_02T_iter9.root')\n",
    "\n",
    "h = ROOT.TH1F('h', '', 100, -0.03, 0.03)\n",
    "f.outtree.Project('h', '- track_pos[0] + track_pos[33]', 'track_pos[0] != -999')\n",
    "c.cd()\n",
    "h.Draw()\n",
    "c.Draw()"
   ]
  },
  {
   "cell_type": "markdown",
   "metadata": {},
   "source": [
    "### Position in the pad"
   ]
  },
  {
   "cell_type": "code",
   "execution_count": null,
   "metadata": {},
   "outputs": [],
   "source": [
    "%jsroot on\n",
    "\n",
    "cl.Clear()\n",
    "cl.Divide(2, 2)\n",
    "\n",
    "h = []\n",
    "hs = []\n",
    "\n",
    "for f in [0, 1, 2, 3]:\n",
    "    cl.cd(f+1)\n",
    "    hs.append(ROOT.THStack())\n",
    "    h.append(ROOT.TH1F('h', 'Cluster', 120, -0.6, 0.6))\n",
    "    file[f].outtree.Project('h', '1e2*fmod(clust_pos + 36*0.0102, 0.0102)-0.51', 'track_pos > -1')\n",
    "    h[-1].SetLineColor(ROOT.kRed)\n",
    "    hs[-1].Add(h[-1])\n",
    "    h.append(ROOT.TH1F('h1', 'Fit', 120, -0.6, 0.6))\n",
    "    file[f].outtree.Project('h1', '1e2*fmod(track_pos + 36*0.0102, 0.0102)-0.51', 'track_pos > -1')\n",
    "    h[-1].SetLineColor(ROOT.kBlue)\n",
    "    hs[-1].Add(h[-1])\n",
    "    hs[-1].Draw('nostack')\n",
    "    hs[-1].GetXaxis().SetTitle('Position in the pad[cm]')\n",
    "    ROOT.gPad.BuildLegend()\n",
    "\n",
    "# cw.cd(2)\n",
    "# h3 = ROOT.TH1F('h3', '', 100, -0.9, 0.9)\n",
    "# file[file_id].outtree.Project('h3', '1e2*dx', 'dx != -999')\n",
    "# h3.Draw()\n",
    "\n",
    "cl.Draw()"
   ]
  },
  {
   "cell_type": "markdown",
   "metadata": {},
   "source": [
    "## Angle"
   ]
  },
  {
   "cell_type": "code",
   "execution_count": null,
   "metadata": {},
   "outputs": [],
   "source": [
    "%jsroot on\n",
    "c.cd()\n",
    "h = []\n",
    "hs = ROOT.THStack('hs', '')\n",
    "for num, f in enumerate(file):\n",
    "    h.append(ROOT.TH1F(f'h_{num}', '', 360, 0., 180.))\n",
    "#     f.outtree.Project(f'h_{num}', 'asin(sina)*57')\n",
    "    f.outtree.Project(f'h_{num}', 'abs(atan(angle_xy)*57)')\n",
    "    hs.Add(h[-1])\n",
    "hs.Draw('hist nostack')\n",
    "c.Draw()"
   ]
  },
  {
   "cell_type": "code",
   "execution_count": null,
   "metadata": {},
   "outputs": [],
   "source": []
  }
 ],
 "metadata": {
  "kernelspec": {
   "display_name": "Python 3",
   "language": "python",
   "name": "python3"
  },
  "language_info": {
   "codemirror_mode": {
    "name": "ipython",
    "version": 3
   },
   "file_extension": ".py",
   "mimetype": "text/x-python",
   "name": "python",
   "nbconvert_exporter": "python",
   "pygments_lexer": "ipython3",
   "version": "3.9.6"
  }
 },
 "nbformat": 4,
 "nbformat_minor": 4
}
